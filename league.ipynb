{
 "cells": [
  {
   "cell_type": "markdown",
   "metadata": {},
   "source": [
    "# Summary of Findings\n",
    "\n",
    "\n",
    "### Introduction\n",
    "\n",
    "In this project, we have looked into the dataset of LOL games in 2022. Each row of the dataset is an observation on each champion of all the games in 2022. 12 rows are generated for each game, including 2 rows that summarize the data as the opposing teams in a match and 10 players' info. In this project, we mainly focus on studying the performance of each team or performance of different champions in this game. We first cleaned the data to prepare for later investigation and hypothesis test. We then use utilize Exploratory Data Analysis to obtain an insight on interesting aspects provided by the dateset, from which we wonder whether champions that are commonly banned have a higher winning chance than champions that are less banned. Based on this question, we create our hypothesis test and use the permutation test to draw conclusion.\n",
    "\n",
    "### Cleaning and EDA\n",
    "we took many approches when cleaning and exploring our data. To begin with we choose several interesting columns out of the 123 columns in total. We discovered that the data is unique as one game id correspond to 10 player columns and 2 team columns. From there we discovered many missing by design expercially when it comes to the team rows. We dive in to investigating date and calculated scores using existing columns. Additionally, we looked at the multiple ban columns and did intersting investigation. We looked into the relationship between firstblood of the team, total kills of the team, as well as whether the team won the game.\n",
    "\n",
    "### Assessment of Missingness\n",
    "\n",
    "The column of urls in the dataset has major missingness. We intitally speculate its missingness as a type of NMAR since its missing must relate to whether an actual url was created for a certain game. \n",
    "\n",
    "However, we utilized permutation teat to study whether a relationship exists between the missingness of urls and whether the match was one of the playoffs. Since the dataset is too large to create a reasonable sample distribution from shuffling the column, we sampled only 4000 matches from the entire dataset. We failed to reject the null, suggesting that the missingness is not associated with the fact whether the game is one of the playoffs, and the missingness should be MCAR instead of MAR. \n",
    "\n",
    "Further, we perfomed the permuation test to test the association between url missingness and whether the gameid contains a specifc string \"ESPORTSTMNT\". From the low p-value, we reject the null hypothesis and draw the conclusion that the missingness of urls is related to the whether the gameid contains \"ESPORTSTMNT\".\n",
    "\n",
    "\n",
    "\n",
    "### Hypothesis Test\n",
    "\n",
    "Exploring the data set we realized that there are several champions that were banned more often then others. This has led us to wonder whether using a commonly banned champion in a game effect the result of the game and the question: \n",
    "\n",
    "**Are commonly banned champions more likely to win a match?**\n",
    "\n",
    "To answer this question we set up a hypothesis test:\n",
    "- null hypothesis: commonly banned champion and other champions have the same lilelyness to win\n",
    "- alternativel hypothesis: commonly banned champions are more likely to win a game\n",
    "\n",
    "\n",
    "**setup**\n",
    "- Before we start, we have to identify the threshold to define commonly banned champs. To do so we looked at the banned rates of champions and decided to define commonly banned champs as one that has a ban rate >=20%. \n",
    "- Moving on, for the test statistic we choose to find the signed difference between the winning rates of these 2 groups. We chose to find the signed difference instead of unsign becasue our alternative hypothesis is that commonly banned champion have a higher chance of winning. With this test statistic it is expected that the bigger the test statistic the more we goes towards the alternative hypothesis. \n",
    "- For our obserbed test statistic we got a sign differnce bettwen winning rate of 0.0306\n",
    "- For the significant level we choose is 0.01, since we are dealing with a really big data set.\n",
    "\n",
    "**results**\n",
    "- the p value we got from running permutation tests is 0.00. \n",
    "- In conclustion, we reject the null at significasnt level 0.01.\n",
    "- Our data suggest that using commonly banned cham in a game is more likely to win the game.\n",
    "\n"
   ]
  },
  {
   "cell_type": "markdown",
   "metadata": {},
   "source": [
    "# Import\n",
    "import several packages and load data frame"
   ]
  },
  {
   "cell_type": "code",
   "execution_count": 1,
   "metadata": {
    "ExecuteTime": {
     "end_time": "2019-10-31T23:36:28.652554Z",
     "start_time": "2019-10-31T23:36:27.180520Z"
    }
   },
   "outputs": [],
   "source": [
    "import matplotlib.pyplot as plt\n",
    "import numpy as np\n",
    "import os\n",
    "import pandas as pd\n",
    "import seaborn as sns\n",
    "%matplotlib inline\n",
    "%config InlineBackend.figure_format = 'retina'  # Higher resolution figures\n",
    "import warnings\n",
    "warnings.filterwarnings('ignore')"
   ]
  },
  {
   "cell_type": "code",
   "execution_count": 2,
   "metadata": {},
   "outputs": [],
   "source": [
    "lol_2022= pd.read_csv(\"LOL_2022.csv\",low_memory=False)"
   ]
  },
  {
   "cell_type": "markdown",
   "metadata": {},
   "source": [
    "## Cleaning and EDA"
   ]
  },
  {
   "cell_type": "markdown",
   "metadata": {},
   "source": [
    "#### This is what ourdata looks like"
   ]
  },
  {
   "cell_type": "code",
   "execution_count": 3,
   "metadata": {},
   "outputs": [
    {
     "data": {
      "text/html": [
       "<div>\n",
       "<style scoped>\n",
       "    .dataframe tbody tr th:only-of-type {\n",
       "        vertical-align: middle;\n",
       "    }\n",
       "\n",
       "    .dataframe tbody tr th {\n",
       "        vertical-align: top;\n",
       "    }\n",
       "\n",
       "    .dataframe thead th {\n",
       "        text-align: right;\n",
       "    }\n",
       "</style>\n",
       "<table border=\"1\" class=\"dataframe\">\n",
       "  <thead>\n",
       "    <tr style=\"text-align: right;\">\n",
       "      <th></th>\n",
       "      <th>gameid</th>\n",
       "      <th>datacompleteness</th>\n",
       "      <th>url</th>\n",
       "      <th>league</th>\n",
       "      <th>year</th>\n",
       "      <th>split</th>\n",
       "      <th>playoffs</th>\n",
       "      <th>date</th>\n",
       "      <th>game</th>\n",
       "      <th>patch</th>\n",
       "      <th>...</th>\n",
       "      <th>opp_csat15</th>\n",
       "      <th>golddiffat15</th>\n",
       "      <th>xpdiffat15</th>\n",
       "      <th>csdiffat15</th>\n",
       "      <th>killsat15</th>\n",
       "      <th>assistsat15</th>\n",
       "      <th>deathsat15</th>\n",
       "      <th>opp_killsat15</th>\n",
       "      <th>opp_assistsat15</th>\n",
       "      <th>opp_deathsat15</th>\n",
       "    </tr>\n",
       "  </thead>\n",
       "  <tbody>\n",
       "    <tr>\n",
       "      <th>0</th>\n",
       "      <td>ESPORTSTMNT01_2690210</td>\n",
       "      <td>complete</td>\n",
       "      <td>NaN</td>\n",
       "      <td>LCK CL</td>\n",
       "      <td>2022</td>\n",
       "      <td>Spring</td>\n",
       "      <td>0</td>\n",
       "      <td>2022-01-10 07:44:08</td>\n",
       "      <td>1</td>\n",
       "      <td>12.01</td>\n",
       "      <td>...</td>\n",
       "      <td>121.0</td>\n",
       "      <td>391.0</td>\n",
       "      <td>345.0</td>\n",
       "      <td>14.0</td>\n",
       "      <td>0.0</td>\n",
       "      <td>1.0</td>\n",
       "      <td>0.0</td>\n",
       "      <td>0.0</td>\n",
       "      <td>1.0</td>\n",
       "      <td>0.0</td>\n",
       "    </tr>\n",
       "    <tr>\n",
       "      <th>1</th>\n",
       "      <td>ESPORTSTMNT01_2690210</td>\n",
       "      <td>complete</td>\n",
       "      <td>NaN</td>\n",
       "      <td>LCK CL</td>\n",
       "      <td>2022</td>\n",
       "      <td>Spring</td>\n",
       "      <td>0</td>\n",
       "      <td>2022-01-10 07:44:08</td>\n",
       "      <td>1</td>\n",
       "      <td>12.01</td>\n",
       "      <td>...</td>\n",
       "      <td>100.0</td>\n",
       "      <td>541.0</td>\n",
       "      <td>-275.0</td>\n",
       "      <td>-11.0</td>\n",
       "      <td>2.0</td>\n",
       "      <td>3.0</td>\n",
       "      <td>2.0</td>\n",
       "      <td>0.0</td>\n",
       "      <td>5.0</td>\n",
       "      <td>1.0</td>\n",
       "    </tr>\n",
       "    <tr>\n",
       "      <th>2</th>\n",
       "      <td>ESPORTSTMNT01_2690210</td>\n",
       "      <td>complete</td>\n",
       "      <td>NaN</td>\n",
       "      <td>LCK CL</td>\n",
       "      <td>2022</td>\n",
       "      <td>Spring</td>\n",
       "      <td>0</td>\n",
       "      <td>2022-01-10 07:44:08</td>\n",
       "      <td>1</td>\n",
       "      <td>12.01</td>\n",
       "      <td>...</td>\n",
       "      <td>119.0</td>\n",
       "      <td>-475.0</td>\n",
       "      <td>153.0</td>\n",
       "      <td>1.0</td>\n",
       "      <td>0.0</td>\n",
       "      <td>3.0</td>\n",
       "      <td>0.0</td>\n",
       "      <td>3.0</td>\n",
       "      <td>3.0</td>\n",
       "      <td>2.0</td>\n",
       "    </tr>\n",
       "  </tbody>\n",
       "</table>\n",
       "<p>3 rows × 123 columns</p>\n",
       "</div>"
      ],
      "text/plain": [
       "                  gameid datacompleteness  url  league  year   split  \\\n",
       "0  ESPORTSTMNT01_2690210         complete  NaN  LCK CL  2022  Spring   \n",
       "1  ESPORTSTMNT01_2690210         complete  NaN  LCK CL  2022  Spring   \n",
       "2  ESPORTSTMNT01_2690210         complete  NaN  LCK CL  2022  Spring   \n",
       "\n",
       "   playoffs                 date  game  patch  ...  opp_csat15 golddiffat15  \\\n",
       "0         0  2022-01-10 07:44:08     1  12.01  ...       121.0        391.0   \n",
       "1         0  2022-01-10 07:44:08     1  12.01  ...       100.0        541.0   \n",
       "2         0  2022-01-10 07:44:08     1  12.01  ...       119.0       -475.0   \n",
       "\n",
       "  xpdiffat15 csdiffat15 killsat15 assistsat15 deathsat15 opp_killsat15  \\\n",
       "0      345.0       14.0       0.0         1.0        0.0           0.0   \n",
       "1     -275.0      -11.0       2.0         3.0        2.0           0.0   \n",
       "2      153.0        1.0       0.0         3.0        0.0           3.0   \n",
       "\n",
       "  opp_assistsat15 opp_deathsat15  \n",
       "0             1.0            0.0  \n",
       "1             5.0            1.0  \n",
       "2             3.0            2.0  \n",
       "\n",
       "[3 rows x 123 columns]"
      ]
     },
     "execution_count": 3,
     "metadata": {},
     "output_type": "execute_result"
    }
   ],
   "source": [
    "lol_2022.head(3)"
   ]
  },
  {
   "cell_type": "markdown",
   "metadata": {},
   "source": [
    "#### Lets take a look at the data"
   ]
  },
  {
   "cell_type": "code",
   "execution_count": 4,
   "metadata": {},
   "outputs": [
    {
     "data": {
      "text/plain": [
       "(146688, 123)"
      ]
     },
     "execution_count": 4,
     "metadata": {},
     "output_type": "execute_result"
    }
   ],
   "source": [
    "# the shape of the data is 146688 rows and 123\n",
    "lol_2022.shape"
   ]
  },
  {
   "cell_type": "code",
   "execution_count": 5,
   "metadata": {},
   "outputs": [
    {
     "data": {
      "text/plain": [
       "Index(['gameid', 'datacompleteness', 'url', 'league', 'year', 'split',\n",
       "       'playoffs', 'date', 'game', 'patch',\n",
       "       ...\n",
       "       'opp_csat15', 'golddiffat15', 'xpdiffat15', 'csdiffat15', 'killsat15',\n",
       "       'assistsat15', 'deathsat15', 'opp_killsat15', 'opp_assistsat15',\n",
       "       'opp_deathsat15'],\n",
       "      dtype='object', length=123)"
      ]
     },
     "execution_count": 5,
     "metadata": {},
     "output_type": "execute_result"
    }
   ],
   "source": [
    "# The coloumns of the data looks like \n",
    "lol_2022.columns"
   ]
  },
  {
   "cell_type": "code",
   "execution_count": 6,
   "metadata": {
    "ExecuteTime": {
     "end_time": "2019-10-31T23:36:28.657068Z",
     "start_time": "2019-10-31T23:36:28.654650Z"
    },
    "scrolled": false
   },
   "outputs": [
    {
     "data": {
      "text/html": [
       "<div>\n",
       "<style scoped>\n",
       "    .dataframe tbody tr th:only-of-type {\n",
       "        vertical-align: middle;\n",
       "    }\n",
       "\n",
       "    .dataframe tbody tr th {\n",
       "        vertical-align: top;\n",
       "    }\n",
       "\n",
       "    .dataframe thead th {\n",
       "        text-align: right;\n",
       "    }\n",
       "</style>\n",
       "<table border=\"1\" class=\"dataframe\">\n",
       "  <thead>\n",
       "    <tr style=\"text-align: right;\">\n",
       "      <th></th>\n",
       "      <th>gameid</th>\n",
       "      <th>playoffs</th>\n",
       "      <th>url</th>\n",
       "      <th>side</th>\n",
       "      <th>position</th>\n",
       "      <th>date</th>\n",
       "      <th>league</th>\n",
       "      <th>playername</th>\n",
       "      <th>teamname</th>\n",
       "      <th>champion</th>\n",
       "      <th>teamkills</th>\n",
       "      <th>result</th>\n",
       "      <th>ban1</th>\n",
       "      <th>ban2</th>\n",
       "      <th>ban3</th>\n",
       "      <th>ban4</th>\n",
       "      <th>ban5</th>\n",
       "      <th>firstblood</th>\n",
       "      <th>firstbloodkill</th>\n",
       "    </tr>\n",
       "  </thead>\n",
       "  <tbody>\n",
       "    <tr>\n",
       "      <th>0</th>\n",
       "      <td>ESPORTSTMNT01_2690210</td>\n",
       "      <td>0</td>\n",
       "      <td>NaN</td>\n",
       "      <td>Blue</td>\n",
       "      <td>top</td>\n",
       "      <td>2022-01-10 07:44:08</td>\n",
       "      <td>LCK CL</td>\n",
       "      <td>Soboro</td>\n",
       "      <td>Fredit BRION Challengers</td>\n",
       "      <td>Renekton</td>\n",
       "      <td>9</td>\n",
       "      <td>0</td>\n",
       "      <td>Karma</td>\n",
       "      <td>Caitlyn</td>\n",
       "      <td>Syndra</td>\n",
       "      <td>Thresh</td>\n",
       "      <td>Lulu</td>\n",
       "      <td>0.0</td>\n",
       "      <td>0.0</td>\n",
       "    </tr>\n",
       "    <tr>\n",
       "      <th>1</th>\n",
       "      <td>ESPORTSTMNT01_2690210</td>\n",
       "      <td>0</td>\n",
       "      <td>NaN</td>\n",
       "      <td>Blue</td>\n",
       "      <td>jng</td>\n",
       "      <td>2022-01-10 07:44:08</td>\n",
       "      <td>LCK CL</td>\n",
       "      <td>Raptor</td>\n",
       "      <td>Fredit BRION Challengers</td>\n",
       "      <td>Xin Zhao</td>\n",
       "      <td>9</td>\n",
       "      <td>0</td>\n",
       "      <td>Karma</td>\n",
       "      <td>Caitlyn</td>\n",
       "      <td>Syndra</td>\n",
       "      <td>Thresh</td>\n",
       "      <td>Lulu</td>\n",
       "      <td>1.0</td>\n",
       "      <td>0.0</td>\n",
       "    </tr>\n",
       "    <tr>\n",
       "      <th>2</th>\n",
       "      <td>ESPORTSTMNT01_2690210</td>\n",
       "      <td>0</td>\n",
       "      <td>NaN</td>\n",
       "      <td>Blue</td>\n",
       "      <td>mid</td>\n",
       "      <td>2022-01-10 07:44:08</td>\n",
       "      <td>LCK CL</td>\n",
       "      <td>Feisty</td>\n",
       "      <td>Fredit BRION Challengers</td>\n",
       "      <td>LeBlanc</td>\n",
       "      <td>9</td>\n",
       "      <td>0</td>\n",
       "      <td>Karma</td>\n",
       "      <td>Caitlyn</td>\n",
       "      <td>Syndra</td>\n",
       "      <td>Thresh</td>\n",
       "      <td>Lulu</td>\n",
       "      <td>0.0</td>\n",
       "      <td>0.0</td>\n",
       "    </tr>\n",
       "  </tbody>\n",
       "</table>\n",
       "</div>"
      ],
      "text/plain": [
       "                  gameid  playoffs  url  side position                date  \\\n",
       "0  ESPORTSTMNT01_2690210         0  NaN  Blue      top 2022-01-10 07:44:08   \n",
       "1  ESPORTSTMNT01_2690210         0  NaN  Blue      jng 2022-01-10 07:44:08   \n",
       "2  ESPORTSTMNT01_2690210         0  NaN  Blue      mid 2022-01-10 07:44:08   \n",
       "\n",
       "   league playername                  teamname  champion  teamkills  result  \\\n",
       "0  LCK CL     Soboro  Fredit BRION Challengers  Renekton          9       0   \n",
       "1  LCK CL     Raptor  Fredit BRION Challengers  Xin Zhao          9       0   \n",
       "2  LCK CL     Feisty  Fredit BRION Challengers   LeBlanc          9       0   \n",
       "\n",
       "    ban1     ban2    ban3    ban4  ban5  firstblood  firstbloodkill  \n",
       "0  Karma  Caitlyn  Syndra  Thresh  Lulu         0.0             0.0  \n",
       "1  Karma  Caitlyn  Syndra  Thresh  Lulu         1.0             0.0  \n",
       "2  Karma  Caitlyn  Syndra  Thresh  Lulu         0.0             0.0  "
      ]
     },
     "execution_count": 6,
     "metadata": {},
     "output_type": "execute_result"
    }
   ],
   "source": [
    "# we choose several columns we were interested in by lookimng at the df's columns)\n",
    "clean=[\"gameid\",\"playoffs\",\"url\",\"side\",\"position\",\"date\",\"league\",\"playername\",\"teamname\",\"champion\",\"teamkills\",\"result\",\"ban1\",\"ban2\",\"ban3\",\"ban4\",\"ban5\",\"firstblood\",\"firstbloodkill\"]\n",
    "lol_2022_clean=lol_2022[clean]\n",
    "lol_2022_clean['date']=pd.to_datetime(lol_2022_clean[\"date\"])\n",
    "lol_2022_clean.head(3)\n"
   ]
  },
  {
   "cell_type": "markdown",
   "metadata": {},
   "source": [
    "#### Plotting interesting columns:"
   ]
  },
  {
   "cell_type": "code",
   "execution_count": 7,
   "metadata": {},
   "outputs": [
    {
     "data": {
      "text/plain": [
       "<AxesSubplot:title={'center':'cumalative games in 2022'}>"
      ]
     },
     "execution_count": 7,
     "metadata": {},
     "output_type": "execute_result"
    },
    {
     "data": {
      "image/png": "[encoded data removed]",
      "text/plain": [
       "<Figure size 432x288 with 1 Axes>"
      ]
     },
     "metadata": {
      "image/png": {
       "height": 263,
       "width": 398
      },
      "needs_background": "light"
     },
     "output_type": "display_data"
    }
   ],
   "source": [
    "lol_2022_clean[\"date\"].plot(title = \"cumalative games in 2022\")"
   ]
  },
  {
   "cell_type": "markdown",
   "metadata": {},
   "source": [
    "Observation: we see from the cumalative games plot that there are some interesting trend in the number of games played in differnt months. we can see that there is a increase amount of games played around may and october. we speculated that this might be because of the sesonal competitions."
   ]
  },
  {
   "cell_type": "markdown",
   "metadata": {},
   "source": [
    "#### Investigating socre:"
   ]
  },
  {
   "cell_type": "markdown",
   "metadata": {},
   "source": [
    "we obsertved that each game has one unique gameid, 10 players columns and 2 summary of the performace of each team. Therfore for each unique game we have 12 rows. Shown above that there are missing data in the champion columns of the dataset. We belive this is missing by design becasuse team doesnt have champions. Instead it is all disoplayed under player rows. "
   ]
  },
  {
   "cell_type": "code",
   "execution_count": 8,
   "metadata": {
    "scrolled": false
   },
   "outputs": [
    {
     "data": {
      "text/html": [
       "<div>\n",
       "<style scoped>\n",
       "    .dataframe tbody tr th:only-of-type {\n",
       "        vertical-align: middle;\n",
       "    }\n",
       "\n",
       "    .dataframe tbody tr th {\n",
       "        vertical-align: top;\n",
       "    }\n",
       "\n",
       "    .dataframe thead th {\n",
       "        text-align: right;\n",
       "    }\n",
       "</style>\n",
       "<table border=\"1\" class=\"dataframe\">\n",
       "  <thead>\n",
       "    <tr style=\"text-align: right;\">\n",
       "      <th></th>\n",
       "      <th>champion</th>\n",
       "      <th>kills</th>\n",
       "      <th>deaths</th>\n",
       "      <th>assists</th>\n",
       "    </tr>\n",
       "  </thead>\n",
       "  <tbody>\n",
       "    <tr>\n",
       "      <th>0</th>\n",
       "      <td>Renekton</td>\n",
       "      <td>2</td>\n",
       "      <td>3</td>\n",
       "      <td>2</td>\n",
       "    </tr>\n",
       "    <tr>\n",
       "      <th>1</th>\n",
       "      <td>Xin Zhao</td>\n",
       "      <td>2</td>\n",
       "      <td>5</td>\n",
       "      <td>6</td>\n",
       "    </tr>\n",
       "    <tr>\n",
       "      <th>2</th>\n",
       "      <td>LeBlanc</td>\n",
       "      <td>2</td>\n",
       "      <td>2</td>\n",
       "      <td>3</td>\n",
       "    </tr>\n",
       "    <tr>\n",
       "      <th>3</th>\n",
       "      <td>Samira</td>\n",
       "      <td>2</td>\n",
       "      <td>4</td>\n",
       "      <td>2</td>\n",
       "    </tr>\n",
       "    <tr>\n",
       "      <th>4</th>\n",
       "      <td>Leona</td>\n",
       "      <td>1</td>\n",
       "      <td>5</td>\n",
       "      <td>6</td>\n",
       "    </tr>\n",
       "    <tr>\n",
       "      <th>5</th>\n",
       "      <td>Gragas</td>\n",
       "      <td>1</td>\n",
       "      <td>1</td>\n",
       "      <td>12</td>\n",
       "    </tr>\n",
       "    <tr>\n",
       "      <th>6</th>\n",
       "      <td>Viego</td>\n",
       "      <td>4</td>\n",
       "      <td>1</td>\n",
       "      <td>10</td>\n",
       "    </tr>\n",
       "    <tr>\n",
       "      <th>7</th>\n",
       "      <td>Viktor</td>\n",
       "      <td>6</td>\n",
       "      <td>3</td>\n",
       "      <td>12</td>\n",
       "    </tr>\n",
       "    <tr>\n",
       "      <th>8</th>\n",
       "      <td>Jinx</td>\n",
       "      <td>8</td>\n",
       "      <td>2</td>\n",
       "      <td>10</td>\n",
       "    </tr>\n",
       "    <tr>\n",
       "      <th>9</th>\n",
       "      <td>Alistar</td>\n",
       "      <td>0</td>\n",
       "      <td>2</td>\n",
       "      <td>18</td>\n",
       "    </tr>\n",
       "    <tr>\n",
       "      <th>10</th>\n",
       "      <td>NaN</td>\n",
       "      <td>9</td>\n",
       "      <td>19</td>\n",
       "      <td>19</td>\n",
       "    </tr>\n",
       "    <tr>\n",
       "      <th>11</th>\n",
       "      <td>NaN</td>\n",
       "      <td>19</td>\n",
       "      <td>9</td>\n",
       "      <td>62</td>\n",
       "    </tr>\n",
       "  </tbody>\n",
       "</table>\n",
       "</div>"
      ],
      "text/plain": [
       "    champion  kills  deaths  assists\n",
       "0   Renekton      2       3        2\n",
       "1   Xin Zhao      2       5        6\n",
       "2    LeBlanc      2       2        3\n",
       "3     Samira      2       4        2\n",
       "4      Leona      1       5        6\n",
       "5     Gragas      1       1       12\n",
       "6      Viego      4       1       10\n",
       "7     Viktor      6       3       12\n",
       "8       Jinx      8       2       10\n",
       "9    Alistar      0       2       18\n",
       "10       NaN      9      19       19\n",
       "11       NaN     19       9       62"
      ]
     },
     "execution_count": 8,
     "metadata": {},
     "output_type": "execute_result"
    }
   ],
   "source": [
    "inv_score=lol_2022[[\"champion\",\"kills\",\"deaths\",\"assists\"]]\n",
    "inv_score[0:12]"
   ]
  },
  {
   "cell_type": "markdown",
   "metadata": {},
   "source": [
    "Given the explination above we can drop missing data by applying .dropna()"
   ]
  },
  {
   "cell_type": "code",
   "execution_count": 9,
   "metadata": {},
   "outputs": [
    {
     "data": {
      "text/html": [
       "<div>\n",
       "<style scoped>\n",
       "    .dataframe tbody tr th:only-of-type {\n",
       "        vertical-align: middle;\n",
       "    }\n",
       "\n",
       "    .dataframe tbody tr th {\n",
       "        vertical-align: top;\n",
       "    }\n",
       "\n",
       "    .dataframe thead th {\n",
       "        text-align: right;\n",
       "    }\n",
       "</style>\n",
       "<table border=\"1\" class=\"dataframe\">\n",
       "  <thead>\n",
       "    <tr style=\"text-align: right;\">\n",
       "      <th></th>\n",
       "      <th>champion</th>\n",
       "      <th>kills</th>\n",
       "      <th>deaths</th>\n",
       "      <th>assists</th>\n",
       "    </tr>\n",
       "  </thead>\n",
       "  <tbody>\n",
       "    <tr>\n",
       "      <th>0</th>\n",
       "      <td>Renekton</td>\n",
       "      <td>2</td>\n",
       "      <td>3</td>\n",
       "      <td>2</td>\n",
       "    </tr>\n",
       "    <tr>\n",
       "      <th>1</th>\n",
       "      <td>Xin Zhao</td>\n",
       "      <td>2</td>\n",
       "      <td>5</td>\n",
       "      <td>6</td>\n",
       "    </tr>\n",
       "    <tr>\n",
       "      <th>2</th>\n",
       "      <td>LeBlanc</td>\n",
       "      <td>2</td>\n",
       "      <td>2</td>\n",
       "      <td>3</td>\n",
       "    </tr>\n",
       "  </tbody>\n",
       "</table>\n",
       "</div>"
      ],
      "text/plain": [
       "   champion  kills  deaths  assists\n",
       "0  Renekton      2       3        2\n",
       "1  Xin Zhao      2       5        6\n",
       "2   LeBlanc      2       2        3"
      ]
     },
     "execution_count": 9,
     "metadata": {},
     "output_type": "execute_result"
    }
   ],
   "source": [
    "inv_score=inv_score.dropna()\n",
    "inv_score.head(3)"
   ]
  },
  {
   "cell_type": "markdown",
   "metadata": {},
   "source": [
    "We want to manually create a \"score\" using datas in the kills death and assists columns:\n",
    "we will count kills as 5 points, death as -3 and assist as 2 points"
   ]
  },
  {
   "cell_type": "code",
   "execution_count": 10,
   "metadata": {
    "scrolled": true
   },
   "outputs": [
    {
     "data": {
      "text/html": [
       "<div>\n",
       "<style scoped>\n",
       "    .dataframe tbody tr th:only-of-type {\n",
       "        vertical-align: middle;\n",
       "    }\n",
       "\n",
       "    .dataframe tbody tr th {\n",
       "        vertical-align: top;\n",
       "    }\n",
       "\n",
       "    .dataframe thead th {\n",
       "        text-align: right;\n",
       "    }\n",
       "</style>\n",
       "<table border=\"1\" class=\"dataframe\">\n",
       "  <thead>\n",
       "    <tr style=\"text-align: right;\">\n",
       "      <th></th>\n",
       "      <th>champion</th>\n",
       "      <th>kills</th>\n",
       "      <th>deaths</th>\n",
       "      <th>assists</th>\n",
       "      <th>score</th>\n",
       "    </tr>\n",
       "  </thead>\n",
       "  <tbody>\n",
       "    <tr>\n",
       "      <th>0</th>\n",
       "      <td>Renekton</td>\n",
       "      <td>2</td>\n",
       "      <td>3</td>\n",
       "      <td>2</td>\n",
       "      <td>5</td>\n",
       "    </tr>\n",
       "    <tr>\n",
       "      <th>1</th>\n",
       "      <td>Xin Zhao</td>\n",
       "      <td>2</td>\n",
       "      <td>5</td>\n",
       "      <td>6</td>\n",
       "      <td>7</td>\n",
       "    </tr>\n",
       "    <tr>\n",
       "      <th>2</th>\n",
       "      <td>LeBlanc</td>\n",
       "      <td>2</td>\n",
       "      <td>2</td>\n",
       "      <td>3</td>\n",
       "      <td>10</td>\n",
       "    </tr>\n",
       "  </tbody>\n",
       "</table>\n",
       "</div>"
      ],
      "text/plain": [
       "   champion  kills  deaths  assists  score\n",
       "0  Renekton      2       3        2      5\n",
       "1  Xin Zhao      2       5        6      7\n",
       "2   LeBlanc      2       2        3     10"
      ]
     },
     "execution_count": 10,
     "metadata": {},
     "output_type": "execute_result"
    }
   ],
   "source": [
    "inv_score[\"score\"]=(inv_score[\"kills\"]*5)+(inv_score[\"deaths\"]*-3)+(inv_score[\"assists\"]*2)\n",
    "inv_score.head(3)"
   ]
  },
  {
   "cell_type": "code",
   "execution_count": 11,
   "metadata": {},
   "outputs": [
    {
     "data": {
      "text/plain": [
       "(array([1.5400e+02, 1.7112e+04, 4.0551e+04, 3.7164e+04, 2.0230e+04,\n",
       "        5.8710e+03, 1.0090e+03, 1.2500e+02, 1.7000e+01, 7.0000e+00]),\n",
       " array([-38. , -20.1,  -2.2,  15.7,  33.6,  51.5,  69.4,  87.3, 105.2,\n",
       "        123.1, 141. ]),\n",
       " <BarContainer object of 10 artists>)"
      ]
     },
     "execution_count": 11,
     "metadata": {},
     "output_type": "execute_result"
    },
    {
     "data": {
      "image/png": "[encoded data removed]",
      "text/plain": [
       "<Figure size 432x288 with 1 Axes>"
      ]
     },
     "metadata": {
      "image/png": {
       "height": 248,
       "width": 388
      },
      "needs_background": "light"
     },
     "output_type": "display_data"
    }
   ],
   "source": [
    "# plot our scores distribution\n",
    "plt.hist(inv_score[\"score\"],ec=\"w\")"
   ]
  },
  {
   "cell_type": "markdown",
   "metadata": {},
   "source": [
    "\n",
    "### Univariate Analysis: investigating ban data"
   ]
  },
  {
   "cell_type": "code",
   "execution_count": 12,
   "metadata": {
    "scrolled": true
   },
   "outputs": [
    {
     "data": {
      "text/html": [
       "<div>\n",
       "<style scoped>\n",
       "    .dataframe tbody tr th:only-of-type {\n",
       "        vertical-align: middle;\n",
       "    }\n",
       "\n",
       "    .dataframe tbody tr th {\n",
       "        vertical-align: top;\n",
       "    }\n",
       "\n",
       "    .dataframe thead th {\n",
       "        text-align: right;\n",
       "    }\n",
       "</style>\n",
       "<table border=\"1\" class=\"dataframe\">\n",
       "  <thead>\n",
       "    <tr style=\"text-align: right;\">\n",
       "      <th></th>\n",
       "      <th>ban</th>\n",
       "    </tr>\n",
       "  </thead>\n",
       "  <tbody>\n",
       "    <tr>\n",
       "      <th>0</th>\n",
       "      <td>Karma</td>\n",
       "    </tr>\n",
       "    <tr>\n",
       "      <th>1</th>\n",
       "      <td>Lee Sin</td>\n",
       "    </tr>\n",
       "    <tr>\n",
       "      <th>2</th>\n",
       "      <td>Sona</td>\n",
       "    </tr>\n",
       "  </tbody>\n",
       "</table>\n",
       "</div>"
      ],
      "text/plain": [
       "       ban\n",
       "0    Karma\n",
       "1  Lee Sin\n",
       "2     Sona"
      ]
     },
     "execution_count": 12,
     "metadata": {},
     "output_type": "execute_result"
    }
   ],
   "source": [
    "# ban_df contians all banned hero form all games in this year\n",
    "all_ban=lol_2022[lol_2022['position'] == 'team'][['ban1','ban2','ban3','ban4','ban5']]\n",
    "ban_list=list(all_ban[\"ban1\"])+list(all_ban[\"ban2\"])+list(all_ban[\"ban3\"])+list(all_ban[\"ban4\"])+list(all_ban[\"ban5\"])\n",
    "ban_df=pd.DataFrame(ban_list).dropna()\n",
    "ban_df=ban_df.rename(columns={0: \"ban\"})\n",
    "ban_df.head(3)"
   ]
  },
  {
   "cell_type": "markdown",
   "metadata": {},
   "source": [
    "#### plot a interesting pivot table"
   ]
  },
  {
   "cell_type": "code",
   "execution_count": 13,
   "metadata": {},
   "outputs": [
    {
     "data": {
      "text/html": [
       "<div>\n",
       "<style scoped>\n",
       "    .dataframe tbody tr th:only-of-type {\n",
       "        vertical-align: middle;\n",
       "    }\n",
       "\n",
       "    .dataframe tbody tr th {\n",
       "        vertical-align: top;\n",
       "    }\n",
       "\n",
       "    .dataframe thead th {\n",
       "        text-align: right;\n",
       "    }\n",
       "</style>\n",
       "<table border=\"1\" class=\"dataframe\">\n",
       "  <thead>\n",
       "    <tr style=\"text-align: right;\">\n",
       "      <th></th>\n",
       "      <th>banned_count</th>\n",
       "    </tr>\n",
       "    <tr>\n",
       "      <th>ban</th>\n",
       "      <th></th>\n",
       "    </tr>\n",
       "  </thead>\n",
       "  <tbody>\n",
       "    <tr>\n",
       "      <th>Zeri</th>\n",
       "      <td>4639</td>\n",
       "    </tr>\n",
       "    <tr>\n",
       "      <th>Gwen</th>\n",
       "      <td>4196</td>\n",
       "    </tr>\n",
       "    <tr>\n",
       "      <th>LeBlanc</th>\n",
       "      <td>2891</td>\n",
       "    </tr>\n",
       "  </tbody>\n",
       "</table>\n",
       "</div>"
      ],
      "text/plain": [
       "         banned_count\n",
       "ban                  \n",
       "Zeri             4639\n",
       "Gwen             4196\n",
       "LeBlanc          2891"
      ]
     },
     "execution_count": 13,
     "metadata": {},
     "output_type": "execute_result"
    }
   ],
   "source": [
    "ban_value_count=pd.DataFrame(ban_df.value_counts())\n",
    "ban_value_count=ban_value_count.rename(columns={0:\"banned_count\"})\n",
    "ban_value_count.head(3)"
   ]
  },
  {
   "cell_type": "code",
   "execution_count": 14,
   "metadata": {},
   "outputs": [
    {
     "data": {
      "text/html": [
       "<div>\n",
       "<style scoped>\n",
       "    .dataframe tbody tr th:only-of-type {\n",
       "        vertical-align: middle;\n",
       "    }\n",
       "\n",
       "    .dataframe tbody tr th {\n",
       "        vertical-align: top;\n",
       "    }\n",
       "\n",
       "    .dataframe thead th {\n",
       "        text-align: right;\n",
       "    }\n",
       "</style>\n",
       "<table border=\"1\" class=\"dataframe\">\n",
       "  <thead>\n",
       "    <tr style=\"text-align: right;\">\n",
       "      <th></th>\n",
       "      <th>ban</th>\n",
       "    </tr>\n",
       "  </thead>\n",
       "  <tbody>\n",
       "    <tr>\n",
       "      <th>Zeri</th>\n",
       "      <td>0.379499</td>\n",
       "    </tr>\n",
       "    <tr>\n",
       "      <th>Gwen</th>\n",
       "      <td>0.343259</td>\n",
       "    </tr>\n",
       "    <tr>\n",
       "      <th>LeBlanc</th>\n",
       "      <td>0.236502</td>\n",
       "    </tr>\n",
       "  </tbody>\n",
       "</table>\n",
       "</div>"
      ],
      "text/plain": [
       "              ban\n",
       "Zeri     0.379499\n",
       "Gwen     0.343259\n",
       "LeBlanc  0.236502"
      ]
     },
     "execution_count": 14,
     "metadata": {},
     "output_type": "execute_result"
    }
   ],
   "source": [
    "#ban_rate shows the calsulated ban rate of champions\n",
    "num_games=len(ban_list)/10\n",
    "ban_rate=pd.DataFrame(ban_df[\"ban\"].value_counts()/num_games)\n",
    "ban_rate.head(3)"
   ]
  },
  {
   "cell_type": "code",
   "execution_count": 15,
   "metadata": {},
   "outputs": [
    {
     "data": {
      "text/plain": [
       "<AxesSubplot:title={'center':\"champion's ban_rate\"}>"
      ]
     },
     "execution_count": 15,
     "metadata": {},
     "output_type": "execute_result"
    },
    {
     "data": {
      "image/png": "[encoded data removed]",
      "text/plain": [
       "<Figure size 432x288 with 1 Axes>"
      ]
     },
     "metadata": {
      "image/png": {
       "height": 294,
       "width": 378
      },
      "needs_background": "light"
     },
     "output_type": "display_data"
    }
   ],
   "source": [
    "ban_rate[:10].plot(kind=\"bar\",title=\"champion's ban_rate\")"
   ]
  },
  {
   "cell_type": "code",
   "execution_count": 16,
   "metadata": {},
   "outputs": [],
   "source": [
    "commonly_banned=list(ban_rate[ban_rate[\"ban\"]>=0.2].index)\n",
    "# >>> commonly_banned\n",
    "# >>> ['Zeri','Gwen','LeBlanc','Lucian','Ahri','Kalista','Wukong','Yuumi','Akali']"
   ]
  },
  {
   "cell_type": "markdown",
   "metadata": {},
   "source": [
    "### Bivariante Analysis \n"
   ]
  },
  {
   "cell_type": "code",
   "execution_count": 17,
   "metadata": {
    "scrolled": true
   },
   "outputs": [
    {
     "data": {
      "text/html": [
       "<div>\n",
       "<style scoped>\n",
       "    .dataframe tbody tr th:only-of-type {\n",
       "        vertical-align: middle;\n",
       "    }\n",
       "\n",
       "    .dataframe tbody tr th {\n",
       "        vertical-align: top;\n",
       "    }\n",
       "\n",
       "    .dataframe thead th {\n",
       "        text-align: right;\n",
       "    }\n",
       "</style>\n",
       "<table border=\"1\" class=\"dataframe\">\n",
       "  <thead>\n",
       "    <tr style=\"text-align: right;\">\n",
       "      <th></th>\n",
       "      <th>firstblood</th>\n",
       "      <th>teamkills</th>\n",
       "      <th>result</th>\n",
       "    </tr>\n",
       "  </thead>\n",
       "  <tbody>\n",
       "    <tr>\n",
       "      <th>10</th>\n",
       "      <td>True</td>\n",
       "      <td>9</td>\n",
       "      <td>False</td>\n",
       "    </tr>\n",
       "    <tr>\n",
       "      <th>11</th>\n",
       "      <td>False</td>\n",
       "      <td>19</td>\n",
       "      <td>True</td>\n",
       "    </tr>\n",
       "    <tr>\n",
       "      <th>22</th>\n",
       "      <td>False</td>\n",
       "      <td>3</td>\n",
       "      <td>False</td>\n",
       "    </tr>\n",
       "  </tbody>\n",
       "</table>\n",
       "</div>"
      ],
      "text/plain": [
       "    firstblood  teamkills  result\n",
       "10        True          9   False\n",
       "11       False         19    True\n",
       "22       False          3   False"
      ]
     },
     "execution_count": 17,
     "metadata": {},
     "output_type": "execute_result"
    }
   ],
   "source": [
    "# Studying the relation between the firstblood, total kills, and result \n",
    "first_blood = lol_2022_clean[['firstblood','teamkills','result', 'position']]\n",
    "first_blood = first_blood[first_blood['position'] == 'team']\n",
    "first_blood = first_blood.drop(columns = ['position'])\n",
    "na_value_in_first_blood = first_blood['firstblood'].isna().value_counts().loc[True] # na_value_in_first_blood = 2\n",
    "# since there are two null values for the entire dataset, we will drop these two obervations and make the column to be int \n",
    "first_blood = first_blood.dropna()\n",
    "first_blood['firstblood'] = first_blood['firstblood'].astype(bool)\n",
    "first_blood['result'] = first_blood['result'].astype(bool)\n",
    "first_blood.head(3)\n"
   ]
  },
  {
   "cell_type": "code",
   "execution_count": 18,
   "metadata": {},
   "outputs": [
    {
     "data": {
      "text/plain": [
       "firstblood\n",
       "False    AxesSubplot(0.125,0.125;0.775x0.755)\n",
       "True     AxesSubplot(0.125,0.125;0.775x0.755)\n",
       "Name: teamkills, dtype: object"
      ]
     },
     "execution_count": 18,
     "metadata": {},
     "output_type": "execute_result"
    },
    {
     "data": {
      "image/png": "[encoded data removed]",
      "text/plain": [
       "<Figure size 432x288 with 1 Axes>"
      ]
     },
     "metadata": {
      "image/png": {
       "height": 263,
       "width": 391
      },
      "needs_background": "light"
     },
     "output_type": "display_data"
    }
   ],
   "source": [
    "# plotting the distributions of total team kills after whether the team get the first blood\n",
    "first_blood.groupby('firstblood')['teamkills'].plot(kind = 'kde', legend = True, title = \"Total Team Kills With or Without the Firstblood\")"
   ]
  },
  {
   "cell_type": "code",
   "execution_count": 19,
   "metadata": {},
   "outputs": [
    {
     "data": {
      "text/plain": [
       "result\n",
       "False    AxesSubplot(0.125,0.125;0.775x0.755)\n",
       "True     AxesSubplot(0.125,0.125;0.775x0.755)\n",
       "Name: teamkills, dtype: object"
      ]
     },
     "execution_count": 19,
     "metadata": {},
     "output_type": "execute_result"
    },
    {
     "data": {
      "image/png": "[encoded data removed]",
      "text/plain": [
       "<Figure size 432x288 with 1 Axes>"
      ]
     },
     "metadata": {
      "image/png": {
       "height": 263,
       "width": 391
      },
      "needs_background": "light"
     },
     "output_type": "display_data"
    }
   ],
   "source": [
    "# plotting the distributions of total team kills of winning or losing teams \n",
    "first_blood.groupby('result')['teamkills'].plot(kind = 'kde', legend = True, title = \"Total Team Kills With or Without the Firstblood\")"
   ]
  },
  {
   "cell_type": "code",
   "execution_count": 20,
   "metadata": {},
   "outputs": [
    {
     "data": {
      "text/plain": [
       "<AxesSubplot:xlabel='firstblood', ylabel='result'>"
      ]
     },
     "execution_count": 20,
     "metadata": {},
     "output_type": "execute_result"
    },
    {
     "data": {
      "image/png": "[encoded data removed]",
      "text/plain": [
       "<Figure size 432x288 with 1 Axes>"
      ]
     },
     "metadata": {
      "image/png": {
       "height": 261,
       "width": 385
      },
      "needs_background": "light"
     },
     "output_type": "display_data"
    }
   ],
   "source": [
    "# based on the barplot, around 60 percent of winning team got the first blood  \n",
    "sns.barplot(data=first_blood, x = 'firstblood', y = 'result')"
   ]
  },
  {
   "cell_type": "markdown",
   "metadata": {},
   "source": [
    "#### Interesting Aggregates:"
   ]
  },
  {
   "cell_type": "code",
   "execution_count": 21,
   "metadata": {},
   "outputs": [
    {
     "data": {
      "text/plain": [
       "teamname\n",
       "100 Thieves                0.565789\n",
       "100 Thieves Academy        0.581197\n",
       "100 Thieves Next           0.766234\n",
       "1907 Fenerbahçe Academy    0.666667\n",
       "300                        0.416667\n",
       "Name: result, dtype: float64"
      ]
     },
     "execution_count": 21,
     "metadata": {},
     "output_type": "execute_result"
    }
   ],
   "source": [
    "# these are the winning rate by team\n",
    "team_winrate=lol_2022_clean.groupby(\"teamname\")[\"result\"].mean()\n",
    "team_winrate[:5]"
   ]
  },
  {
   "cell_type": "code",
   "execution_count": 22,
   "metadata": {
    "scrolled": true
   },
   "outputs": [
    {
     "data": {
      "text/plain": [
       "champion\n",
       "Aatrox     0.539563\n",
       "Ahri       0.529817\n",
       "Akali      0.517797\n",
       "Akshan     0.500000\n",
       "Alistar    0.496314\n",
       "Name: result, dtype: float64"
      ]
     },
     "execution_count": 22,
     "metadata": {},
     "output_type": "execute_result"
    }
   ],
   "source": [
    "# these are the winning rate by champion\n",
    "champ_winrate=lol_2022_clean.groupby(\"champion\")[\"result\"].mean()\n",
    "champ_winrate[:5]"
   ]
  },
  {
   "cell_type": "markdown",
   "metadata": {},
   "source": [
    "#### Interesting pivot table\n",
    "we investigated the distribution of position's getting first blood by teams"
   ]
  },
  {
   "cell_type": "code",
   "execution_count": 23,
   "metadata": {
    "scrolled": false
   },
   "outputs": [
    {
     "data": {
      "text/html": [
       "<div>\n",
       "<style scoped>\n",
       "    .dataframe tbody tr th:only-of-type {\n",
       "        vertical-align: middle;\n",
       "    }\n",
       "\n",
       "    .dataframe tbody tr th {\n",
       "        vertical-align: top;\n",
       "    }\n",
       "\n",
       "    .dataframe thead th {\n",
       "        text-align: right;\n",
       "    }\n",
       "</style>\n",
       "<table border=\"1\" class=\"dataframe\">\n",
       "  <thead>\n",
       "    <tr style=\"text-align: right;\">\n",
       "      <th>position</th>\n",
       "      <th>bot</th>\n",
       "      <th>jng</th>\n",
       "      <th>mid</th>\n",
       "      <th>sup</th>\n",
       "      <th>top</th>\n",
       "    </tr>\n",
       "    <tr>\n",
       "      <th>teamname</th>\n",
       "      <th></th>\n",
       "      <th></th>\n",
       "      <th></th>\n",
       "      <th></th>\n",
       "      <th></th>\n",
       "    </tr>\n",
       "  </thead>\n",
       "  <tbody>\n",
       "    <tr>\n",
       "      <th>100 Thieves</th>\n",
       "      <td>0.065789</td>\n",
       "      <td>0.105263</td>\n",
       "      <td>0.144737</td>\n",
       "      <td>0.026316</td>\n",
       "      <td>0.131579</td>\n",
       "    </tr>\n",
       "    <tr>\n",
       "      <th>100 Thieves Academy</th>\n",
       "      <td>0.094017</td>\n",
       "      <td>0.239316</td>\n",
       "      <td>0.042735</td>\n",
       "      <td>0.051282</td>\n",
       "      <td>0.068376</td>\n",
       "    </tr>\n",
       "    <tr>\n",
       "      <th>100 Thieves Next</th>\n",
       "      <td>0.064935</td>\n",
       "      <td>0.233766</td>\n",
       "      <td>0.129870</td>\n",
       "      <td>0.064935</td>\n",
       "      <td>0.103896</td>\n",
       "    </tr>\n",
       "  </tbody>\n",
       "</table>\n",
       "</div>"
      ],
      "text/plain": [
       "position                  bot       jng       mid       sup       top\n",
       "teamname                                                             \n",
       "100 Thieves          0.065789  0.105263  0.144737  0.026316  0.131579\n",
       "100 Thieves Academy  0.094017  0.239316  0.042735  0.051282  0.068376\n",
       "100 Thieves Next     0.064935  0.233766  0.129870  0.064935  0.103896"
      ]
     },
     "execution_count": 23,
     "metadata": {},
     "output_type": "execute_result"
    }
   ],
   "source": [
    "piv=lol_2022_clean.pivot_table(index=\"teamname\",columns=[\"position\"], values=\"firstbloodkill\", aggfunc=\"mean\")\n",
    "piv.head(3)"
   ]
  },
  {
   "cell_type": "markdown",
   "metadata": {},
   "source": [
    "#### Investigating side's relation to result\n",
    "- In each league game there is a red side and a blue side. We want to investigate using groupby to see whether side affects the result."
   ]
  },
  {
   "cell_type": "code",
   "execution_count": 24,
   "metadata": {
    "scrolled": true
   },
   "outputs": [
    {
     "data": {
      "text/plain": [
       "side\n",
       "Blue    0.524378\n",
       "Red     0.475376\n",
       "Name: result, dtype: float64"
      ]
     },
     "execution_count": 24,
     "metadata": {},
     "output_type": "execute_result"
    }
   ],
   "source": [
    "lol_2022_clean.groupby(\"side\")[\"result\"].mean()"
   ]
  },
  {
   "cell_type": "code",
   "execution_count": 25,
   "metadata": {},
   "outputs": [
    {
     "data": {
      "text/plain": [
       "0.04900196335078538"
      ]
     },
     "execution_count": 25,
     "metadata": {},
     "output_type": "execute_result"
    }
   ],
   "source": [
    "blue_prop=lol_2022_clean.groupby(\"side\")[\"result\"].mean().loc['Blue']\n",
    "red_prop=lol_2022_clean.groupby(\"side\")[\"result\"].mean().loc['Red']\n",
    "abs(blue_prop-red_prop)"
   ]
  },
  {
   "cell_type": "markdown",
   "metadata": {},
   "source": [
    "cool observation: according to our data, if a team is on blue side they have a 52.4378% of winning while only 47.5376% if on the red side. it is iteresting to see thay there is a around 4.9% adifference in the winnning poportions."
   ]
  },
  {
   "cell_type": "markdown",
   "metadata": {},
   "source": [
    "## Assessment of Missingness"
   ]
  },
  {
   "cell_type": "markdown",
   "metadata": {},
   "source": [
    "We found a lot of missingness in the url columns. This infomation could be NMAR because it will be null if no url exist for certain games and there will be a url if a url exist for that match. In this case, whether the value is missing is dependent on whether there is an actual url created for this match, making this missingness to be NMAR.\n",
    "\n",
    "However, we suspect that url existance might be related to columns from this dataset. We selected the columns playoffs and gameid. Playoff games would be used to determine which team will play for championship. It seems to be important, and important games might have designed webpages. Another possible explainatio for the missingness is the game ID, which could potentially show us whether the url is missing because of a specifc game setting given in game ID. We will perform permuation tests to check if the column url is truely MAR or MCAR to playoffs and gameid. "
   ]
  },
  {
   "cell_type": "code",
   "execution_count": 26,
   "metadata": {},
   "outputs": [
    {
     "data": {
      "text/html": [
       "<div>\n",
       "<style scoped>\n",
       "    .dataframe tbody tr th:only-of-type {\n",
       "        vertical-align: middle;\n",
       "    }\n",
       "\n",
       "    .dataframe tbody tr th {\n",
       "        vertical-align: top;\n",
       "    }\n",
       "\n",
       "    .dataframe thead th {\n",
       "        text-align: right;\n",
       "    }\n",
       "</style>\n",
       "<table border=\"1\" class=\"dataframe\">\n",
       "  <thead>\n",
       "    <tr style=\"text-align: right;\">\n",
       "      <th></th>\n",
       "      <th>gameid</th>\n",
       "      <th>playoffs</th>\n",
       "      <th>url</th>\n",
       "      <th>side</th>\n",
       "      <th>position</th>\n",
       "      <th>date</th>\n",
       "      <th>league</th>\n",
       "      <th>playername</th>\n",
       "      <th>teamname</th>\n",
       "      <th>champion</th>\n",
       "      <th>teamkills</th>\n",
       "      <th>result</th>\n",
       "      <th>ban1</th>\n",
       "      <th>ban2</th>\n",
       "      <th>ban3</th>\n",
       "      <th>ban4</th>\n",
       "      <th>ban5</th>\n",
       "      <th>firstblood</th>\n",
       "      <th>firstbloodkill</th>\n",
       "    </tr>\n",
       "  </thead>\n",
       "  <tbody>\n",
       "    <tr>\n",
       "      <th>0</th>\n",
       "      <td>ESPORTSTMNT01_2690210</td>\n",
       "      <td>0</td>\n",
       "      <td>NaN</td>\n",
       "      <td>Blue</td>\n",
       "      <td>top</td>\n",
       "      <td>2022-01-10 07:44:08</td>\n",
       "      <td>LCK CL</td>\n",
       "      <td>Soboro</td>\n",
       "      <td>Fredit BRION Challengers</td>\n",
       "      <td>Renekton</td>\n",
       "      <td>9</td>\n",
       "      <td>0</td>\n",
       "      <td>Karma</td>\n",
       "      <td>Caitlyn</td>\n",
       "      <td>Syndra</td>\n",
       "      <td>Thresh</td>\n",
       "      <td>Lulu</td>\n",
       "      <td>0.0</td>\n",
       "      <td>0.0</td>\n",
       "    </tr>\n",
       "    <tr>\n",
       "      <th>1</th>\n",
       "      <td>ESPORTSTMNT01_2690210</td>\n",
       "      <td>0</td>\n",
       "      <td>NaN</td>\n",
       "      <td>Blue</td>\n",
       "      <td>jng</td>\n",
       "      <td>2022-01-10 07:44:08</td>\n",
       "      <td>LCK CL</td>\n",
       "      <td>Raptor</td>\n",
       "      <td>Fredit BRION Challengers</td>\n",
       "      <td>Xin Zhao</td>\n",
       "      <td>9</td>\n",
       "      <td>0</td>\n",
       "      <td>Karma</td>\n",
       "      <td>Caitlyn</td>\n",
       "      <td>Syndra</td>\n",
       "      <td>Thresh</td>\n",
       "      <td>Lulu</td>\n",
       "      <td>1.0</td>\n",
       "      <td>0.0</td>\n",
       "    </tr>\n",
       "    <tr>\n",
       "      <th>2</th>\n",
       "      <td>ESPORTSTMNT01_2690210</td>\n",
       "      <td>0</td>\n",
       "      <td>NaN</td>\n",
       "      <td>Blue</td>\n",
       "      <td>mid</td>\n",
       "      <td>2022-01-10 07:44:08</td>\n",
       "      <td>LCK CL</td>\n",
       "      <td>Feisty</td>\n",
       "      <td>Fredit BRION Challengers</td>\n",
       "      <td>LeBlanc</td>\n",
       "      <td>9</td>\n",
       "      <td>0</td>\n",
       "      <td>Karma</td>\n",
       "      <td>Caitlyn</td>\n",
       "      <td>Syndra</td>\n",
       "      <td>Thresh</td>\n",
       "      <td>Lulu</td>\n",
       "      <td>0.0</td>\n",
       "      <td>0.0</td>\n",
       "    </tr>\n",
       "  </tbody>\n",
       "</table>\n",
       "</div>"
      ],
      "text/plain": [
       "                  gameid  playoffs  url  side position                date  \\\n",
       "0  ESPORTSTMNT01_2690210         0  NaN  Blue      top 2022-01-10 07:44:08   \n",
       "1  ESPORTSTMNT01_2690210         0  NaN  Blue      jng 2022-01-10 07:44:08   \n",
       "2  ESPORTSTMNT01_2690210         0  NaN  Blue      mid 2022-01-10 07:44:08   \n",
       "\n",
       "   league playername                  teamname  champion  teamkills  result  \\\n",
       "0  LCK CL     Soboro  Fredit BRION Challengers  Renekton          9       0   \n",
       "1  LCK CL     Raptor  Fredit BRION Challengers  Xin Zhao          9       0   \n",
       "2  LCK CL     Feisty  Fredit BRION Challengers   LeBlanc          9       0   \n",
       "\n",
       "    ban1     ban2    ban3    ban4  ban5  firstblood  firstbloodkill  \n",
       "0  Karma  Caitlyn  Syndra  Thresh  Lulu         0.0             0.0  \n",
       "1  Karma  Caitlyn  Syndra  Thresh  Lulu         1.0             0.0  \n",
       "2  Karma  Caitlyn  Syndra  Thresh  Lulu         0.0             0.0  "
      ]
     },
     "execution_count": 26,
     "metadata": {},
     "output_type": "execute_result"
    }
   ],
   "source": [
    "lol_2022_clean.head(3)"
   ]
  },
  {
   "cell_type": "code",
   "execution_count": 27,
   "metadata": {
    "ExecuteTime": {
     "end_time": "2019-10-31T23:36:28.662099Z",
     "start_time": "2019-10-31T23:36:28.660016Z"
    }
   },
   "outputs": [
    {
     "data": {
      "text/html": [
       "<div>\n",
       "<style scoped>\n",
       "    .dataframe tbody tr th:only-of-type {\n",
       "        vertical-align: middle;\n",
       "    }\n",
       "\n",
       "    .dataframe tbody tr th {\n",
       "        vertical-align: top;\n",
       "    }\n",
       "\n",
       "    .dataframe thead th {\n",
       "        text-align: right;\n",
       "    }\n",
       "</style>\n",
       "<table border=\"1\" class=\"dataframe\">\n",
       "  <thead>\n",
       "    <tr style=\"text-align: right;\">\n",
       "      <th></th>\n",
       "      <th>gameid</th>\n",
       "      <th>playoffs</th>\n",
       "      <th>url</th>\n",
       "      <th>side</th>\n",
       "      <th>position</th>\n",
       "      <th>date</th>\n",
       "      <th>league</th>\n",
       "      <th>playername</th>\n",
       "      <th>teamname</th>\n",
       "      <th>champion</th>\n",
       "      <th>teamkills</th>\n",
       "      <th>result</th>\n",
       "      <th>ban1</th>\n",
       "      <th>ban2</th>\n",
       "      <th>ban3</th>\n",
       "      <th>ban4</th>\n",
       "      <th>ban5</th>\n",
       "      <th>firstblood</th>\n",
       "      <th>firstbloodkill</th>\n",
       "    </tr>\n",
       "  </thead>\n",
       "  <tbody>\n",
       "    <tr>\n",
       "      <th>0</th>\n",
       "      <td>ESPORTSTMNT01_2690210</td>\n",
       "      <td>0</td>\n",
       "      <td>NaN</td>\n",
       "      <td>Blue</td>\n",
       "      <td>top</td>\n",
       "      <td>2022-01-10 07:44:08</td>\n",
       "      <td>LCK CL</td>\n",
       "      <td>Soboro</td>\n",
       "      <td>Fredit BRION Challengers</td>\n",
       "      <td>Renekton</td>\n",
       "      <td>9</td>\n",
       "      <td>0</td>\n",
       "      <td>Karma</td>\n",
       "      <td>Caitlyn</td>\n",
       "      <td>Syndra</td>\n",
       "      <td>Thresh</td>\n",
       "      <td>Lulu</td>\n",
       "      <td>0.0</td>\n",
       "      <td>0.0</td>\n",
       "    </tr>\n",
       "    <tr>\n",
       "      <th>1</th>\n",
       "      <td>ESPORTSTMNT01_2690210</td>\n",
       "      <td>0</td>\n",
       "      <td>NaN</td>\n",
       "      <td>Blue</td>\n",
       "      <td>jng</td>\n",
       "      <td>2022-01-10 07:44:08</td>\n",
       "      <td>LCK CL</td>\n",
       "      <td>Raptor</td>\n",
       "      <td>Fredit BRION Challengers</td>\n",
       "      <td>Xin Zhao</td>\n",
       "      <td>9</td>\n",
       "      <td>0</td>\n",
       "      <td>Karma</td>\n",
       "      <td>Caitlyn</td>\n",
       "      <td>Syndra</td>\n",
       "      <td>Thresh</td>\n",
       "      <td>Lulu</td>\n",
       "      <td>1.0</td>\n",
       "      <td>0.0</td>\n",
       "    </tr>\n",
       "    <tr>\n",
       "      <th>2</th>\n",
       "      <td>ESPORTSTMNT01_2690210</td>\n",
       "      <td>0</td>\n",
       "      <td>NaN</td>\n",
       "      <td>Blue</td>\n",
       "      <td>mid</td>\n",
       "      <td>2022-01-10 07:44:08</td>\n",
       "      <td>LCK CL</td>\n",
       "      <td>Feisty</td>\n",
       "      <td>Fredit BRION Challengers</td>\n",
       "      <td>LeBlanc</td>\n",
       "      <td>9</td>\n",
       "      <td>0</td>\n",
       "      <td>Karma</td>\n",
       "      <td>Caitlyn</td>\n",
       "      <td>Syndra</td>\n",
       "      <td>Thresh</td>\n",
       "      <td>Lulu</td>\n",
       "      <td>0.0</td>\n",
       "      <td>0.0</td>\n",
       "    </tr>\n",
       "  </tbody>\n",
       "</table>\n",
       "</div>"
      ],
      "text/plain": [
       "                  gameid  playoffs  url  side position                date  \\\n",
       "0  ESPORTSTMNT01_2690210         0  NaN  Blue      top 2022-01-10 07:44:08   \n",
       "1  ESPORTSTMNT01_2690210         0  NaN  Blue      jng 2022-01-10 07:44:08   \n",
       "2  ESPORTSTMNT01_2690210         0  NaN  Blue      mid 2022-01-10 07:44:08   \n",
       "\n",
       "   league playername                  teamname  champion  teamkills  result  \\\n",
       "0  LCK CL     Soboro  Fredit BRION Challengers  Renekton          9       0   \n",
       "1  LCK CL     Raptor  Fredit BRION Challengers  Xin Zhao          9       0   \n",
       "2  LCK CL     Feisty  Fredit BRION Challengers   LeBlanc          9       0   \n",
       "\n",
       "    ban1     ban2    ban3    ban4  ban5  firstblood  firstbloodkill  \n",
       "0  Karma  Caitlyn  Syndra  Thresh  Lulu         0.0             0.0  \n",
       "1  Karma  Caitlyn  Syndra  Thresh  Lulu         1.0             0.0  \n",
       "2  Karma  Caitlyn  Syndra  Thresh  Lulu         0.0             0.0  "
      ]
     },
     "metadata": {},
     "output_type": "display_data"
    },
    {
     "data": {
      "text/html": [
       "<div>\n",
       "<style scoped>\n",
       "    .dataframe tbody tr th:only-of-type {\n",
       "        vertical-align: middle;\n",
       "    }\n",
       "\n",
       "    .dataframe tbody tr th {\n",
       "        vertical-align: top;\n",
       "    }\n",
       "\n",
       "    .dataframe thead th {\n",
       "        text-align: right;\n",
       "    }\n",
       "</style>\n",
       "<table border=\"1\" class=\"dataframe\">\n",
       "  <thead>\n",
       "    <tr style=\"text-align: right;\">\n",
       "      <th></th>\n",
       "      <th>gameid</th>\n",
       "      <th>playoffs</th>\n",
       "      <th>url</th>\n",
       "      <th>side</th>\n",
       "      <th>position</th>\n",
       "      <th>date</th>\n",
       "      <th>league</th>\n",
       "      <th>playername</th>\n",
       "      <th>teamname</th>\n",
       "      <th>champion</th>\n",
       "      <th>teamkills</th>\n",
       "      <th>result</th>\n",
       "      <th>ban1</th>\n",
       "      <th>ban2</th>\n",
       "      <th>ban3</th>\n",
       "      <th>ban4</th>\n",
       "      <th>ban5</th>\n",
       "      <th>firstblood</th>\n",
       "      <th>firstbloodkill</th>\n",
       "    </tr>\n",
       "  </thead>\n",
       "  <tbody>\n",
       "    <tr>\n",
       "      <th>24</th>\n",
       "      <td>8401-8401_game_1</td>\n",
       "      <td>0</td>\n",
       "      <td>https://lpl.qq.com/es/stats.shtml?bmid=8401</td>\n",
       "      <td>Blue</td>\n",
       "      <td>top</td>\n",
       "      <td>2022-01-10 09:24:26</td>\n",
       "      <td>LPL</td>\n",
       "      <td>shanji</td>\n",
       "      <td>Oh My God</td>\n",
       "      <td>Gwen</td>\n",
       "      <td>13</td>\n",
       "      <td>1</td>\n",
       "      <td>Renekton</td>\n",
       "      <td>Lee Sin</td>\n",
       "      <td>Caitlyn</td>\n",
       "      <td>Jayce</td>\n",
       "      <td>Camille</td>\n",
       "      <td>NaN</td>\n",
       "      <td>0.0</td>\n",
       "    </tr>\n",
       "    <tr>\n",
       "      <th>25</th>\n",
       "      <td>8401-8401_game_1</td>\n",
       "      <td>0</td>\n",
       "      <td>https://lpl.qq.com/es/stats.shtml?bmid=8401</td>\n",
       "      <td>Blue</td>\n",
       "      <td>jng</td>\n",
       "      <td>2022-01-10 09:24:26</td>\n",
       "      <td>LPL</td>\n",
       "      <td>Aki</td>\n",
       "      <td>Oh My God</td>\n",
       "      <td>Jarvan IV</td>\n",
       "      <td>13</td>\n",
       "      <td>1</td>\n",
       "      <td>Renekton</td>\n",
       "      <td>Lee Sin</td>\n",
       "      <td>Caitlyn</td>\n",
       "      <td>Jayce</td>\n",
       "      <td>Camille</td>\n",
       "      <td>NaN</td>\n",
       "      <td>0.0</td>\n",
       "    </tr>\n",
       "    <tr>\n",
       "      <th>26</th>\n",
       "      <td>8401-8401_game_1</td>\n",
       "      <td>0</td>\n",
       "      <td>https://lpl.qq.com/es/stats.shtml?bmid=8401</td>\n",
       "      <td>Blue</td>\n",
       "      <td>mid</td>\n",
       "      <td>2022-01-10 09:24:26</td>\n",
       "      <td>LPL</td>\n",
       "      <td>Creme</td>\n",
       "      <td>Oh My God</td>\n",
       "      <td>Syndra</td>\n",
       "      <td>13</td>\n",
       "      <td>1</td>\n",
       "      <td>Renekton</td>\n",
       "      <td>Lee Sin</td>\n",
       "      <td>Caitlyn</td>\n",
       "      <td>Jayce</td>\n",
       "      <td>Camille</td>\n",
       "      <td>NaN</td>\n",
       "      <td>0.0</td>\n",
       "    </tr>\n",
       "  </tbody>\n",
       "</table>\n",
       "</div>"
      ],
      "text/plain": [
       "              gameid  playoffs                                          url  \\\n",
       "24  8401-8401_game_1         0  https://lpl.qq.com/es/stats.shtml?bmid=8401   \n",
       "25  8401-8401_game_1         0  https://lpl.qq.com/es/stats.shtml?bmid=8401   \n",
       "26  8401-8401_game_1         0  https://lpl.qq.com/es/stats.shtml?bmid=8401   \n",
       "\n",
       "    side position                date league playername   teamname   champion  \\\n",
       "24  Blue      top 2022-01-10 09:24:26    LPL     shanji  Oh My God       Gwen   \n",
       "25  Blue      jng 2022-01-10 09:24:26    LPL        Aki  Oh My God  Jarvan IV   \n",
       "26  Blue      mid 2022-01-10 09:24:26    LPL      Creme  Oh My God     Syndra   \n",
       "\n",
       "    teamkills  result      ban1     ban2     ban3   ban4     ban5  firstblood  \\\n",
       "24         13       1  Renekton  Lee Sin  Caitlyn  Jayce  Camille         NaN   \n",
       "25         13       1  Renekton  Lee Sin  Caitlyn  Jayce  Camille         NaN   \n",
       "26         13       1  Renekton  Lee Sin  Caitlyn  Jayce  Camille         NaN   \n",
       "\n",
       "    firstbloodkill  \n",
       "24             0.0  \n",
       "25             0.0  \n",
       "26             0.0  "
      ]
     },
     "metadata": {},
     "output_type": "display_data"
    }
   ],
   "source": [
    "# showing the subsets of the data where urls are missing and where the urls are not missing\n",
    "url_missing = lol_2022_clean[lol_2022_clean['url'].isna()]\n",
    "url_not_missing = lol_2022_clean[lol_2022_clean['url'].isna() == False]\n",
    "display(url_missing.head(3), url_not_missing.head(3))"
   ]
  },
  {
   "cell_type": "markdown",
   "metadata": {},
   "source": [
    "Because the dataset is so large, permuation test would create simulated distributions with low measurements of range. Since url, playoffs, and gameid would be consistent across champions/teams in a certain game. In other words, all players and teams of a same game would have the same url, playoffs, and gameid, so we first filter the dataframe to contain only data of the blue team for every game. Then, we sampled 4000 observations form the filtered dataframe since the dataset is too large. "
   ]
  },
  {
   "cell_type": "code",
   "execution_count": 63,
   "metadata": {
    "scrolled": true
   },
   "outputs": [
    {
     "data": {
      "text/html": [
       "<div>\n",
       "<style scoped>\n",
       "    .dataframe tbody tr th:only-of-type {\n",
       "        vertical-align: middle;\n",
       "    }\n",
       "\n",
       "    .dataframe tbody tr th {\n",
       "        vertical-align: top;\n",
       "    }\n",
       "\n",
       "    .dataframe thead th {\n",
       "        text-align: right;\n",
       "    }\n",
       "</style>\n",
       "<table border=\"1\" class=\"dataframe\">\n",
       "  <thead>\n",
       "    <tr style=\"text-align: right;\">\n",
       "      <th></th>\n",
       "      <th>gameid</th>\n",
       "      <th>playoffs</th>\n",
       "      <th>url</th>\n",
       "      <th>side</th>\n",
       "      <th>position</th>\n",
       "      <th>date</th>\n",
       "      <th>league</th>\n",
       "      <th>playername</th>\n",
       "      <th>teamname</th>\n",
       "      <th>champion</th>\n",
       "      <th>teamkills</th>\n",
       "      <th>result</th>\n",
       "      <th>ban1</th>\n",
       "      <th>ban2</th>\n",
       "      <th>ban3</th>\n",
       "      <th>ban4</th>\n",
       "      <th>ban5</th>\n",
       "      <th>firstblood</th>\n",
       "      <th>firstbloodkill</th>\n",
       "      <th>url_missing</th>\n",
       "    </tr>\n",
       "  </thead>\n",
       "  <tbody>\n",
       "    <tr>\n",
       "      <th>34546</th>\n",
       "      <td>ESPORTSTMNT01_2733924</td>\n",
       "      <td>0</td>\n",
       "      <td>NaN</td>\n",
       "      <td>Blue</td>\n",
       "      <td>team</td>\n",
       "      <td>2022-03-02 02:09:41</td>\n",
       "      <td>Proving Grounds Circuit</td>\n",
       "      <td>NaN</td>\n",
       "      <td>Nameless Randoms</td>\n",
       "      <td>NaN</td>\n",
       "      <td>5</td>\n",
       "      <td>0</td>\n",
       "      <td>Galio</td>\n",
       "      <td>Zeri</td>\n",
       "      <td>Gwen</td>\n",
       "      <td>Lee Sin</td>\n",
       "      <td>Camille</td>\n",
       "      <td>1.0</td>\n",
       "      <td>NaN</td>\n",
       "      <td>True</td>\n",
       "    </tr>\n",
       "    <tr>\n",
       "      <th>47266</th>\n",
       "      <td>ESPORTSTMNT01_2800440</td>\n",
       "      <td>0</td>\n",
       "      <td>NaN</td>\n",
       "      <td>Blue</td>\n",
       "      <td>team</td>\n",
       "      <td>2022-03-18 12:45:56</td>\n",
       "      <td>VCS</td>\n",
       "      <td>NaN</td>\n",
       "      <td>GAM Esports</td>\n",
       "      <td>NaN</td>\n",
       "      <td>23</td>\n",
       "      <td>0</td>\n",
       "      <td>Akali</td>\n",
       "      <td>Lee Sin</td>\n",
       "      <td>Jinx</td>\n",
       "      <td>Camille</td>\n",
       "      <td>Irelia</td>\n",
       "      <td>1.0</td>\n",
       "      <td>NaN</td>\n",
       "      <td>True</td>\n",
       "    </tr>\n",
       "    <tr>\n",
       "      <th>109258</th>\n",
       "      <td>ESPORTSTMNT03_2892294</td>\n",
       "      <td>0</td>\n",
       "      <td>NaN</td>\n",
       "      <td>Blue</td>\n",
       "      <td>team</td>\n",
       "      <td>2022-07-25 07:40:32</td>\n",
       "      <td>LCO</td>\n",
       "      <td>NaN</td>\n",
       "      <td>Kanga Esports</td>\n",
       "      <td>NaN</td>\n",
       "      <td>18</td>\n",
       "      <td>1</td>\n",
       "      <td>Poppy</td>\n",
       "      <td>Gwen</td>\n",
       "      <td>Senna</td>\n",
       "      <td>Xin Zhao</td>\n",
       "      <td>Sejuani</td>\n",
       "      <td>1.0</td>\n",
       "      <td>NaN</td>\n",
       "      <td>True</td>\n",
       "    </tr>\n",
       "  </tbody>\n",
       "</table>\n",
       "</div>"
      ],
      "text/plain": [
       "                       gameid  playoffs  url  side position  \\\n",
       "34546   ESPORTSTMNT01_2733924         0  NaN  Blue     team   \n",
       "47266   ESPORTSTMNT01_2800440         0  NaN  Blue     team   \n",
       "109258  ESPORTSTMNT03_2892294         0  NaN  Blue     team   \n",
       "\n",
       "                      date                   league playername  \\\n",
       "34546  2022-03-02 02:09:41  Proving Grounds Circuit        NaN   \n",
       "47266  2022-03-18 12:45:56                      VCS        NaN   \n",
       "109258 2022-07-25 07:40:32                      LCO        NaN   \n",
       "\n",
       "                teamname champion  teamkills  result   ban1     ban2   ban3  \\\n",
       "34546   Nameless Randoms      NaN          5       0  Galio     Zeri   Gwen   \n",
       "47266        GAM Esports      NaN         23       0  Akali  Lee Sin   Jinx   \n",
       "109258     Kanga Esports      NaN         18       1  Poppy     Gwen  Senna   \n",
       "\n",
       "            ban4     ban5  firstblood  firstbloodkill  url_missing  \n",
       "34546    Lee Sin  Camille         1.0             NaN         True  \n",
       "47266    Camille   Irelia         1.0             NaN         True  \n",
       "109258  Xin Zhao  Sejuani         1.0             NaN         True  "
      ]
     },
     "execution_count": 63,
     "metadata": {},
     "output_type": "execute_result"
    }
   ],
   "source": [
    "# create a new column in the df that suggests whether the url is missing for each game\n",
    "miss_urls = lol_2022_clean[(lol_2022_clean['position'] == 'team') & (lol_2022_clean['side'] == 'Blue')].sample(4000)\n",
    "miss_urls['url_missing'] = lol_2022_clean['url'].isna()\n",
    "miss_urls.head(3)"
   ]
  },
  {
   "cell_type": "code",
   "execution_count": 64,
   "metadata": {},
   "outputs": [
    {
     "data": {
      "text/plain": [
       "34546     team\n",
       "47266     team\n",
       "109258    team\n",
       "108958    team\n",
       "7846      team\n",
       "          ... \n",
       "56758     team\n",
       "42214     team\n",
       "127534    team\n",
       "38650     team\n",
       "65314     team\n",
       "Name: position, Length: 4000, dtype: object"
      ]
     },
     "execution_count": 64,
     "metadata": {},
     "output_type": "execute_result"
    }
   ],
   "source": [
    "miss_urls['position']"
   ]
  },
  {
   "cell_type": "markdown",
   "metadata": {},
   "source": [
    "Q1: Is the missingness of urls dependent on whether the game is playoff or not? \n",
    "\n",
    "Null hypothesis: the distribution of missing url is the same whether the game is playoff or not \n",
    "\n",
    "Alternative hypothesis: the distribution of missing url is different when the game is playoff"
   ]
  },
  {
   "cell_type": "code",
   "execution_count": 65,
   "metadata": {
    "scrolled": false
   },
   "outputs": [
    {
     "data": {
      "text/html": [
       "<div>\n",
       "<style scoped>\n",
       "    .dataframe tbody tr th:only-of-type {\n",
       "        vertical-align: middle;\n",
       "    }\n",
       "\n",
       "    .dataframe tbody tr th {\n",
       "        vertical-align: top;\n",
       "    }\n",
       "\n",
       "    .dataframe thead th {\n",
       "        text-align: right;\n",
       "    }\n",
       "</style>\n",
       "<table border=\"1\" class=\"dataframe\">\n",
       "  <thead>\n",
       "    <tr style=\"text-align: right;\">\n",
       "      <th>playoffs</th>\n",
       "      <th>False</th>\n",
       "      <th>True</th>\n",
       "    </tr>\n",
       "    <tr>\n",
       "      <th>url_missing</th>\n",
       "      <th></th>\n",
       "      <th></th>\n",
       "    </tr>\n",
       "  </thead>\n",
       "  <tbody>\n",
       "    <tr>\n",
       "      <th>False</th>\n",
       "      <td>0.155971</td>\n",
       "      <td>0.124606</td>\n",
       "    </tr>\n",
       "    <tr>\n",
       "      <th>True</th>\n",
       "      <td>0.844029</td>\n",
       "      <td>0.875394</td>\n",
       "    </tr>\n",
       "  </tbody>\n",
       "</table>\n",
       "</div>"
      ],
      "text/plain": [
       "playoffs        False      True\n",
       "url_missing                    \n",
       "False        0.155971  0.124606\n",
       "True         0.844029  0.875394"
      ]
     },
     "metadata": {},
     "output_type": "display_data"
    },
    {
     "data": {
      "text/plain": [
       "<AxesSubplot:xlabel='url_missing'>"
      ]
     },
     "metadata": {},
     "output_type": "display_data"
    },
    {
     "data": {
      "image/png": "[encoded data removed]",
      "text/plain": [
       "<Figure size 432x288 with 1 Axes>"
      ]
     },
     "metadata": {
      "image/png": {
       "height": 277,
       "width": 372
      },
      "needs_background": "light"
     },
     "output_type": "display_data"
    }
   ],
   "source": [
    "# calculate the proportion of missing urls in playoffs or not\n",
    "miss_urls['playoffs'] = lol_2022_clean['playoffs'].astype('bool')\n",
    "pivot_url_playoffs = miss_urls.pivot_table(index = 'url_missing', columns = 'playoffs', values = 'position', aggfunc='count')\n",
    "pivot_url_playoffs = pivot_url_playoffs.divide(pivot_url_playoffs.sum(), axis = 1)\n",
    "display(pivot_url_playoffs, pivot_url_playoffs.plot.bar())\n"
   ]
  },
  {
   "cell_type": "code",
   "execution_count": 66,
   "metadata": {},
   "outputs": [
    {
     "data": {
      "text/plain": [
       "0.06273160253490559"
      ]
     },
     "execution_count": 66,
     "metadata": {},
     "output_type": "execute_result"
    }
   ],
   "source": [
    "# observed tvd\n",
    "obs_tvd_playoffs = pivot_url_playoffs.diff(axis = 1).iloc[:, -1].abs().sum()\n",
    "obs_tvd_playoffs"
   ]
  },
  {
   "cell_type": "code",
   "execution_count": 67,
   "metadata": {},
   "outputs": [],
   "source": [
    "# perform permuation and calculate the tvds from shuffling\n",
    "to_shuffle = miss_urls.copy()[['url_missing', 'playoffs', 'position']]\n",
    "to_shuffle\n",
    "n_repetitions = 5000\n",
    "tvds_playoffs = []\n",
    "for i in range(n_repetitions):\n",
    "    to_shuffle['shuffle_playoffs'] = np.random.permutation(to_shuffle['playoffs'].values)\n",
    "    pivot_shuffle = to_shuffle.pivot_table(index = 'url_missing', columns = 'shuffle_playoffs', values = 'position', aggfunc='count')\n",
    "    pivot_shuffle = pivot_shuffle.divide(pivot_shuffle.sum(), axis = 1)\n",
    "    tvds_playoffs.append(pivot_shuffle.diff(axis = 1).iloc[:, -1].abs().sum())\n"
   ]
  },
  {
   "cell_type": "code",
   "execution_count": 68,
   "metadata": {},
   "outputs": [
    {
     "data": {
      "text/plain": [
       "(4000, 4)"
      ]
     },
     "execution_count": 68,
     "metadata": {},
     "output_type": "execute_result"
    }
   ],
   "source": [
    "to_shuffle.shape"
   ]
  },
  {
   "cell_type": "code",
   "execution_count": 69,
   "metadata": {
    "scrolled": true
   },
   "outputs": [
    {
     "data": {
      "image/png": "[encoded data removed]",
      "text/plain": [
       "<Figure size 432x288 with 1 Axes>"
      ]
     },
     "metadata": {
      "image/png": {
       "height": 248,
       "width": 382
      },
      "needs_background": "light"
     },
     "output_type": "display_data"
    }
   ],
   "source": [
    "# graphe the distribution of tvds and plot the observed tvd together with the simulated data\n",
    "pd.Series(tvds_playoffs).plot(kind='hist', density=True, ec='w', bins=10)\n",
    "plt.axvline(x=obs_tvd_playoffs, color='red', linewidth=3);"
   ]
  },
  {
   "cell_type": "code",
   "execution_count": 70,
   "metadata": {},
   "outputs": [
    {
     "data": {
      "text/plain": [
       "0.0488"
      ]
     },
     "execution_count": 70,
     "metadata": {},
     "output_type": "execute_result"
    }
   ],
   "source": [
    "# calculate the p-value \n",
    "(tvds_playoffs >= obs_tvd_playoffs).mean()"
   ]
  },
  {
   "cell_type": "markdown",
   "metadata": {},
   "source": [
    "### Conclusion\n",
    "\n",
    "Since our observed p-value is larger than 0.01, we fail to reject the null at a significant level of 0.01. It is likely that whether the game is playoff or not does not affect whether the url of the game is missing. In this case, the urls are missing as MCAR (completely random from playoffs). "
   ]
  },
  {
   "cell_type": "markdown",
   "metadata": {},
   "source": [
    "Because we previously found a specfic gameid pattern with a long string of titile (e.g. \"ESPORTSTMNT\") and a serial number in non-missing url columns. Therefore, we will focus on if url missingness if dependent on whether this title exists in gameid. "
   ]
  },
  {
   "cell_type": "markdown",
   "metadata": {},
   "source": [
    "Q2: Is the missingness of urls dependent on gameid? \n",
    "\n",
    "Null hypothesis: the distribution of missing url is the same no matter whether the id contains the string \"ESPORTSTMNT\"\n",
    "\n",
    "Alternative hypothesis: the distribution of missing url is different whether the id contains the string \"ESPORTSTMNT\""
   ]
  },
  {
   "cell_type": "code",
   "execution_count": 36,
   "metadata": {},
   "outputs": [
    {
     "data": {
      "text/plain": [
       "93418     ESPORTSTMNT04_2410791\n",
       "8506      ESPORTSTMNT01_2707330\n",
       "107722         9198-9198_game_2\n",
       "Name: gameid, dtype: object"
      ]
     },
     "execution_count": 36,
     "metadata": {},
     "output_type": "execute_result"
    }
   ],
   "source": [
    "miss_urls['gameid'][:3]"
   ]
  },
  {
   "cell_type": "code",
   "execution_count": 37,
   "metadata": {},
   "outputs": [
    {
     "data": {
      "text/html": [
       "<div>\n",
       "<style scoped>\n",
       "    .dataframe tbody tr th:only-of-type {\n",
       "        vertical-align: middle;\n",
       "    }\n",
       "\n",
       "    .dataframe tbody tr th {\n",
       "        vertical-align: top;\n",
       "    }\n",
       "\n",
       "    .dataframe thead th {\n",
       "        text-align: right;\n",
       "    }\n",
       "</style>\n",
       "<table border=\"1\" class=\"dataframe\">\n",
       "  <thead>\n",
       "    <tr style=\"text-align: right;\">\n",
       "      <th>title_bool</th>\n",
       "      <th>False</th>\n",
       "      <th>True</th>\n",
       "    </tr>\n",
       "    <tr>\n",
       "      <th>url_missing</th>\n",
       "      <th></th>\n",
       "      <th></th>\n",
       "    </tr>\n",
       "  </thead>\n",
       "  <tbody>\n",
       "    <tr>\n",
       "      <th>False</th>\n",
       "      <td>0.707524</td>\n",
       "      <td>0.005982</td>\n",
       "    </tr>\n",
       "    <tr>\n",
       "      <th>True</th>\n",
       "      <td>0.292476</td>\n",
       "      <td>0.994018</td>\n",
       "    </tr>\n",
       "  </tbody>\n",
       "</table>\n",
       "</div>"
      ],
      "text/plain": [
       "title_bool      False      True\n",
       "url_missing                    \n",
       "False        0.707524  0.005982\n",
       "True         0.292476  0.994018"
      ]
     },
     "metadata": {},
     "output_type": "display_data"
    },
    {
     "data": {
      "text/plain": [
       "<AxesSubplot:xlabel='url_missing'>"
      ]
     },
     "metadata": {},
     "output_type": "display_data"
    },
    {
     "data": {
      "image/png": "[encoded data removed]",
      "text/plain": [
       "<Figure size 432x288 with 1 Axes>"
      ]
     },
     "metadata": {
      "image/png": {
       "height": 277,
       "width": 372
      },
      "needs_background": "light"
     },
     "output_type": "display_data"
    }
   ],
   "source": [
    "# calculate the proportion of missing urls in title \n",
    "miss_urls['title_bool'] = miss_urls['gameid'].str.contains(\"ESPORTSTMNT\")\n",
    "pivot_url_title = miss_urls.pivot_table(index = 'url_missing', columns = 'title_bool', values = 'position', aggfunc='count')\n",
    "pivot_url_title = pivot_url_title.divide(pivot_url_title.sum(), axis = 1)\n",
    "display(pivot_url_title, pivot_url_title.plot.bar())\n",
    "        "
   ]
  },
  {
   "cell_type": "code",
   "execution_count": 38,
   "metadata": {},
   "outputs": [
    {
     "data": {
      "text/plain": [
       "1.4030838081729478"
      ]
     },
     "execution_count": 38,
     "metadata": {},
     "output_type": "execute_result"
    }
   ],
   "source": [
    "# observed tvd\n",
    "obs_tvd_title = pivot_url_title.diff(axis = 1).iloc[:, -1].abs().sum()\n",
    "obs_tvd_title"
   ]
  },
  {
   "cell_type": "code",
   "execution_count": 39,
   "metadata": {},
   "outputs": [],
   "source": [
    "# perform permuation and calculate the tvds from shuffling\n",
    "to_shuffle = miss_urls.copy()[['url_missing', 'title_bool', 'position']]\n",
    "to_shuffle\n",
    "n_repetitions = 5000\n",
    "tvds_title = []\n",
    "for i in range(n_repetitions):\n",
    "    to_shuffle['shuffle_title'] = np.random.permutation(to_shuffle['title_bool'].values)\n",
    "    pivot_shuffle = to_shuffle.pivot_table(index = 'url_missing', columns = 'shuffle_title', values = 'position', aggfunc='count')\n",
    "    pivot_shuffle = pivot_shuffle.divide(pivot_shuffle.sum(), axis = 1)\n",
    "    tvds_title.append(pivot_shuffle.diff(axis = 1).iloc[:, -1].abs().sum())\n"
   ]
  },
  {
   "cell_type": "code",
   "execution_count": 40,
   "metadata": {},
   "outputs": [
    {
     "data": {
      "image/png": "[encoded data removed]",
      "text/plain": [
       "<Figure size 432x288 with 1 Axes>"
      ]
     },
     "metadata": {
      "image/png": {
       "height": 248,
       "width": 382
      },
      "needs_background": "light"
     },
     "output_type": "display_data"
    }
   ],
   "source": [
    "# graphe the distribution of tvds and plot the observed tvd together with the simulated data\n",
    "pd.Series(tvds_title).plot(kind='hist', density=True, ec='w', bins=10)\n",
    "plt.axvline(x=obs_tvd_title, color='red', linewidth=3);"
   ]
  },
  {
   "cell_type": "code",
   "execution_count": 41,
   "metadata": {},
   "outputs": [
    {
     "data": {
      "text/plain": [
       "0.0"
      ]
     },
     "execution_count": 41,
     "metadata": {},
     "output_type": "execute_result"
    }
   ],
   "source": [
    "# calculate the p-value \n",
    "(tvds_title >= obs_tvd_title).mean()"
   ]
  },
  {
   "cell_type": "markdown",
   "metadata": {},
   "source": [
    "### Conclusion\n",
    "\n",
    "Since our observed p-value is much smaller than 0.01, and the observed tvs is very far from the simulated tvd distribution, we are able to reject the null at a significant level of 0.01. We conclude that the missingness of the urls of a game is dependent on whether the gameid contains the string \"ESPORTSTMNT\". In this case, the urls are missing as MAR. "
   ]
  },
  {
   "cell_type": "markdown",
   "metadata": {},
   "source": [
    "## Hypothesis Test"
   ]
  },
  {
   "cell_type": "markdown",
   "metadata": {},
   "source": [
    "### Backgroud information: \n",
    "\n",
    "Banning champion in League of Legent is a critical technique. Yet,we realized that there are several champions that were banned more often then others. This has led us to wonder whether using a commonly banned champion in a game\n",
    "effect the result of the game. \n",
    "\n"
   ]
  },
  {
   "cell_type": "markdown",
   "metadata": {
    "ExecuteTime": {
     "end_time": "2019-10-31T23:36:28.666489Z",
     "start_time": "2019-10-31T23:36:28.664381Z"
    }
   },
   "source": [
    "### Question: Are commonly banned champions more likely to win a match?"
   ]
  },
  {
   "cell_type": "markdown",
   "metadata": {},
   "source": [
    "### Step 1: Finding commonly banned champions: \n",
    "- we will start by finding a list of commonly banned champions\n",
    "- we have decided to set a threshold defining a commonly banned hero as having ban rate of 20%\n"
   ]
  },
  {
   "cell_type": "code",
   "execution_count": 42,
   "metadata": {},
   "outputs": [
    {
     "data": {
      "text/html": [
       "<div>\n",
       "<style scoped>\n",
       "    .dataframe tbody tr th:only-of-type {\n",
       "        vertical-align: middle;\n",
       "    }\n",
       "\n",
       "    .dataframe tbody tr th {\n",
       "        vertical-align: top;\n",
       "    }\n",
       "\n",
       "    .dataframe thead th {\n",
       "        text-align: right;\n",
       "    }\n",
       "</style>\n",
       "<table border=\"1\" class=\"dataframe\">\n",
       "  <thead>\n",
       "    <tr style=\"text-align: right;\">\n",
       "      <th></th>\n",
       "      <th>ban</th>\n",
       "    </tr>\n",
       "  </thead>\n",
       "  <tbody>\n",
       "    <tr>\n",
       "      <th>0</th>\n",
       "      <td>Karma</td>\n",
       "    </tr>\n",
       "    <tr>\n",
       "      <th>1</th>\n",
       "      <td>Lee Sin</td>\n",
       "    </tr>\n",
       "    <tr>\n",
       "      <th>2</th>\n",
       "      <td>Sona</td>\n",
       "    </tr>\n",
       "  </tbody>\n",
       "</table>\n",
       "</div>"
      ],
      "text/plain": [
       "       ban\n",
       "0    Karma\n",
       "1  Lee Sin\n",
       "2     Sona"
      ]
     },
     "execution_count": 42,
     "metadata": {},
     "output_type": "execute_result"
    }
   ],
   "source": [
    "# ban_df contians all banned hero form all games in this year\n",
    "all_ban=lol_2022[lol_2022['position'] == 'team'][['ban1','ban2','ban3','ban4','ban5']]\n",
    "ban_list=list(all_ban[\"ban1\"])+list(all_ban[\"ban2\"])+list(all_ban[\"ban3\"])+list(all_ban[\"ban4\"])+list(all_ban[\"ban5\"])\n",
    "ban_df=pd.DataFrame(ban_list).dropna()\n",
    "ban_df=ban_df.rename(columns={0: \"ban\"})\n",
    "ban_df.head(3)"
   ]
  },
  {
   "cell_type": "code",
   "execution_count": 43,
   "metadata": {
    "scrolled": true
   },
   "outputs": [
    {
     "data": {
      "text/html": [
       "<div>\n",
       "<style scoped>\n",
       "    .dataframe tbody tr th:only-of-type {\n",
       "        vertical-align: middle;\n",
       "    }\n",
       "\n",
       "    .dataframe tbody tr th {\n",
       "        vertical-align: top;\n",
       "    }\n",
       "\n",
       "    .dataframe thead th {\n",
       "        text-align: right;\n",
       "    }\n",
       "</style>\n",
       "<table border=\"1\" class=\"dataframe\">\n",
       "  <thead>\n",
       "    <tr style=\"text-align: right;\">\n",
       "      <th></th>\n",
       "      <th>ban</th>\n",
       "    </tr>\n",
       "  </thead>\n",
       "  <tbody>\n",
       "    <tr>\n",
       "      <th>Zeri</th>\n",
       "      <td>0.379499</td>\n",
       "    </tr>\n",
       "    <tr>\n",
       "      <th>Gwen</th>\n",
       "      <td>0.343259</td>\n",
       "    </tr>\n",
       "    <tr>\n",
       "      <th>LeBlanc</th>\n",
       "      <td>0.236502</td>\n",
       "    </tr>\n",
       "  </tbody>\n",
       "</table>\n",
       "</div>"
      ],
      "text/plain": [
       "              ban\n",
       "Zeri     0.379499\n",
       "Gwen     0.343259\n",
       "LeBlanc  0.236502"
      ]
     },
     "execution_count": 43,
     "metadata": {},
     "output_type": "execute_result"
    }
   ],
   "source": [
    "#ban_rate shows the calsulated ban rate of champions\n",
    "num_games=len(ban_list)/10\n",
    "ban_rate=pd.DataFrame(ban_df[\"ban\"].value_counts()/num_games)\n",
    "ban_rate.head(3)"
   ]
  },
  {
   "cell_type": "markdown",
   "metadata": {},
   "source": [
    "- lets visualize the ban rate from the above ban_df, we will only show the first several for representation"
   ]
  },
  {
   "cell_type": "code",
   "execution_count": 44,
   "metadata": {},
   "outputs": [
    {
     "data": {
      "text/plain": [
       "<AxesSubplot:title={'center':\"champion's ban_rate\"}>"
      ]
     },
     "execution_count": 44,
     "metadata": {},
     "output_type": "execute_result"
    },
    {
     "data": {
      "image/png": "[encoded data removed]",
      "text/plain": [
       "<Figure size 432x288 with 1 Axes>"
      ]
     },
     "metadata": {
      "image/png": {
       "height": 294,
       "width": 378
      },
      "needs_background": "light"
     },
     "output_type": "display_data"
    }
   ],
   "source": [
    "ban_rate[:10].plot(kind=\"bar\",title=\"champion's ban_rate\")"
   ]
  },
  {
   "cell_type": "code",
   "execution_count": 45,
   "metadata": {},
   "outputs": [],
   "source": [
    "# show a the list of commonly banned heros using the threshold 20%\n",
    "commonly_banned=list(ban_rate[ban_rate[\"ban\"]>=0.2].index)\n",
    "\n",
    "# >>> commonly_banned\n",
    "# >>> ['Zeri','Gwen','LeBlanc','Lucian','Ahri','Kalista','Wukong','Yuumi','Akali']"
   ]
  },
  {
   "cell_type": "markdown",
   "metadata": {},
   "source": [
    "- we found thatcommonly banned heros are: Zeri, Gwen, LeBlanc, Lucian, Ahri, Kalista, Wukong, Yuumi, Akali "
   ]
  },
  {
   "cell_type": "markdown",
   "metadata": {},
   "source": [
    "### Step 2 : Hypothesis Test\n",
    "Now we can perform a permutation test of whether commonly banned champions more likely to win a match"
   ]
  },
  {
   "cell_type": "markdown",
   "metadata": {},
   "source": [
    "### Hypothesis: \n",
    "- null hypothesis: commonly banned champion and other champions have the same lilelyness to win\n",
    "- alternativel hypothesis: commonly banned champions are more likely to win a game"
   ]
  },
  {
   "cell_type": "markdown",
   "metadata": {},
   "source": [
    "### significant level : \n",
    "- we have decided to choose 0.01 as our significant level.\n",
    "- the data set is really large so we choose a small significant level"
   ]
  },
  {
   "cell_type": "code",
   "execution_count": 46,
   "metadata": {},
   "outputs": [
    {
     "data": {
      "text/html": [
       "<div>\n",
       "<style scoped>\n",
       "    .dataframe tbody tr th:only-of-type {\n",
       "        vertical-align: middle;\n",
       "    }\n",
       "\n",
       "    .dataframe tbody tr th {\n",
       "        vertical-align: top;\n",
       "    }\n",
       "\n",
       "    .dataframe thead th {\n",
       "        text-align: right;\n",
       "    }\n",
       "</style>\n",
       "<table border=\"1\" class=\"dataframe\">\n",
       "  <thead>\n",
       "    <tr style=\"text-align: right;\">\n",
       "      <th></th>\n",
       "      <th>champion</th>\n",
       "      <th>result</th>\n",
       "    </tr>\n",
       "  </thead>\n",
       "  <tbody>\n",
       "    <tr>\n",
       "      <th>0</th>\n",
       "      <td>Renekton</td>\n",
       "      <td>0</td>\n",
       "    </tr>\n",
       "    <tr>\n",
       "      <th>1</th>\n",
       "      <td>Xin Zhao</td>\n",
       "      <td>0</td>\n",
       "    </tr>\n",
       "    <tr>\n",
       "      <th>2</th>\n",
       "      <td>LeBlanc</td>\n",
       "      <td>0</td>\n",
       "    </tr>\n",
       "  </tbody>\n",
       "</table>\n",
       "</div>"
      ],
      "text/plain": [
       "   champion  result\n",
       "0  Renekton       0\n",
       "1  Xin Zhao       0\n",
       "2   LeBlanc       0"
      ]
     },
     "execution_count": 46,
     "metadata": {},
     "output_type": "execute_result"
    }
   ],
   "source": [
    "# this is the df we will be working with\n",
    "all_champ=lol_2022[lol_2022[\"position\"]!=\"team\"][[\"champion\",\"result\"]]\n",
    "all_champ.head(3)\n"
   ]
  },
  {
   "cell_type": "markdown",
   "metadata": {},
   "source": [
    "### Test Statistic: signed difference between the winning rate\n",
    "- calculating winnng rates:\n",
    "    - commonly ban champ winning rate = commonly banned champ num game played and won / commonly banned num games played\n",
    "    - other champ winning rate = other champ num game played and won / other champ num games played\n",
    "- test statistic:\n",
    "    - commonly banned champ winning rate - other champ winning rate\n",
    "\n",
    "We chose to find the winning rate, because we need to normalize the values. \n",
    "At the same time we chose to find the signed difference becasue our alternative hypothesis is that commonly banned champion have a higher chance of winning. Therfore, it is expected that the bigger this test statistic the more we goes towards the alternative hypothesis\n",
    "\n"
   ]
  },
  {
   "cell_type": "code",
   "execution_count": 47,
   "metadata": {},
   "outputs": [
    {
     "data": {
      "text/html": [
       "<div>\n",
       "<style scoped>\n",
       "    .dataframe tbody tr th:only-of-type {\n",
       "        vertical-align: middle;\n",
       "    }\n",
       "\n",
       "    .dataframe tbody tr th {\n",
       "        vertical-align: top;\n",
       "    }\n",
       "\n",
       "    .dataframe thead th {\n",
       "        text-align: right;\n",
       "    }\n",
       "</style>\n",
       "<table border=\"1\" class=\"dataframe\">\n",
       "  <thead>\n",
       "    <tr style=\"text-align: right;\">\n",
       "      <th></th>\n",
       "      <th>champion</th>\n",
       "      <th>result</th>\n",
       "      <th>commonly_banned</th>\n",
       "    </tr>\n",
       "  </thead>\n",
       "  <tbody>\n",
       "    <tr>\n",
       "      <th>0</th>\n",
       "      <td>Renekton</td>\n",
       "      <td>0</td>\n",
       "      <td>False</td>\n",
       "    </tr>\n",
       "    <tr>\n",
       "      <th>1</th>\n",
       "      <td>Xin Zhao</td>\n",
       "      <td>0</td>\n",
       "      <td>False</td>\n",
       "    </tr>\n",
       "    <tr>\n",
       "      <th>2</th>\n",
       "      <td>LeBlanc</td>\n",
       "      <td>0</td>\n",
       "      <td>True</td>\n",
       "    </tr>\n",
       "  </tbody>\n",
       "</table>\n",
       "</div>"
      ],
      "text/plain": [
       "   champion  result  commonly_banned\n",
       "0  Renekton       0            False\n",
       "1  Xin Zhao       0            False\n",
       "2   LeBlanc       0             True"
      ]
     },
     "execution_count": 47,
     "metadata": {},
     "output_type": "execute_result"
    }
   ],
   "source": [
    "# start by adding a boolean coloumn indicating wether a campion is a commonly banned champion\n",
    "all_champ[\"commonly_banned\"]=all_champ[\"champion\"].isin(commonly_banned)\n",
    "all_champ.head(3)\n"
   ]
  },
  {
   "cell_type": "code",
   "execution_count": 48,
   "metadata": {},
   "outputs": [
    {
     "data": {
      "text/plain": [
       "0.030586448526676913"
      ]
     },
     "execution_count": 48,
     "metadata": {},
     "output_type": "execute_result"
    }
   ],
   "source": [
    "# calculate obseverd stats\n",
    "\n",
    "def finding_ts(df):\n",
    "    c_game_won=df[df[\"commonly_banned\"]==True][\"result\"].sum()\n",
    "    c_game=df[df[\"commonly_banned\"]==True][\"champion\"].count()\n",
    "    o_game_won=df[df[\"commonly_banned\"]==False][\"result\"].sum()\n",
    "    o_game=df[df[\"commonly_banned\"]==False][\"champion\"].count()\n",
    "    obs_stat=(c_game_won/c_game)-(o_game_won/o_game)\n",
    "    return obs_stat\n",
    "\n",
    "obs_stat=finding_ts(all_champ)\n",
    "obs_stat"
   ]
  },
  {
   "cell_type": "markdown",
   "metadata": {},
   "source": [
    "### Permutation Test\n"
   ]
  },
  {
   "cell_type": "code",
   "execution_count": 49,
   "metadata": {
    "scrolled": false
   },
   "outputs": [],
   "source": [
    "# perform 1000 simulation\n",
    "\n",
    "test_stats=[]\n",
    "for i in range(1000):\n",
    "    to_shuffle = all_champ.copy()\n",
    "    shuff = to_shuffle[\"commonly_banned\"]\n",
    "    to_shuffle[\"commonly_banned\"]=np.random.permutation(shuff.values)\n",
    "    test_stats+=[finding_ts(to_shuffle)]"
   ]
  },
  {
   "cell_type": "code",
   "execution_count": 50,
   "metadata": {},
   "outputs": [
    {
     "data": {
      "text/plain": [
       "[0.00014249615260386594,\n",
       " -0.0011573579937048106,\n",
       " -0.0034834127818362814,\n",
       " -0.003072932525107208,\n",
       " -0.00019957072800369513]"
      ]
     },
     "execution_count": 50,
     "metadata": {},
     "output_type": "execute_result"
    }
   ],
   "source": [
    "# first 5 vlaues of the simulated test statistic \n",
    "test_stats[:5]"
   ]
  },
  {
   "cell_type": "code",
   "execution_count": 51,
   "metadata": {},
   "outputs": [
    {
     "data": {
      "image/png": "[encoded data removed]",
      "text/plain": [
       "<Figure size 432x288 with 1 Axes>"
      ]
     },
     "metadata": {
      "image/png": {
       "height": 263,
       "width": 398
      },
      "needs_background": "light"
     },
     "output_type": "display_data"
    }
   ],
   "source": [
    "# now lets graph for some visualizations\n",
    "\n",
    "title = 'Sign Differences in Winning rate (commonly banned - other )'\n",
    "pd.Series(test_stats).plot(kind='hist', density=True, ec='w', bins=10, title=title)\n",
    "plt.axvline(x=obs_stat, color='red', linewidth=3);"
   ]
  },
  {
   "cell_type": "markdown",
   "metadata": {},
   "source": [
    "### P value:"
   ]
  },
  {
   "cell_type": "code",
   "execution_count": 52,
   "metadata": {},
   "outputs": [
    {
     "data": {
      "text/plain": [
       "0.0"
      ]
     },
     "execution_count": 52,
     "metadata": {},
     "output_type": "execute_result"
    }
   ],
   "source": [
    "(test_stats>=obs_stat).mean()"
   ]
  },
  {
   "cell_type": "markdown",
   "metadata": {},
   "source": [
    "### Conclusion: \n",
    "In conclustion, we reject the null at significasnt level 0.01. our data suggest that using commonly banned champion in a game is more likely to win the game."
   ]
  }
 ],
 "metadata": {
  "kernelspec": {
   "display_name": "Python 3 (ipykernel)",
   "language": "python",
   "name": "python3"
  },
  "language_info": {
   "codemirror_mode": {
    "name": "ipython",
    "version": 3
   },
   "file_extension": ".py",
   "mimetype": "text/x-python",
   "name": "python",
   "nbconvert_exporter": "python",
   "pygments_lexer": "ipython3",
   "version": "3.9.12"
  }
 },
 "nbformat": 4,
 "nbformat_minor": 2
}
