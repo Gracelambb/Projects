{
 "cells": [
  {
   "cell_type": "markdown",
   "metadata": {},
   "source": [
    "# COGS 108 - Project Proposal"
   ]
  },
  {
   "cell_type": "markdown",
   "metadata": {},
   "source": [
    "# Names\n",
    "\n",
    "- Nikita Shinde (A17643607)\n",
    "- Ashley Chavarria (A16833972)\n",
    "- Kim Ho (A17625462)\n",
    "- Grace Lam (A16393696)\n",
    "- Adrianna Vilaysith (A14923721)"
   ]
  },
  {
   "cell_type": "markdown",
   "metadata": {},
   "source": [
    "# Research Question"
   ]
  },
  {
   "cell_type": "markdown",
   "metadata": {},
   "source": [
    "Is there a statistically significant relationship between the Samsung and Apple stock markets between 2012-2022? Can this relationship be leveraged to build a predictive model for stock price trends in either company?"
   ]
  },
  {
   "cell_type": "markdown",
   "metadata": {},
   "source": [
    "## Background and Prior Work"
   ]
  },
  {
   "cell_type": "markdown",
   "metadata": {},
   "source": [
    "### Introduction\n",
    "\t\n",
    "All financial market performance in any company’s stocks are subject and vulnerable to the interest of investors and analysts. When one notices a company doing well in sales, a shareholder will most likely consider investing in such a company. Such as the rise in Tesla stocks purchased over the last years as it has become one of the most recognized brands of electrical vehicles in North America. However, a very intriguing set of stocks to observe is that of competitor companies, such as Samsung and Apple. It is not just a debate between users on which company produces better electronic products, but rather as two global leaders in the technology sector of products, these company's financial performance has often been a topic of speculation. \n",
    "\t\n",
    "In our analysis, we try to find a relationship between the history of stock prices for both Samsung and Apple and note if there are any trends that could possibly be used to predict future trends for both companies that may assist in investment decisions. Here, the process of analyzing the relationship between these two stocks will involve gathering 10 years worth of price data from 2012-2022 and employing statistical methods to assess the strength of any correlation that is observed. We believe that retrieving data from 2012-2022 is acceptable because this decade-long data set will provide a substantial timeframe to observe patterns and fluctuations in both company’s stock prices. Not only that, but it is a significant point in time after the legal feud between Samsung and Apple in April of 2011 to which Apple had filed a lawsuit against Samsung for allegedly infringing on Apple’s designs and trademarks, eventually leading to Samsung countersuing. Therefore, this decade holds not just an opportunity to see stock changes after the announcement and release of products, but also marks the beginning of a clash between Samsung and Apple users and investors.\n",
    "\n",
    "\n",
    "### Prior Work\n",
    "\n",
    "In one piece of literature, it is explained that Apple and Samsung for the past 12 years have been in stiff competition with each other with Apple beginning the revolution with the release of the one of the first smartphones in 2007 with Samsung soon following and since then, both companies constantly try to out-market each other. Although Apple outspends Samsung in its advertising for new products, Samsung’s creativity in campaigns has proven itself to be extraordinary. Because of this tension between the two companies, investors all keep a close eye on public reception of these two companies. In turn, heightening motivation from Apple and Samsung alike to innovate and pioneer a new lineage of technology. \n",
    "\n",
    "In our research on this topic, we came across the news that Apple announced the new release of M3 chips for MacBook Pro laptops and a new iMac model during a launch event Monday, October 30, 2023. The awaited news of significant enhancements in Apple’s software, such as longer battery life and amazing horsepower speeds for AI applications, has created so much buzz for the company that as of 1:52 PM EDT their stock had increased 0.21% to a stock price of 170.66 USD. Then when we take a look at the stock price for Samsung as of 3:30 PM KST, stock has decreased 0.59% to a stock price of about 49.46 USD per stock. Just from the stock changes we see overnight with Apple’s new announcement of upgrades, with Apple’s stocks increasing, Samsung’s decrease. \n",
    "    \n",
    "    \n",
    "While this is only a trend we see 17 hours after Apple’s announcement, we can see an inverse correlation between the two stock prices. It is also worth noting that competition between the two companies is also recognized by the public, which is made evident by the plethora of yahoo finance articles such as their article explaining the pros and cons of each company and admitting that the release cycles for Apple and Samsung “compliment each other”, but it is also recognized by the company themselves.Their mutual lawsuits since 2011 have proven the companies’ constant battle to prove that the other either copies design or software, their most recent lawsuit being in May 2018 where the jury found Samsung to pay over $500 million for “slavishly” copying features on the iPhone. In May 2018, Apple’s stocks closed at 47.04 USD per share while Samsung’s closed at 37.99 USD. Again, we can see that as one stock increases the other decreases, here the decrease in stock price for Apple followed their victory in their 2018 lawsuit against Samsung. \n",
    "\n",
    "While the movement of stock prices for these two companies could be coincidences, it is still a phenomenon that we are interested in exploring. The two occurrences presented don’t necessarily answer our question if the relationship is truly significant and if the changes in stock could be used to build a predictive model. In the first observation, Apple’s announcement of upgrades led to their increase in stock while Samsung’s decreased. In the second observation, Apple’s victory caused their stock price to decrease and Samsung’s to increase.While we are not here to track battles and tribulations between Apple and Samsung, we are here to determine if there is any kind of relationship between their stocks. \n"
   ]
  },
  {
   "cell_type": "markdown",
   "metadata": {},
   "source": [
    "# Hypothesis\n"
   ]
  },
  {
   "cell_type": "markdown",
   "metadata": {},
   "source": [
    "We hypothesize that there will be a significant relationship between both Apple and Samsung stock markets, particularly an inverse correlation. When Apple’s stocks decrease by any amount Samsung’s will increase by any value, and vice versa. As mentioned, from just the two instances of fluctuations between the stock of Samsung and Apple it is seen that their association is quite opposite. Competitiveness is not usually about being equal with a rival, more often than not one aims to be better than the other. Seeing as Samsung and Apple have a history of lawsuits, we would assume that their relationship will not be parallel or positive.\n",
    "\n"
   ]
  },
  {
   "cell_type": "markdown",
   "metadata": {},
   "source": [
    "# Data"
   ]
  },
  {
   "cell_type": "markdown",
   "metadata": {},
   "source": [
    "##### Explain what the ideal dataset you would want to answer this question. (This should include: What variables? How many observations? Who/what/how would these data be collected? How would these data be stored/organized?) \n",
    "\n",
    "\n",
    "- The ideal data set we are looking for includes historical stock pricing and trading volume data for both Apple and - Samsung. In regards to historical stock pricing, we are hoping to find data from the last decade which will allow us to interpret how well the two companies did over time. While both historical stock prices and trading data are essential for analyzing, we are also hoping to find datasets that include macroeconomic indicators such as GDP growth, inflation rates, interest rates that can help assess the broader economic environment that influences stock prices. \n",
    "\n",
    "\n",
    "- There are many variables to interpret when analyzing the stock market. We have stock price data, trading volume, market index data, GDP growth, inflation rates, interest rates, and sentiment data (social media and news sentiment). \n",
    "\n",
    "\n",
    "- For our data collection method, this can be obtained from Bloomberg or Yahoo Finance. Government agencies, corporate reports, and financial databases are available to us to help answer our hypothesis. \n",
    "\n",
    "\n",
    "- Our data set should be organized in a structured format such as a relational database or spreadsheet (CSV format). Each variable should have its own column and each observation should have a row. Timestamps and date fields are to be included so we can track when each observation was recorded. We are also considering creating a unique identifier for each company and the time period to facilitate data retrieval and analysis.\n",
    "\n",
    "\n"
   ]
  },
  {
   "cell_type": "markdown",
   "metadata": {},
   "source": [
    "#### Search for potential real datasets that could provide you with something useful for this project. You do not have to find every piece of data you will use, but you do need to have demonstrated some idea that (a) this data is gettable and (b) that this data may be different from what your ideal is.\n",
    "\n",
    "- Since we are examining the relationship between Samsung and Apple stock markets we would want the stock data from these 2 companies. We were able to find both of them on Kaggle.\n",
    "\n",
    "###### Dataset 1: Samsung Stock\n",
    "https://www.kaggle.com/datasets/ranugadisansagamage/samsung-stocks\n",
    "There are 7 columns in this dataset: Date, Open, High, Low, Close, Adj Close, and Volume, it consists of the features we are looking for which are pretty ideal. Moreover, the data looks clean and without missing values which is also what we are looking for. Later in the project, we would have to merge these 2 data sets to perform our analysis so we are also looking for data that have unique identifiers to help join the 2 data frames. We were able to get that from these 2 data sets since they all have the “Date” Column.\n",
    "\n",
    "###### Dataset 2: Apple stock\n",
    "https://www.kaggle.com/datasets/ranugadisansagamage/apple-stocks/data\n",
    "Columns: Date, Open, High, Low, Close, Adj Close, Volume\n",
    "This has really similar columns as the above data, also clean and without missing values. This also consists of a “Date” column which will help us merge the data later on. \n",
    "\n",
    "- b) this data may be different from our ideal since it only has data up to 2022, it may not be the most recent/relevant data. Also, the “Date” range is different for the 2 data set. The Apple stock data consists of dates from 1980-2022, while the Samsung data only consists of dates from 2000-2022, which is also different from what our ideal data looks like.\n",
    "\n",
    "\n",
    "\n"
   ]
  },
  {
   "cell_type": "markdown",
   "metadata": {},
   "source": [
    "# Ethics & Privacy"
   ]
  },
  {
   "cell_type": "markdown",
   "metadata": {},
   "source": [
    "\n",
    "\n",
    "The dataset does not reveal any personal information of individual investors or users so I do not think that we will run into any privacy issues with the datasets that we have chosen. Moreover, we sourced this data from Kaggle, a reputable platform that provides access to a wide range of free public datasets. By using secondary data from this platform, we are confident that we have obtained our data with proper consent and in compliance with ethical standards. However, when working with publicly available data sets, we still put different ethical factors into consideration.There could also be some bias in that each data set might be more biased towards that certain company (i.e. apple users versus samsung users). \n",
    "\n",
    "\n",
    "The period we chose between (2012-2022) can introduce bias based on the economic events and trends during that specific time period. Market disruptions within those years can impact the analysis. \n",
    "The Apple stock dataset goes from 1980-2022 while the Samsung stocks go from 2000-2022, this might cause potential biases that we will have to dive deeper into when looking at our analysis \n",
    "How was the dataset collected (i.e. what news source did the data come from) can influence the reporting biases \n",
    "\n",
    "Here we will explain how we will set out to detect specific biases before, during, and after communication our analysis for this question:\n",
    "\n",
    "Before analysis: We will conduct an exploratory data analysis (EDA) to understand the datasets we are working with and look for specific patterns or outliers and check for missing data. Then we would consider the years that the data were collected for both Apple and Samsung stocks and assure the datasets we use represents our research analysis and what we are trying to uncover.\n",
    "\n",
    "\n",
    "During analysis: Our group will remian mindful of the variable we decide to use and leave out for our conclusion while also taking into account the time period we are analyzing. \n",
    "\n",
    "\n",
    "After analysis: We will acknowledge the limitations we find in our analysis. By doing so, we will also be careful and concious of the language and vocabulary used when conducting our analysis to ensure it does not exude bias towards one company.\n",
    "\n",
    "The dynamic nature of financial markets, specifically the stock market, is dynamic and can change quickly over time. It is important to consider the implications of using historical data to make predictions about future trends, especially in evolving markets. Historical data can also reflect biases or inaccuracies that were present at the time of collection so we should acknowledge and address these potential sources of bias. We will ensure the algorithms used do not perpetuate or amplify existing biases. In this case, it would be apple users versus samsung users. How we interpret and communicate our analysis can have ethical implications so it is essential that we are clear about the limitations of our analysis and avoid overgeneralizing claims. \n",
    "\n",
    "We will do a comprehensive assessment of potential biases, ensuring fairness in data representation, and maintaining transparency in our analytical methods. We understand that while the data itself may not include personal information, there could still be downstream consequences associated with our analysis or predictive modeling. Thus, we aim to avoid overgeneralizing our claims. Our group will make sure we are transparent and honest about our data methods, data sources, and potential limitations and biases in our analysis and ensure there is no downplaying or exaggeration of our results despite our own biases. Our group will make certain there are no misinterpretations or misinformation in our research that could lead to false analysis.\n"
   ]
  },
  {
   "cell_type": "markdown",
   "metadata": {},
   "source": [
    "# Team Expectations "
   ]
  },
  {
   "cell_type": "markdown",
   "metadata": {},
   "source": [
    "\n",
    "Read over the [COGS108 Team Policies](https://github.com/COGS108/Projects/blob/master/COGS108_TeamPolicies.md) individually. Then, include your group’s expectations of one another for successful completion of your COGS108 project below. Discuss and agree on what all of your expectations are. Discuss how your team will communicate throughout the quarter and consider how you will communicate respectfully should conflicts arise. By including each member’s name above and by adding their name to the submission, you are indicating that you have read the COGS108 Team Policies, accept your team’s expectations below, and have every intention to fulfill them. These expectations are for your team’s use and benefit — they won’t be graded for their details.\n"
   ]
  },
  {
   "cell_type": "markdown",
   "metadata": {},
   "source": [
    "- Answer iMessage and Discord messages in a timely manner.\n",
    "- If you can’t make it to a meeting, let everyone know in advance and make sure your work is done prior for the review of members who are able to make it.\n",
    "- Adhere to deadlines and goals set by group members.\n",
    "- Convey personal expectations to each other and speak up if someone suggests an idea that could produce problems or difficulties\n",
    "- If you make edits to a section written by another group member, let everyone know that edits will be made. Comment the edits and do not delete the previous work of the group member. \n",
    "- If you need help, please let the members know to see what we can do\n",
    "- Reach out to each other every now and then :D\n"
   ]
  },
  {
   "cell_type": "markdown",
   "metadata": {},
   "source": [
    "# Project Timeline Proposal"
   ]
  },
  {
   "cell_type": "markdown",
   "metadata": {},
   "source": [
    "Specify your team's specific project timeline. An example timeline has been provided. Changes the dates, times, names, and details to fit your group's plan.\n",
    "\n",
    "If you think you will need any special resources or training outside what we have covered in COGS 108 to solve your problem, then your proposal should state these clearly. For example, if you have selected a problem that involves implementing multiple neural networks, please state this so we can make sure you know what you’re doing and so we can point you to resources you will need to implement your project. Note that you are not required to use outside methods.\n",
    "\n",
    "\n",
    "- M/TH in person or virtually(Discord)  time is TBD\n",
    "- W only when we have to submit checkpoints 6:00PM PST\n",
    "- If something is due on Wednesday, have your portion of the work completed by noon of prior Tuesday\n",
    "- 30 minute discord call every other Saturday 11.11.23 time is TBD\n"
   ]
  }
 ],
 "metadata": {
  "kernelspec": {
   "display_name": "Python 3 (ipykernel)",
   "language": "python",
   "name": "python3"
  },
  "language_info": {
   "codemirror_mode": {
    "name": "ipython",
    "version": 3
   },
   "file_extension": ".py",
   "mimetype": "text/x-python",
   "name": "python",
   "nbconvert_exporter": "python",
   "pygments_lexer": "ipython3",
   "version": "3.9.12"
  }
 },
 "nbformat": 4,
 "nbformat_minor": 2
}
