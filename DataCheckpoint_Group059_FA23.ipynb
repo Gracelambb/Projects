{
 "cells": [
  {
   "cell_type": "markdown",
   "metadata": {},
   "source": [
    "**If you lost points on the last checkpoint you can get them back by responding to TA/IA feedback**  \n",
    "\n",
    "Update/change the relevant sections where you lost those points, make sure you respond on GitHub Issues to your TA/IA to call their attention to the changes you made here.\n",
    "\n",
    "Please update your Timeline... no battle plan survives contact with the enemy, so make sure we understand how your plans have changed."
   ]
  },
  {
   "cell_type": "markdown",
   "metadata": {},
   "source": [
    "# COGS 108 - Data Checkpoint"
   ]
  },
  {
   "cell_type": "markdown",
   "metadata": {
    "id": "nr7-c3t7SmEW"
   },
   "source": [
    "# Names\n",
    "\n",
    "- Nikita Shinde (A17643607)\n",
    "- Ashley Chavarria (A16833972)\n",
    "- Kim Ho (A17625462)\n",
    "- Grace Lam (A16393696)\n",
    "- Adrianna Vilaysith (A14923721)"
   ]
  },
  {
   "cell_type": "markdown",
   "metadata": {},
   "source": [
    "# Research Question"
   ]
  },
  {
   "cell_type": "markdown",
   "metadata": {},
   "source": [
    "Is there a statistically significant relationship between the Samsung and Apple stock markets between 2012-2022? Using employment data for each company, can this relationship be leveraged to build a predictive model for stock price trends in either company to help others determine when each stock is more secure to purchase?"
   ]
  },
  {
   "cell_type": "markdown",
   "metadata": {},
   "source": [
    "## Background and Prior Work"
   ]
  },
  {
   "cell_type": "markdown",
   "metadata": {
    "id": "jdHdXPUnSmEX"
   },
   "source": [
    "### Introduction\n",
    "All financial market performance in any company’s stocks are subject and vulnerable to the interest of investors and analysts. When one notices a company doing well in sales, a shareholder will most likely consider investing in such a company. Such as the rise in Tesla stocks purchased over the last years as it has become one of the most recognized brands of electrical vehicles in North America. However, a very intriguing set of stocks to observe is that of competitor companies, such as Samsung and Apple. It is not just a debate between users on which company produces better electronic products, but rather as two global leaders in the technology sector of products, these company's financial performance has often been a topic of speculation.\n",
    "\n",
    "In our analysis, we try to find a relationship between the history of stock prices for both Samsung and Apple and note if there are any trends that could possibly be used to predict future trends for both companies that may assist in investment decisions. Our group would like to take a look at employment as a possible factor for a company's stock price as the observed generalization of how stocks change in price is all dependent on who is investing. That said, investors penalizing companies for layoffs is quite common, causing the stock of the company to decrease in value 1. All this said, an analysis of a relationship between stocks in these two companies as well as the trends in employment can be used to build a predictive model to determine the value of security in stock in either company. \n",
    "\n",
    "Here, the process of analyzing the relationship between these two stocks will involve gathering 10 years worth of price data from 2012-2022 and employing statistical methods to assess the strength of any correlation that is observed. We believe that retrieving data from 2012-2022 is acceptable because this decade-long data set will provide a substantial timeframe to observe patterns and fluctuations in both company’s stock prices. Not only that, but it is a significant point in time after the legal feud between Samsung and Apple in April of 2011 to which Apple had filed a lawsuit against Samsung for allegedly infringing on Apple’s designs and trademarks, eventually leading to Samsung countersuing 1. Therefore, this decade holds not just an opportunity to see stock changes after the announcement and release of products, but also marks the beginning of a clash between Samsung and Apple users and investors.\n",
    "\n",
    "1. <a name=\"cite_note-1\"></a>[^](#cite_ref-1) Eshghi, K., Astvansh, V. (21 Sept 2023) Stock Investors' Reaction to Layoff Announcements: A Meta-analysis. *Human Resource Management Journal*. https://onlinelibrary.wiley.com/doi/full/10.1111/1748-8583.12532\\n,\n",
    "\n",
    "### Prior Work\n",
    "\n",
    "In one piece of literature, it is explained that Apple and Samsung for the past 12 years have been in stiff competition with each other with Apple beginning the revolution with the release of the one of the first smartphones in 2007 with Samsung soon following since then, both companies constantly try to out-market each other. Although Apple outspends Samsung in its advertising for new products, Samsung’s creativity in campaigns has proven itself to be extraordinary 2. Because of this tension between the two companies, investors all keep a close eye on public reception of these two companies. In turn, heightening motivation from Apple and Samsung alike to innovate and pioneer a new lineage of technology.\n",
    "\n",
    "In our research on this topic, we came across the news that Apple announced the new release of M3 chips for MacBook Pro laptops and a new iMac model during a launch event Monday, October 30, 2023 3. The awaited news of significant enhancements in Apple’s software, such as longer battery life and amazing horsepower speeds for AI applications, has created so much buzz for the company that as of 1:52 PM EDT their stock had increased 0.21% to a stock price of 170.66 USD 4. Then when we take a look at the stock price for Samsung as of 3:30 PM KST, stock has decreased 0.59% to a stock price of about 49.46 USD per stock 5. Just from the stock changes we see overnight with Apple’s new announcement of upgrades, with Apple’s stocks increasing, Samsung’s decrease.\n",
    "\n",
    "While this is only a trend we see 17 hours after Apple’s announcement, we can see an inverse correlation between the two stock prices. It is also worth noting that competition between the two companies is also recognized by the public, which is made evident by the plethora of yahoo finance articles such as their article explaining the pros and cons of each company and admitting that the release cycles for Apple and Samsung “compliment each other”, but it is also recognized by the company themselves 6 .Their mutual lawsuits since 2011 have proven the companies’ constant battle to prove that the other either copies design or software, their most recent lawsuit being in May 2018 where the jury found Samsung to pay over $500 million for “slavishly” copying features on the iPhone 7. In May 2018, Apple’s stocks closed at 47.04 USD per share while Samsung’s closed at 37.99 USD. Again, we can see that as one stock increases the other decreases, here the decrease in stock price for Apple following their victory in their 2018 lawsuit against Samsung.\n",
    "\n",
    "Additionally, there was quite a change in the employment rates of these two companies when comparing them pre and post lawsuit settlement. From 2017 and going into the end of the lawsuit in 2018, Apple had an increase in employment of 7.32%. Then in 2019, a year after their victory, had another increase of 3.79%. (8) For Samsung, 2017 going into 2018 the rate of employment increased at 3.31%, however, post lawsuit in 2019 there was a significant decrease as the rate of employment plummeted to -10.67%.(9) Demonstrating that a year after the loss in the lawsuit of the May 2018 the settlement resulted in some investors thoughts faltered in the viability Samsung stocks which would also explain the decrease of the company’s stock price to a selling price of 32.34 USD and Apple’s decrease of price at a selling point price of 44.74 USD, nonetheless outweighing Samsung by a significant amount.\n",
    "\n",
    "While the movement of stock prices for these two companies could be coincidences, it is still a phenomenon that we are interested in exploring. The two occurrences presented don’t necessarily answer our question if the relationship is truly significant and if the changes in stock could be used to build a predictive model. In the first observation, Apple’s announcement of upgrades led to their increase in stock while Samsung’s decreased. In the second observation, Apple’s victory caused their stock price to decrease and Samsung’s to increase.While we are not here to track battles and tribulations between Apple and Samsung, we are here to determine if there is any kind of relationship between their stocks.\n",
    "\n",
    "\n",
    "2. <a name=\"cite_note-2\"></a>[^](#cite_ref-2) Bajarin, T. (2022, November 9). \"Why Apple and Samsung’s device competition is great for consumers.\" *Forbes.* https://www.forbes.com/sites/timbajarin/2021/08/12/why-apple-and-samsungs-device-competition-is-great-for-consumers/?sh=73094d8d5e22\n",
    "\n",
    "3. <a name=\"cite_note-3\"></a>[^](#cite_ref-3) Leswig, K. (2023, October 30). Apple announces new M3 chips and cuts the price of the entry-level MacBook Pro. *CNBC.* https://www.cnbc.com/2023/10/30/apple-announces-new-m3-chips-cuts-price-of-entry-level-macbook-pro-.html\n",
    "\n",
    "4. <a name=\"cite_note-4\"></a>[^](#cite_ref-4)  Apple Inc. (AAPL) stock price, news, Quote & History *Yahoo! Finance.* https://finance.yahoo.com/quote/AAPL?p=AAPL\n",
    "\n",
    "5. <a name=\"cite_note-5\"></a>[^](#cite_ref-5) Samsung Electronics Co., Ltd. (005930.KS) stock price, news, Quote & History *Yahoo! Finance.* https://finance.yahoo.com/quote/005930.KS/\n",
    "\n",
    "6. <a name=\"cite_note-6\"></a>[^](#cite_ref-6) Menzies, S. (2016, March 2). Apple vs Samsung: which is best? *Yahoo! Finance.* https://au.finance.yahoo.com/news/apple-vs-samsung--which-is-best-234941730.html\n",
    "\n",
    "7. <a name=\"cite_note-7\"></a>[^](#cite_ref-7) Reuters. (2018, May 24). Jury Awards Apple $539 Million in Samsung Patent Case. *The New York Times.* https://www.nytimes.com/2018/05/24/business/apple-samsung-patent-trial.html"
   ]
  },
  {
   "cell_type": "markdown",
   "metadata": {},
   "source": [
    "# Hypothesis\n"
   ]
  },
  {
   "cell_type": "markdown",
   "metadata": {},
   "source": [
    "We hypothesize that there will be a significant relationship between both Apple and Samsung stock markets, particularly an inverse correlation. When Apple’s stocks decrease by any amount Samsung’s will increase by any value, and vice versa. Due to this assumption, it is reasonable to believe that since either stock can fluctuate negatively or positively, both Samsung and Apple stock are reasonably secured to invest in. Positive employment rates usually indicate growth in the company and, in turn, the value of the company increases as well. Therefore, with the positive stock and/or employment rate increase, the company would be much more attractive to invest in. Thus, from an investor standpoint, since these two companies grow and fall inversely, the predictive model would suggest that at the peak of one company’s stock, it would be advantageous  to purchase stock from the rival company and vice versa. As mentioned, from just the two instances of fluctuations between the stock of Samsung and Apple it is seen that their association is quite opposite. Competitiveness is not usually about being equal with a rival, more often than not one aims to be better than the other. Seeing as Samsung and Apple have a history of lawsuits, we would assume that their relationship will not be parallel or positive.\n",
    "\n",
    "\n"
   ]
  },
  {
   "cell_type": "markdown",
   "metadata": {},
   "source": [
    "# Data"
   ]
  },
  {
   "cell_type": "markdown",
   "metadata": {},
   "source": [
    "##### Explain what the ideal dataset you would want to answer this question. (This should include: What variables? How many observations? Who/what/how would these data be collected? How would these data be stored/organized?)\n"
   ]
  },
  {
   "cell_type": "markdown",
   "metadata": {},
   "source": [
    "- The ideal data set we are looking for includes historical stock pricing and trading volume data for both Apple and - Samsung. In regards to historical stock pricing, we are hoping to find data from the last decade which will allow us to interpret how well the two companies did over time. We are using employment datasets and stock history to cross-examine. Doing this will allow us to determine the more successful company. \n",
    "\n",
    "\n",
    "- There are many variables to interpret when analyzing the stock market, however we are using employment rates and stock prices to find trends/patterns between the two. \n",
    "\n",
    "\n",
    "- For our data collection method, this can be obtained from Bloomberg or Yahoo Finance. Government agencies, corporate reports, and financial databases are available to us to help answer our hypothesis.\n",
    "\n",
    "\n",
    "- Our data set should be organized in a structured format such as a relational database or spreadsheet (CSV format). Each variable should have its own column and each observation should have a row. Timestamps and date fields are to be included so we can track when each observation was recorded. We are also considering creating a unique identifier for each company and the time period to facilitate data retrieval and analysis.\n"
   ]
  },
  {
   "cell_type": "markdown",
   "metadata": {},
   "source": [
    "##### Search for potential real datasets that could provide you with something useful for this project. You do not have to find every piece of data you will use, but you do need to have demonstrated some idea that (a) this data is gettable and (b) that this data may be different from what your ideal is.\n"
   ]
  },
  {
   "cell_type": "markdown",
   "metadata": {},
   "source": [
    "- Since we are examining the relationship between Samsung and Apple stock markets we would want the stock data from these 2 companies. We were able to find both of them on Kaggle.\n",
    "\n",
    "\n",
    "- For our employment data, we are going to create our own dataset, due to the fact that Samsung’s employment datasets are unavailable. \n"
   ]
  },
  {
   "cell_type": "markdown",
   "metadata": {},
   "source": [
    "##### Dataset 1: Samsung Stock\n",
    "https://www.kaggle.com/datasets/ranugadisansagamage/samsung-stocks \n",
    "The data frame has the shape (5621, 7), which means 5621 rows and 7 columns. The columns in this dataset are: Date, Open, High, Low, Close, Adj Close, and Volume, it consists of the features we are looking for which are pretty ideal. Moreover, the data looks clean and without missing values which is also what we are looking for. Later in the project, we would have to merge these 2 data sets to perform our analysis so we are also looking for data that have unique identifiers to help join the 2 data frames. We were able to get that from these 2 data sets since they all have the “Date” Column.\n",
    "\n",
    "##### Dataset 2: Apple stock\n",
    "https://www.kaggle.com/datasets/ranugadisansagamage/apple-stocks/data \n",
    "The data frame has the shape (10449, 7), which means 10449 rows and 7 columns. Columns: Date, Open, High, Low, Close, Adj Close, Volume This has really similar columns as the above data, also clean and without missing values. This also consists of a “Date” column which will help us merge the data later on.\n",
    "We have decided to also look into Apple and Samsung’s annual employment data to help answer our research question and to determine which stock is more secure to purchase. \n",
    "\n",
    "##### Dataset 3: Apple Employment Data \n",
    "https://www.macrotrends.net/stocks/charts/AAPL/apple/number-of-employees#:~:text=Apple%20total%20number%20of%20employees,a%204.76%25%20increase%20from%202020.\n",
    "\n",
    "This is the data for annual Apple employment from 2010 to 2023. The data consists of 14 rows and 2 columns. The columns are years and the annual number of Employees. We were unable to find data in the format of a CSV, but we found reports online that present data in the form of tables. We will later transform it into a CSV so that we can use and load this data. \n",
    "\n",
    "\n",
    "##### Dataset 4: Samsung Employment Data:  create through report \n",
    "https://www.investing.com/academy/statistics/samsung-facts/\n",
    "\n",
    "This is the data for annual Samsung employment from 2009  to 2023. The data on this website consists of 15 rows and 2 columns. The columns are years and the annual number of Employees. We can later use the year variable to merge this data into datasets 1 and 2. We were also unable to find data in the format of a CSV for Samsung employment, so we found data on a website. We will also have to transform it into a CSV later so that we can load this data. \n",
    "\n",
    "##### b) this data may be different from our ideal since it only has data up to 2022, it may not be the most recent/relevant data. Also, the “Date” range is different for the 2 data sets. The Apple stock data consists of dates from 1980-2022, while the Samsung data only consists of dates from 2000-2022, which is also different from what our ideal data looks like.\n",
    "\n",
    "Since we were unable to find annual employment data for Apple and Samsung on websites such as Kaggle. We had to rely on other websites that do not provide data in the form of a CSV, instead, it is displayed as a table embedded in the HTML. This is different from our ideal dataset since we were not able to find them in the form of semi-structured data, therefore it requires more work before we can merge/use it in our project.\n",
    "\n",
    "Moreover, since dataset 3 and 4 was found on websites/articles through Google search, we do not know how reliable this data set is. Making it less ideal as compared to data found on Kaggle.\n"
   ]
  },
  {
   "cell_type": "markdown",
   "metadata": {},
   "source": [
    "## Data overview\n"
   ]
  },
  {
   "cell_type": "markdown",
   "id": "b2cd54b2",
   "metadata": {},
   "source": [
    "##### Dataset #1\n",
    "- Dataset Name: apple_stocks\n",
    "- Link to the dataset: https://www.kaggle.com/datasets/ranugadisansagamage/samsung-stocks \n",
    "- Number of observations: 10449\n",
    "- Number of variables: 7"
   ]
  },
  {
   "cell_type": "markdown",
   "id": "139ea1fd",
   "metadata": {},
   "source": [
    "##### Dataset #2\n",
    "- Dataset Name: Samsung_stocks\n",
    "- Link to the dataset: https://www.kaggle.com/datasets/ranugadisansagamage/apple-stocks/data \n",
    "- Number of observations: 5621\n",
    "- Number of variables: 7"
   ]
  },
  {
   "cell_type": "markdown",
   "metadata": {},
   "source": [
    "##### Dataset #3\n",
    "- Dataset Name: Compilation of Employment Metrics at Apple and Samsung \n",
    "- Link to the dataset: \n",
    "    - https://www.macrotrends.net/stocks/charts/AAPL/apple/number-of-employees#:~:text=Apple%20total%20number%20of%20employees,a%204.76%25%20increase%20from%202020.\n",
    "    - https://www.investing.com/academy/statistics/samsung-facts/\n",
    "\n",
    "- Number of observations: 20\n",
    "- Number of variables: 3"
   ]
  },
  {
   "cell_type": "markdown",
   "id": "4baeac00",
   "metadata": {},
   "source": [
    "## Dataset 1: Apple_stocks"
   ]
  },
  {
   "cell_type": "markdown",
   "metadata": {},
   "source": [
    "#### Datasets 1 and 2:\n",
    "- Variables used from this dataset will be the timeframe of the stocks and their trends. We will analyze how successful Samsung and Apple Stocks were over the timeframe we are looking into. \n",
    "- We also plan on comparing the two stocks to see which company is better investing in, however we plan on cross-referencing these with the employment datasets.\n",
    "- For both data sets, data wrangling may involve handling missing values, converting date formats, and ensuring consistency within the stock prices. \n",
    "- Additionally, we are also checking for outliers and normalizing numerical values. \n"
   ]
  },
  {
   "cell_type": "code",
   "execution_count": 24,
   "id": "2196bded",
   "metadata": {
    "scrolled": true
   },
   "outputs": [],
   "source": [
    "Apple_stocks=pd.read_csv(\"Apple.csv\")"
   ]
  },
  {
   "cell_type": "code",
   "execution_count": 25,
   "id": "e59d11b2",
   "metadata": {},
   "outputs": [
    {
     "data": {
      "text/plain": [
       "(10449, 7)"
      ]
     },
     "execution_count": 25,
     "metadata": {},
     "output_type": "execute_result"
    }
   ],
   "source": [
    "Apple_stocks.shape"
   ]
  },
  {
   "cell_type": "code",
   "execution_count": 26,
   "id": "ebee9190",
   "metadata": {
    "scrolled": false
   },
   "outputs": [
    {
     "data": {
      "text/plain": [
       "Date          object\n",
       "Open         float64\n",
       "High         float64\n",
       "Low          float64\n",
       "Close        float64\n",
       "Adj Close    float64\n",
       "Volume         int64\n",
       "dtype: object"
      ]
     },
     "execution_count": 26,
     "metadata": {},
     "output_type": "execute_result"
    }
   ],
   "source": [
    "Apple_stocks.dtypes"
   ]
  },
  {
   "cell_type": "code",
   "execution_count": null,
   "id": "7d84dbea",
   "metadata": {},
   "outputs": [],
   "source": [
    "Apple_stocks.describe()"
   ]
  },
  {
   "cell_type": "markdown",
   "id": "b9c01579",
   "metadata": {},
   "source": [
    "## Dataset 2: Samsung_stocks"
   ]
  },
  {
   "cell_type": "markdown",
   "metadata": {},
   "source": [
    "#### Datasets 1 and 2:\n",
    "- Variables used from this dataset will be the timeframe of the stocks and their trends. We will analyze how successful Samsung and Apple Stocks were over the timeframe we are looking into. \n",
    "- We also plan on comparing the two stocks to see which company is better investing in, however we plan on cross-referencing these with the employment datasets.\n",
    "- For both data sets, data wrangling may involve handling missing values, converting date formats, and ensuring consistency within the stock prices. \n",
    "- Additionally, we are also checking for outliers and normalizing numerical values. \n"
   ]
  },
  {
   "cell_type": "code",
   "execution_count": 28,
   "id": "3427407b",
   "metadata": {},
   "outputs": [],
   "source": [
    "Samsung_stocks=pd.read_csv(\"Samsung.csv\")"
   ]
  },
  {
   "cell_type": "code",
   "execution_count": 29,
   "id": "3e8a42b3",
   "metadata": {},
   "outputs": [
    {
     "data": {
      "text/plain": [
       "(5621, 7)"
      ]
     },
     "execution_count": 29,
     "metadata": {},
     "output_type": "execute_result"
    }
   ],
   "source": [
    "Samsung_stocks.shape"
   ]
  },
  {
   "cell_type": "code",
   "execution_count": 31,
   "id": "154ecf4d",
   "metadata": {},
   "outputs": [
    {
     "data": {
      "text/plain": [
       "Date          object\n",
       "Open         float64\n",
       "High         float64\n",
       "Low          float64\n",
       "Close        float64\n",
       "Adj Close    float64\n",
       "Volume         int64\n",
       "dtype: object"
      ]
     },
     "execution_count": 31,
     "metadata": {},
     "output_type": "execute_result"
    }
   ],
   "source": [
    "Samsung_stocks.dtypes"
   ]
  },
  {
   "cell_type": "code",
   "execution_count": 30,
   "id": "858bb40c",
   "metadata": {
    "scrolled": true
   },
   "outputs": [
    {
     "data": {
      "text/html": [
       "<div>\n",
       "<style scoped>\n",
       "    .dataframe tbody tr th:only-of-type {\n",
       "        vertical-align: middle;\n",
       "    }\n",
       "\n",
       "    .dataframe tbody tr th {\n",
       "        vertical-align: top;\n",
       "    }\n",
       "\n",
       "    .dataframe thead th {\n",
       "        text-align: right;\n",
       "    }\n",
       "</style>\n",
       "<table border=\"1\" class=\"dataframe\">\n",
       "  <thead>\n",
       "    <tr style=\"text-align: right;\">\n",
       "      <th></th>\n",
       "      <th>Open</th>\n",
       "      <th>High</th>\n",
       "      <th>Low</th>\n",
       "      <th>Close</th>\n",
       "      <th>Adj Close</th>\n",
       "      <th>Volume</th>\n",
       "    </tr>\n",
       "  </thead>\n",
       "  <tbody>\n",
       "    <tr>\n",
       "      <th>count</th>\n",
       "      <td>5621.000000</td>\n",
       "      <td>5621.000000</td>\n",
       "      <td>5621.000000</td>\n",
       "      <td>5621.000000</td>\n",
       "      <td>5621.000000</td>\n",
       "      <td>5.621000e+03</td>\n",
       "    </tr>\n",
       "    <tr>\n",
       "      <th>mean</th>\n",
       "      <td>24884.228785</td>\n",
       "      <td>25135.306885</td>\n",
       "      <td>24627.612524</td>\n",
       "      <td>24879.640633</td>\n",
       "      <td>21729.421164</td>\n",
       "      <td>2.176271e+07</td>\n",
       "    </tr>\n",
       "    <tr>\n",
       "      <th>std</th>\n",
       "      <td>20108.258909</td>\n",
       "      <td>20274.093474</td>\n",
       "      <td>19934.697294</td>\n",
       "      <td>20094.098853</td>\n",
       "      <td>19740.261271</td>\n",
       "      <td>1.545201e+07</td>\n",
       "    </tr>\n",
       "    <tr>\n",
       "      <th>min</th>\n",
       "      <td>2540.000000</td>\n",
       "      <td>2760.000000</td>\n",
       "      <td>2420.000000</td>\n",
       "      <td>2730.000000</td>\n",
       "      <td>2078.436279</td>\n",
       "      <td>0.000000e+00</td>\n",
       "    </tr>\n",
       "    <tr>\n",
       "      <th>25%</th>\n",
       "      <td>10160.000000</td>\n",
       "      <td>10320.000000</td>\n",
       "      <td>10020.000000</td>\n",
       "      <td>10160.000000</td>\n",
       "      <td>7780.813477</td>\n",
       "      <td>1.179815e+07</td>\n",
       "    </tr>\n",
       "    <tr>\n",
       "      <th>50%</th>\n",
       "      <td>16580.000000</td>\n",
       "      <td>16800.000000</td>\n",
       "      <td>16420.000000</td>\n",
       "      <td>16600.000000</td>\n",
       "      <td>13287.424805</td>\n",
       "      <td>1.774055e+07</td>\n",
       "    </tr>\n",
       "    <tr>\n",
       "      <th>75%</th>\n",
       "      <td>31320.000000</td>\n",
       "      <td>31600.000000</td>\n",
       "      <td>30940.000000</td>\n",
       "      <td>31340.000000</td>\n",
       "      <td>26643.304688</td>\n",
       "      <td>2.722500e+07</td>\n",
       "    </tr>\n",
       "    <tr>\n",
       "      <th>max</th>\n",
       "      <td>90300.000000</td>\n",
       "      <td>96800.000000</td>\n",
       "      <td>89500.000000</td>\n",
       "      <td>91000.000000</td>\n",
       "      <td>88908.179688</td>\n",
       "      <td>1.642150e+08</td>\n",
       "    </tr>\n",
       "  </tbody>\n",
       "</table>\n",
       "</div>"
      ],
      "text/plain": [
       "               Open          High           Low         Close     Adj Close  \\\n",
       "count   5621.000000   5621.000000   5621.000000   5621.000000   5621.000000   \n",
       "mean   24884.228785  25135.306885  24627.612524  24879.640633  21729.421164   \n",
       "std    20108.258909  20274.093474  19934.697294  20094.098853  19740.261271   \n",
       "min     2540.000000   2760.000000   2420.000000   2730.000000   2078.436279   \n",
       "25%    10160.000000  10320.000000  10020.000000  10160.000000   7780.813477   \n",
       "50%    16580.000000  16800.000000  16420.000000  16600.000000  13287.424805   \n",
       "75%    31320.000000  31600.000000  30940.000000  31340.000000  26643.304688   \n",
       "max    90300.000000  96800.000000  89500.000000  91000.000000  88908.179688   \n",
       "\n",
       "             Volume  \n",
       "count  5.621000e+03  \n",
       "mean   2.176271e+07  \n",
       "std    1.545201e+07  \n",
       "min    0.000000e+00  \n",
       "25%    1.179815e+07  \n",
       "50%    1.774055e+07  \n",
       "75%    2.722500e+07  \n",
       "max    1.642150e+08  "
      ]
     },
     "execution_count": 30,
     "metadata": {},
     "output_type": "execute_result"
    }
   ],
   "source": [
    "Samsung_stocks.describe()"
   ]
  },
  {
   "cell_type": "markdown",
   "metadata": {},
   "source": [
    "## Dataset 3:  Compilation of Employment Metrics at Apple and Samsung"
   ]
  },
  {
   "cell_type": "markdown",
   "metadata": {},
   "source": [
    "- We are planning to create our own dataset consisting of employment data from both companies, combining dataset 3 and 4. \n",
    "- For the Apple employment dataset, our key variables will be employee roles, salaries, and tenure. Important metrics can encompass average income, turnover rates, and the current year headcount. We will also include any trends over the timeframe we are researching. We are also going to look at missing data, standardizing job titles/descriptions, and calculating any additional variables like employment satisfaction and layoffs. \n",
    "- For the Samsung employment dataset, our key variables will be employee roles, employment locations, and performance ratings. Important metrics can encompass workforce diversity (due to Samsung being a global company), regional distribution, and productivity indicators. We are also going to look at missing data, regional disparities, and deal with any outliers in performance ratings and/or layoffs. \n",
    "- The dataset will require standardizing date formats, duplicate entries, and ensuring consistency in defining variables across the interested timeframe. \n",
    "- Nuances we will look for in the employment datasets could involve variations in job titles and descriptions across different years. These changes in reporting standards or data collection methods, can cause discrepancies in how certain metrics are calculated. For example specific job titles like \"Software Engineer\" might be represented differently over time.\n",
    "- Additionally, fluctuations in economic conditions or industry trends could impact hiring patterns or salary structures. Addressing these nuances during data wrangling is important to ensure we are doing accurate and consistent analyses. Regular updates to roles or policies within each company might also introduce complexities that need careful consideration. Understanding and handling these nuances contribute to the reliability of our analysis. \n"
   ]
  },
  {
   "cell_type": "code",
   "execution_count": null,
   "metadata": {},
   "outputs": [],
   "source": []
  },
  {
   "cell_type": "code",
   "execution_count": null,
   "metadata": {},
   "outputs": [],
   "source": []
  },
  {
   "cell_type": "code",
   "execution_count": null,
   "metadata": {},
   "outputs": [],
   "source": []
  },
  {
   "cell_type": "code",
   "execution_count": null,
   "metadata": {},
   "outputs": [],
   "source": []
  },
  {
   "cell_type": "markdown",
   "metadata": {},
   "source": [
    "# Ethics & Privacy"
   ]
  },
  {
   "cell_type": "markdown",
   "metadata": {},
   "source": [
    "\n",
    "\n",
    "We do not have reason to believe that our data for stock prices would pose a privacy concern for investors. As for the datasets our group will create for Apple and Samsung stock, the data is simply a count of the amount of employees in each company and does not include factors such as race, gender, or wage. Simply, the datasets being created are only to note employment rates, which we believe would not be a concern for employee privacy. Moreover, we sourced this data from Kaggle, a reputable platform that provides access to a wide range of free public datasets. By using secondary data from this platform, we are confident that we have obtained our data with proper consent and in compliance with ethical standards. However, when working with publicly available data sets, we still put different ethical factors into consideration.There could also be some bias in that each data set might be more biased towards that certain company (i.e. apple users versus samsung users). The dataset for employment rates in both companies could pose some ethical bias. We sourced these datasets from two different websites that could potentially be the reason for this bias. Since these two sets were not originally in CSV form, the accuracy of the employment data is much lower than the stocks data sourced from Kaggle. \n",
    "\n",
    "The period we chose between (2012-2022) can introduce bias based on the economic events and trends during that specific time period. Market disruptions within those years can impact the analysis. The Apple stock dataset goes from 1980-2022 while the Samsung stocks go from 2000-2022, this might cause potential biases that we will have to dive deeper into when looking at our analysis. Another important concern to note is how the dataset was collected (i.e. what news source did the data come from) can also influence the reporting biases.\n",
    "Here we will explain how we will set out to detect specific biases before, during, and after communication in our analysis for this question:\n",
    "\n",
    "Before analysis: We will conduct an exploratory data analysis (EDA) to understand the datasets we are working with and look for specific patterns or outliers while also checking for missing data. Then we would consider the years that the data were collected for both Apple and Samsung stocks, as well as employment, to assure the datasets we use represent our research analysis and what we are trying to uncover.\n",
    "\n",
    "During analysis: Our group will remain mindful of the trends in employment and trends in stock prices as we decide what to use and what to leave out for our conclusion while also taking into account the time period we are analyzing.\n",
    "\n",
    "After analysis: We will acknowledge the limitations we find in our analysis. By doing so, we will also be careful and conscious of the language and vocabulary used when conducting our analysis to ensure it does not exude bias towards one company.\n",
    "\n",
    "The dynamic nature of financial markets, specifically the stock market, is dynamic and can change quickly over time. It is important to consider the implications of using historical data to make predictions about future trends, especially in evolving markets. Historical data can also reflect biases or inaccuracies that were present at the time of collection so we should acknowledge and address these potential sources of bias. We will ensure the algorithms used do not perpetuate or amplify existing biases. In this case, it would be apple users versus samsung users. How we interpret and communicate our analysis can have ethical implications so it is essential that we are clear about the limitations of our analysis and avoid overgeneralizing claims.\n",
    "\n",
    "We will do a comprehensive assessment of potential biases, ensuring fairness in data representation, and maintaining transparency in our analytical methods. We understand that while the data itself may not include personal information, there could still be downstream consequences associated with our analysis or predictive modeling. Thus, we aim to avoid overgeneralizing our claims. Our group will make sure we are transparent and honest about our data methods, data sources, and potential limitations and biases in our analysis and ensure there is no downplaying or exaggeration of our results despite our own biases. Our group will make certain there are no misinterpretations or misinformation in our research that could lead to false analysis.\n"
   ]
  },
  {
   "cell_type": "markdown",
   "metadata": {},
   "source": [
    "# Team Expectations "
   ]
  },
  {
   "cell_type": "markdown",
   "metadata": {
    "id": "dR928VehSmEa"
   },
   "source": [
    "\n",
    "Read over the [COGS108 Team Policies](https://github.com/COGS108/Projects/blob/master/COGS108_TeamPolicies.md) individually. Then, include your group’s expectations of one another for successful completion of your COGS108 project below. Discuss and agree on what all of your expectations are. Discuss how your team will communicate throughout the quarter and consider how you will communicate respectfully should conflicts arise. By including each member’s name above and by adding their name to the submission, you are indicating that you have read the COGS108 Team Policies, accept your team’s expectations below, and have every intention to fulfill them. These expectations are for your team’s use and benefit — they won’t be graded for their details.\n"
   ]
  },
  {
   "cell_type": "markdown",
   "metadata": {
    "id": "z43zRjBtSmEa"
   },
   "source": [
    "- Answer iMessage and Discord messages in a timely manner.\n",
    "- If you can’t make it to a meeting, let everyone know in advance and make sure your work is done prior for the review of members who are able to make it.\n",
    "- Adhere to deadlines and goals set by group members.\n",
    "- Convey personal expectations to each other and speak up if someone suggests an idea that could produce problems or difficulties\n",
    "- If you make edits to a section written by another group member, let everyone know that edits will be made. Comment the edits and do not delete the previous work of the group member.\n",
    "- If you need help, please let the members know to see what we can do\n",
    "- Reach out to each other every now and then :D\n"
   ]
  },
  {
   "cell_type": "markdown",
   "metadata": {},
   "source": [
    "# Project Timeline Proposal"
   ]
  },
  {
   "cell_type": "markdown",
   "metadata": {
    "id": "v5INIWu5SmEa"
   },
   "source": [
    "Specify your team's specific project timeline. An example timeline has been provided. Changes the dates, times, names, and details to fit your group's plan.\n",
    "\n",
    "If you think you will need any special resources or training outside what we have covered in COGS 108 to solve your problem, then your proposal should state these clearly. For example, if you have selected a problem that involves implementing multiple neural networks, please state this so we can make sure you know what you’re doing and so we can point you to resources you will need to implement your project. Note that you are not required to use outside methods.\n",
    "\n",
    "\n",
    "- M/TH in person or virtually(Discord)  time is TBD\n",
    "- W only when we have to submit checkpoints 6:00PM PST\n",
    "- If something is due on Wednesday, have your portion of the work completed by noon of prior Tuesday\n",
    "- 30 minute discord call every other Saturday 11.11.23 time is TBD\n"
   ]
  }
 ],
 "metadata": {
  "kernelspec": {
   "display_name": "Python 3 (ipykernel)",
   "language": "python",
   "name": "python3"
  },
  "language_info": {
   "codemirror_mode": {
    "name": "ipython",
    "version": 3
   },
   "file_extension": ".py",
   "mimetype": "text/x-python",
   "name": "python",
   "nbconvert_exporter": "python",
   "pygments_lexer": "ipython3",
   "version": "3.9.12"
  }
 },
 "nbformat": 4,
 "nbformat_minor": 2
}
