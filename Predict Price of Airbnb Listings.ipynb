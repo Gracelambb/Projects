{
 "cells": [
  {
   "attachments": {},
   "cell_type": "markdown",
   "id": "f1e4659e",
   "metadata": {},
   "source": [
    "# Predict Price of Airbnb Listings"
   ]
  },
  {
   "cell_type": "code",
   "execution_count": 4,
   "id": "474dd0f9",
   "metadata": {},
   "outputs": [],
   "source": [
    "import warnings\n",
    "warnings.filterwarnings(\"ignore\")"
   ]
  },
  {
   "cell_type": "code",
   "execution_count": 7,
   "id": "954f21be",
   "metadata": {},
   "outputs": [],
   "source": [
    "import pandas as pd\n",
    "import numpy as np\n",
    "from sklearn.pipeline import Pipeline\n",
    "from sklearn.model_selection import train_test_split"
   ]
  },
  {
   "cell_type": "code",
   "execution_count": 8,
   "id": "cc883cdb",
   "metadata": {},
   "outputs": [],
   "source": [
    "df=pd.read_csv(\"train.csv\",low_memory=False)"
   ]
  },
  {
   "cell_type": "markdown",
   "id": "cedc0789",
   "metadata": {},
   "source": [
    "# EDA"
   ]
  },
  {
   "cell_type": "code",
   "execution_count": 15,
   "id": "c73ff163",
   "metadata": {},
   "outputs": [],
   "source": [
    "# df.info()"
   ]
  },
  {
   "cell_type": "code",
   "execution_count": 21,
   "id": "08ddf47d",
   "metadata": {
    "scrolled": true
   },
   "outputs": [
    {
     "data": {
      "text/plain": [
       "Index(['id', 'name', 'summary', 'space', 'description', 'experiences_offered',\n",
       "       'neighborhood_overview', 'notes', 'transit', 'access', 'interaction',\n",
       "       'house_rules', 'host_id', 'host_name', 'host_since'],\n",
       "      dtype='object')"
      ]
     },
     "execution_count": 21,
     "metadata": {},
     "output_type": "execute_result"
    }
   ],
   "source": [
    "df.columns[0:15]"
   ]
  },
  {
   "cell_type": "markdown",
   "id": "589877c7",
   "metadata": {},
   "source": [
    "## Numeric features"
   ]
  },
  {
   "cell_type": "code",
   "execution_count": 24,
   "id": "29d36218",
   "metadata": {
    "scrolled": false
   },
   "outputs": [],
   "source": [
    "num_cols=df.columns[[51,52,53,54,55,56,57,63,64,46,47,48,42,44,36,37,38,39,22]]"
   ]
  },
  {
   "cell_type": "code",
   "execution_count": 28,
   "id": "f4612956",
   "metadata": {},
   "outputs": [],
   "source": [
    "# impute mean for missing values to build a base line model\n",
    "dict={}\n",
    "for i in num_cols:\n",
    "    dict[i]=df[i].mean()"
   ]
  },
  {
   "cell_type": "code",
   "execution_count": 29,
   "id": "96f8c1cb",
   "metadata": {
    "scrolled": true
   },
   "outputs": [],
   "source": [
    "X=df[num_cols].fillna(value=dict)\n",
    "Y=df[\"price\"]"
   ]
  },
  {
   "cell_type": "code",
   "execution_count": 30,
   "id": "57e1e081",
   "metadata": {},
   "outputs": [
    {
     "data": {
      "text/html": [
       "<style>#sk-container-id-1 {color: black;background-color: white;}#sk-container-id-1 pre{padding: 0;}#sk-container-id-1 div.sk-toggleable {background-color: white;}#sk-container-id-1 label.sk-toggleable__label {cursor: pointer;display: block;width: 100%;margin-bottom: 0;padding: 0.3em;box-sizing: border-box;text-align: center;}#sk-container-id-1 label.sk-toggleable__label-arrow:before {content: \"▸\";float: left;margin-right: 0.25em;color: #696969;}#sk-container-id-1 label.sk-toggleable__label-arrow:hover:before {color: black;}#sk-container-id-1 div.sk-estimator:hover label.sk-toggleable__label-arrow:before {color: black;}#sk-container-id-1 div.sk-toggleable__content {max-height: 0;max-width: 0;overflow: hidden;text-align: left;background-color: #f0f8ff;}#sk-container-id-1 div.sk-toggleable__content pre {margin: 0.2em;color: black;border-radius: 0.25em;background-color: #f0f8ff;}#sk-container-id-1 input.sk-toggleable__control:checked~div.sk-toggleable__content {max-height: 200px;max-width: 100%;overflow: auto;}#sk-container-id-1 input.sk-toggleable__control:checked~label.sk-toggleable__label-arrow:before {content: \"▾\";}#sk-container-id-1 div.sk-estimator input.sk-toggleable__control:checked~label.sk-toggleable__label {background-color: #d4ebff;}#sk-container-id-1 div.sk-label input.sk-toggleable__control:checked~label.sk-toggleable__label {background-color: #d4ebff;}#sk-container-id-1 input.sk-hidden--visually {border: 0;clip: rect(1px 1px 1px 1px);clip: rect(1px, 1px, 1px, 1px);height: 1px;margin: -1px;overflow: hidden;padding: 0;position: absolute;width: 1px;}#sk-container-id-1 div.sk-estimator {font-family: monospace;background-color: #f0f8ff;border: 1px dotted black;border-radius: 0.25em;box-sizing: border-box;margin-bottom: 0.5em;}#sk-container-id-1 div.sk-estimator:hover {background-color: #d4ebff;}#sk-container-id-1 div.sk-parallel-item::after {content: \"\";width: 100%;border-bottom: 1px solid gray;flex-grow: 1;}#sk-container-id-1 div.sk-label:hover label.sk-toggleable__label {background-color: #d4ebff;}#sk-container-id-1 div.sk-serial::before {content: \"\";position: absolute;border-left: 1px solid gray;box-sizing: border-box;top: 0;bottom: 0;left: 50%;z-index: 0;}#sk-container-id-1 div.sk-serial {display: flex;flex-direction: column;align-items: center;background-color: white;padding-right: 0.2em;padding-left: 0.2em;position: relative;}#sk-container-id-1 div.sk-item {position: relative;z-index: 1;}#sk-container-id-1 div.sk-parallel {display: flex;align-items: stretch;justify-content: center;background-color: white;position: relative;}#sk-container-id-1 div.sk-item::before, #sk-container-id-1 div.sk-parallel-item::before {content: \"\";position: absolute;border-left: 1px solid gray;box-sizing: border-box;top: 0;bottom: 0;left: 50%;z-index: -1;}#sk-container-id-1 div.sk-parallel-item {display: flex;flex-direction: column;z-index: 1;position: relative;background-color: white;}#sk-container-id-1 div.sk-parallel-item:first-child::after {align-self: flex-end;width: 50%;}#sk-container-id-1 div.sk-parallel-item:last-child::after {align-self: flex-start;width: 50%;}#sk-container-id-1 div.sk-parallel-item:only-child::after {width: 0;}#sk-container-id-1 div.sk-dashed-wrapped {border: 1px dashed gray;margin: 0 0.4em 0.5em 0.4em;box-sizing: border-box;padding-bottom: 0.4em;background-color: white;}#sk-container-id-1 div.sk-label label {font-family: monospace;font-weight: bold;display: inline-block;line-height: 1.2em;}#sk-container-id-1 div.sk-label-container {text-align: center;}#sk-container-id-1 div.sk-container {/* jupyter's `normalize.less` sets `[hidden] { display: none; }` but bootstrap.min.css set `[hidden] { display: none !important; }` so we also need the `!important` here to be able to override the default hidden behavior on the sphinx rendered scikit-learn.org. See: https://github.com/scikit-learn/scikit-learn/issues/21755 */display: inline-block !important;position: relative;}#sk-container-id-1 div.sk-text-repr-fallback {display: none;}</style><div id=\"sk-container-id-1\" class=\"sk-top-container\"><div class=\"sk-text-repr-fallback\"><pre>Lasso(alpha=3)</pre><b>In a Jupyter environment, please rerun this cell to show the HTML representation or trust the notebook. <br />On GitHub, the HTML representation is unable to render, please try loading this page with nbviewer.org.</b></div><div class=\"sk-container\" hidden><div class=\"sk-item\"><div class=\"sk-estimator sk-toggleable\"><input class=\"sk-toggleable__control sk-hidden--visually\" id=\"sk-estimator-id-1\" type=\"checkbox\" checked><label for=\"sk-estimator-id-1\" class=\"sk-toggleable__label sk-toggleable__label-arrow\">Lasso</label><div class=\"sk-toggleable__content\"><pre>Lasso(alpha=3)</pre></div></div></div></div></div>"
      ],
      "text/plain": [
       "Lasso(alpha=3)"
      ]
     },
     "execution_count": 30,
     "metadata": {},
     "output_type": "execute_result"
    }
   ],
   "source": [
    "# investigatig feature importance using Lasso Regression\n",
    "from sklearn import linear_model\n",
    "clf = linear_model.Lasso(alpha=3)\n",
    "clf.fit(X,Y)"
   ]
  },
  {
   "cell_type": "code",
   "execution_count": 31,
   "id": "ca3a8218",
   "metadata": {},
   "outputs": [
    {
     "data": {
      "text/plain": [
       "array([ 4.94208837e-01, -0.00000000e+00,  0.00000000e+00, -0.00000000e+00,\n",
       "       -0.00000000e+00,  1.73471922e+01, -4.62796330e+00,  3.28383919e-01,\n",
       "       -2.38426780e+00,  9.19788516e-03,  2.79956326e-08, -2.09049989e-01,\n",
       "        2.12232835e-02,  5.72266739e-01,  3.34519902e+01,  2.38020988e+01,\n",
       "        5.26271563e+00,  0.00000000e+00,  6.77806341e-02])"
      ]
     },
     "execution_count": 31,
     "metadata": {},
     "output_type": "execute_result"
    }
   ],
   "source": [
    "clf.coef_"
   ]
  },
  {
   "cell_type": "code",
   "execution_count": 32,
   "id": "55bce444",
   "metadata": {},
   "outputs": [],
   "source": [
    "yes=abs(clf.coef_)!=0\n",
    "no=abs(clf.coef_)==0"
   ]
  },
  {
   "cell_type": "markdown",
   "id": "d958ea9c",
   "metadata": {},
   "source": [
    "\n",
    " - 'review_scores_rating', -ok\n",
    " - 'reviews_per_month', -ok\n",
    " - 'number_of_reviews',-ok\n",
    " - 'square_feet', -ok\n",
    " - 'accommodates', -ok\n",
    " - 'bathrooms', -ok\n",
    " - 'bedrooms', -ok\n",
    " - 'beds',-ok\n",
    " - review_scores_cleanliness, -ok\n",
    " - guests_included -ok\n"
   ]
  },
  {
   "cell_type": "code",
   "execution_count": 34,
   "id": "1c7993ce",
   "metadata": {},
   "outputs": [
    {
     "data": {
      "text/plain": [
       "review_scores_location\n",
       "2.0        34\n",
       "4.0        12\n",
       "5.0        14\n",
       "6.0       177\n",
       "7.0       217\n",
       "8.0      1674\n",
       "9.0      7780\n",
       "10.0    15922\n",
       "Name: price, dtype: int64"
      ]
     },
     "execution_count": 34,
     "metadata": {},
     "output_type": "execute_result"
    }
   ],
   "source": [
    "# using ghroupby to investigate in individual features\n",
    "df.groupby(\"review_scores_location\")[\"price\"].count()"
   ]
  },
  {
   "cell_type": "code",
   "execution_count": 35,
   "id": "8c2b250c",
   "metadata": {},
   "outputs": [
    {
     "data": {
      "text/plain": [
       "review_scores_rating\n",
       "(19.92, 28.0]    133.125000\n",
       "(28.0, 36.0]     109.000000\n",
       "(36.0, 44.0]     120.500000\n",
       "(44.0, 52.0]     127.966667\n",
       "(52.0, 60.0]     119.545817\n",
       "(60.0, 68.0]     161.333333\n",
       "(68.0, 76.0]     130.012461\n",
       "(76.0, 84.0]     122.938192\n",
       "(84.0, 92.0]     132.338369\n",
       "(92.0, 100.0]    142.479895\n",
       "Name: price, dtype: float64"
      ]
     },
     "execution_count": 35,
     "metadata": {},
     "output_type": "execute_result"
    }
   ],
   "source": [
    "df.groupby(pd.cut(df[\"review_scores_rating\"], bins=10))[\"price\"].mean()"
   ]
  },
  {
   "cell_type": "markdown",
   "id": "06c7567f",
   "metadata": {},
   "source": [
    "## Text features"
   ]
  },
  {
   "cell_type": "code",
   "execution_count": 36,
   "id": "a7765b40",
   "metadata": {
    "scrolled": false
   },
   "outputs": [],
   "source": [
    "#df.columns"
   ]
  },
  {
   "cell_type": "code",
   "execution_count": null,
   "id": "ce34f0bd",
   "metadata": {},
   "outputs": [],
   "source": [
    "# creating new columnes using text data \n",
    "v = CountVectorizer(max_features=55)\n",
    "v.fit_transform(df[\"description\"])\n",
    "v.get_feature_names_out()\n",
    "\n",
    "#array(['access', 'all', 'and', 'apartment', 'are', 'as', 'away',\n",
    "       #'bathroom', 'be', 'bed', 'bedroom', 'brooklyn', 'building', 'can',\n",
    "       #'floor', 'for', 'from', 'full', 'great', 'has', 'have', 'in', 'is',\n",
    "       #'it', 'kitchen', 'living', 'located', 'manhattan', 'my',\n",
    "       #'neighborhood', 'new', 'of', 'on', 'one', 'or', 'park', 'private',\n",
    "       #'restaurants', 'room', 'space', 'subway', 'that', 'the', 'there',\n",
    "       #'this', 'to', 'train', 'two', 'very', 'walk', 'we', 'will', 'with',\n",
    "       #'you', 'your'], dtype=object)\n",
    "    \n",
    "#df[df[\"description\"].str.contains(\"best\",regex=True)][\"description\"]"
   ]
  },
  {
   "cell_type": "code",
   "execution_count": 38,
   "id": "3a1df7ce",
   "metadata": {},
   "outputs": [
    {
     "data": {
      "text/plain": [
       "190"
      ]
     },
     "execution_count": 38,
     "metadata": {},
     "output_type": "execute_result"
    }
   ],
   "source": [
    "# lookiga t the description col\n",
    "df[\"description\"].fillna(\"\",inplace=True)\n",
    "df[df[\"description\"].str.contains(\"Luxury|luxury|Luxurious|luxurious|Lux|LUX\",regex=True)][\"price\"].count()\n",
    "df[df[\"description\"].str.contains(\"private|Private|Pvt\",regex=True)][\"price\"].count()\n",
    "df[df[\"description\"].str.contains(\"spacious|Spacious|Large|large\",regex=True)][\"price\"].count()\n",
    "df[df[\"description\"].str.contains(\"cozy|Cozy\",regex=True)][\"price\"].count()\n",
    "df[df[\"description\"].str.contains(\"kitchen|Kitchen\",regex=True)][\"price\"].count()\n",
    "df[df[\"description\"].str.contains(\"restaurants|Restaurants\",regex=True)][\"price\"].count()\n",
    "df[df[\"description\"].str.contains(\"train|Train\",regex=True)][\"price\"].count()\n",
    "df[df[\"description\"].str.contains(\"subway|Subway\",regex=True)][\"price\"].count()\n",
    "df[df[\"description\"].str.contains(\"park|Park\",regex=True)][\"price\"].count()\n",
    "df[df[\"description\"].str.contains(\"cheap|Cheap\",regex=True)][\"price\"].count()\n",
    "df[df[\"description\"].str.contains(\"clean|Clean\",regex=True)][\"price\"].count()\n",
    "df[df[\"description\"].str.contains(\"best|Best\",regex=True)][\"price\"].count()\n",
    "df[df[\"description\"].str.contains(\"expensive|Expensive\",regex=True)][\"price\"].count()"
   ]
  },
  {
   "cell_type": "code",
   "execution_count": null,
   "id": "7751392e",
   "metadata": {},
   "outputs": [],
   "source": [
    "v = CountVectorizer(max_features=30)\n",
    "v.fit_transform(df[\"name\"])\n",
    "v.get_feature_names_out()\n",
    "\n",
    "# array(['and', 'apartment', 'apt', 'beautiful', 'bed', 'bedroom',\n",
    "       #'brooklyn', 'cozy', 'east', 'heart', 'home', 'in', 'large', 'loft',\n",
    "       #'luxury', 'manhattan', 'near', 'nyc', 'of', 'park', 'private',\n",
    "       #'room', 'spacious', 'studio', 'sunny', 'the', 'to', 'village',\n",
    "       #'williamsburg', 'with'], dtype=object)"
   ]
  },
  {
   "cell_type": "code",
   "execution_count": 39,
   "id": "083f1bb3",
   "metadata": {},
   "outputs": [],
   "source": [
    "# looking at the name col\n",
    "\n",
    "df[\"name\"].fillna(\"\",inplace=True)\n",
    "df[\"name_lux\"]=df[\"name\"].str.contains(\"Luxury|luxury|Luxurious|luxurious|Lux|LUX\",regex=True)\n",
    "df[\"name_private\"]=df[\"name\"].str.contains(\"private|Private|Pvt\",regex=True)\n",
    "df[\"name_large\"]=df[\"name\"].str.contains(\"spacious|Spacious|Large|large\",regex=True)\n",
    "df[\"name_cozy\"]=df[\"name\"].str.contains(\"cozy|Cozy\",regex=True)\n",
    "df[\"name_beautiful\"]=df[\"name\"].str.contains(\"beautiful|Beautiful\",regex=True)\n",
    "df[\"name_duplex\"]=df[\"name\"].str.contains(\"Duplex|duplex\",regex=True)\n",
    "#df[df[\"name\"].str.contains(\"family|FAMILY\",regex=True)][\"price\"].count()"
   ]
  },
  {
   "cell_type": "markdown",
   "id": "f694924b",
   "metadata": {},
   "source": [
    "- name/description --> count vextorizer and create new cols\n",
    "- creat new col using \"transit\" --> have trans info or not \n",
    "- room_type - ohe\n",
    "- host_response_time -ohe\n",
    "- host_is_superhost -ohe\n",
    "- host_neighbourhood - ohe with ma feature 5\n",
    "    - Williamsburg             2479\n",
    "    - Bedford-Stuyvesant       1950\n",
    "    - Bushwick                 1432\n",
    "    - Hell's Kitchen           1269\n",
    "    - Upper East Side          1172\n",
    "- property_type  -  - ohe with ma feature 5\n",
    "    - Apartment                 27060\n",
    "    - House                      2471\n",
    "    - Townhouse                  1086\n",
    "    - Loft                       1035\n",
    "    - Condominium                 822\n",
    "- instant_bookable - ohe\n",
    "- cancellation_policy - - ohe with ma feature 3\n",
    "    - strict_14_with_grace_period    15330\n",
    "    - flexible                       10345\n",
    "    - moderate                        7746"
   ]
  },
  {
   "cell_type": "markdown",
   "id": "666e4058",
   "metadata": {},
   "source": [
    "# Data Processing"
   ]
  },
  {
   "cell_type": "code",
   "execution_count": 18,
   "id": "aba7c9ad",
   "metadata": {},
   "outputs": [],
   "source": [
    "# take out the cols i need\n",
    "numeric_col=[\"review_scores_rating\",\"reviews_per_month\",\"number_of_reviews\",\"accommodates\",\n",
    "            \"bathrooms\",\"bedrooms\",\"beds\",\"review_scores_cleanliness\",\"guests_included\",\"room_type\",\n",
    "             \"host_response_time\",\"instant_bookable\",\"host_is_superhost\",\"property_type\",\n",
    "             \"host_neighbourhood\",\"cancellation_policy\",\"transit\",\"review_scores_location\",\n",
    "             \"host_since\",\"name\",\"amenities\",'description']\n"
   ]
  },
  {
   "cell_type": "code",
   "execution_count": 40,
   "id": "1a9974c7",
   "metadata": {},
   "outputs": [],
   "source": [
    "# write function to help impute missig data \n",
    "def impute_mean(df,col):\n",
    "    cal_mean=df[col].mean()\n",
    "    df[col].fillna(cal_mean,inplace=True)\n",
    "\n",
    "def impute_median(df,col):\n",
    "    cal_med=df[col].median()\n",
    "    df[col].fillna(cal_med,inplace=True)\n",
    "    \n",
    "def impute_zero(df,col):\n",
    "    df[col].fillna(0,inplace=True)"
   ]
  },
  {
   "cell_type": "code",
   "execution_count": null,
   "id": "d28fe553",
   "metadata": {},
   "outputs": [],
   "source": [
    "# manipulating differnet features"
   ]
  },
  {
   "cell_type": "code",
   "execution_count": 22,
   "id": "83f139eb",
   "metadata": {},
   "outputs": [],
   "source": [
    "def add_new_col(df):\n",
    "    df[\"have_transportation\"]=df[\"transit\"].isna()==False\n",
    "    df=df.drop(columns=[\"transit\"],inplace=True)"
   ]
  },
  {
   "cell_type": "code",
   "execution_count": 23,
   "id": "51d17c3e",
   "metadata": {},
   "outputs": [],
   "source": [
    "def add_new_col2(df):\n",
    "    df[\"host_since\"].fillna(df[\"host_since\"].mode()[0],inplace=True)\n",
    "    df[\"host_since_year\"]=[int(i) for i in df[\"host_since\"].str.split(\"-\").str[0]]\n",
    "    df=df.drop(columns=[\"host_since\"],inplace=True)"
   ]
  },
  {
   "cell_type": "code",
   "execution_count": 24,
   "id": "b83f0ae2",
   "metadata": {},
   "outputs": [],
   "source": [
    "from sklearn.feature_extraction.text import CountVectorizer\n",
    "\n",
    "def new_name_feature(df):\n",
    "    df[\"name\"].fillna(\"\",inplace=True)\n",
    "    df[\"name_lux\"]=df[\"name\"].str.contains(\"Luxury|luxury|Luxurious|luxurious|Lux|LUX\",regex=True)\n",
    "    df[\"name_private\"]=df[\"name\"].str.contains(\"private|Private|Pvt\",regex=True)\n",
    "    df[\"name_large\"]=df[\"name\"].str.contains(\"spacious|Spacious|Large|large\",regex=True)\n",
    "    df[\"name_cozy\"]=df[\"name\"].str.contains(\"cozy|Cozy\",regex=True)\n",
    "    df[\"name_beautiful\"]=df[\"name\"].str.contains(\"beautiful|Beautiful\",regex=True)\n",
    "    df[\"name_duplex\"]=df[\"name\"].str.contains(\"Duplex|duplex\",regex=True)\n",
    "    df=df.drop(columns=[\"name\"],inplace=True)"
   ]
  },
  {
   "cell_type": "code",
   "execution_count": 25,
   "id": "db1099e0",
   "metadata": {},
   "outputs": [],
   "source": [
    "def new_des_feature(df):\n",
    "    df[\"description\"].fillna(\"\",inplace=True)\n",
    "    df[\"des_lux\"]=df[\"description\"].str.contains(\"Luxury|luxury|Luxurious|luxurious|Lux|LUX\",regex=True)\n",
    "    df[\"des_pvt\"]=df[\"description\"].str.contains(\"private|Private|Pvt\",regex=True)\n",
    "    df[\"des_space\"]=df[\"description\"].str.contains(\"spacious|Spacious|Large|large\",regex=True)\n",
    "    df[\"des_cozy\"]=df[\"description\"].str.contains(\"cozy|Cozy\",regex=True)\n",
    "    df[\"des_kitchen\"]=df[\"description\"].str.contains(\"kitchen|Kitchen\",regex=True)\n",
    "    df[\"des_rest\"]=df[\"description\"].str.contains(\"restaurants|Restaurants\",regex=True)\n",
    "    df[\"des_train\"]=df[\"description\"].str.contains(\"train|Train\",regex=True)\n",
    "    df[\"des_sub\"]=df[\"description\"].str.contains(\"subway|Subway\",regex=True)\n",
    "    df[\"des_park\"]=df[\"description\"].str.contains(\"park|Park\",regex=True)\n",
    "    df[\"des_cheap\"]=df[\"description\"].str.contains(\"cheap|Cheap\",regex=True)\n",
    "    df[\"des_clean\"]=df[\"description\"].str.contains(\"clean|Clean\",regex=True)\n",
    "    df[\"des_best\"]=df[\"description\"].str.contains(\"best|Best\",regex=True)\n",
    "    df=df.drop(columns=[\"description\"],inplace=True)\n"
   ]
  },
  {
   "cell_type": "code",
   "execution_count": 26,
   "id": "a3ee943a",
   "metadata": {},
   "outputs": [],
   "source": [
    "def num_am_provided(df):\n",
    "    df[\"num_am_provided\"]=df[\"amenities\"].str.split(\",\")\n",
    "    df[\"num_am_provided\"]=df[\"num_am_provided\"].apply(lambda x: len(x))\n",
    "    df=df.drop(columns=[\"amenities\"],inplace=True)\n"
   ]
  },
  {
   "cell_type": "code",
   "execution_count": null,
   "id": "e61d1af9",
   "metadata": {},
   "outputs": [],
   "source": [
    "df_X=df[numeric_col]\n",
    "df_Y=df[\"price\"]"
   ]
  },
  {
   "cell_type": "code",
   "execution_count": 27,
   "id": "9b51446f",
   "metadata": {
    "scrolled": true
   },
   "outputs": [
    {
     "data": {
      "text/plain": [
       "Index(['review_scores_rating', 'reviews_per_month', 'number_of_reviews',\n",
       "       'accommodates', 'bathrooms', 'bedrooms', 'beds',\n",
       "       'review_scores_cleanliness', 'guests_included', 'room_type',\n",
       "       'host_response_time', 'instant_bookable', 'host_is_superhost',\n",
       "       'property_type', 'host_neighbourhood', 'cancellation_policy',\n",
       "       'review_scores_location', 'have_transportation', 'host_since_year',\n",
       "       'name_lux', 'name_private', 'name_large', 'name_cozy', 'name_beautiful',\n",
       "       'name_duplex', 'num_am_provided', 'des_lux', 'des_pvt', 'des_space',\n",
       "       'des_cozy', 'des_kitchen', 'des_rest', 'des_train', 'des_sub',\n",
       "       'des_park', 'des_cheap', 'des_clean', 'des_best'],\n",
       "      dtype='object')"
      ]
     },
     "execution_count": 27,
     "metadata": {},
     "output_type": "execute_result"
    }
   ],
   "source": [
    "# transform original data\n",
    "impute_mean(df_X,\"review_scores_rating\")\n",
    "impute_zero(df_X,\"reviews_per_month\")\n",
    "impute_median(df_X,\"bedrooms\")\n",
    "impute_median(df_X,\"bathrooms\")\n",
    "impute_median(df_X,\"beds\")\n",
    "impute_mean(df_X,\"review_scores_cleanliness\")\n",
    "impute_mean(df_X,\"review_scores_location\")\n",
    "add_new_col(df_X)\n",
    "add_new_col2(df_X)\n",
    "new_name_feature(df_X)\n",
    "num_am_provided(df_X)\n",
    "new_des_feature(df_X)\n",
    "df_X.columns"
   ]
  },
  {
   "cell_type": "markdown",
   "id": "294fc7d1",
   "metadata": {},
   "source": [
    "## Building a pipeline"
   ]
  },
  {
   "cell_type": "code",
   "execution_count": 33,
   "id": "f00a599c",
   "metadata": {},
   "outputs": [],
   "source": [
    "X_train, X_vali, y_train, y_vali = train_test_split(df_X, df_Y, train_size= 0.8, test_size=0.2)"
   ]
  },
  {
   "cell_type": "code",
   "execution_count": 35,
   "id": "57f3f289",
   "metadata": {},
   "outputs": [],
   "source": [
    "from sklearn.pipeline import Pipeline\n",
    "from sklearn.compose import ColumnTransformer\n",
    "from sklearn.preprocessing import FunctionTransformer\n",
    "from sklearn.impute import SimpleImputer\n",
    "from xgboost import XGBRegressor\n",
    "from xgboost import XGBRegressor\n",
    "from sklearn.linear_model import LogisticRegression\n",
    "from sklearn.linear_model import LinearRegression\n",
    "from sklearn.preprocessing import OneHotEncoder\n",
    "from sklearn.ensemble import RandomForestRegressor\n",
    "from sklearn.preprocessing import Binarizer\n",
    "from sklearn.ensemble import GradientBoostingRegressor\n",
    "import lightgbm as lgb"
   ]
  },
  {
   "cell_type": "code",
   "execution_count": 358,
   "id": "94aa160b",
   "metadata": {},
   "outputs": [],
   "source": [
    "\n",
    "pre_col = ColumnTransformer(\n",
    "    remainder=\"passthrough\",\n",
    "    transformers=[('normal_onehot', OneHotEncoder(handle_unknown='ignore', dtype='int'),[\"room_type\",\"host_response_time\",\"instant_bookable\"]),\n",
    "                  ('normal_onehot2', OneHotEncoder(max_categories=2, handle_unknown='ignore', dtype='int'),[\"host_is_superhost\"]),\n",
    "                  ('normal_onehot3', OneHotEncoder(handle_unknown='ignore', dtype='int'),[\"property_type\",\"host_neighbourhood\"]),\n",
    "                  ('normal_onehot4', OneHotEncoder(handle_unknown='ignore', dtype='int', max_categories=3),[\"cancellation_policy\"]),\n",
    "                  ('normal_onehot5', OneHotEncoder(handle_unknown='ignore', dtype='int', max_categories=7),[\"host_since_year\"]),\n",
    "                  ('binarizer1', Binarizer(threshold=9.6),[\"review_scores_location\"]),\n",
    "                   ])\n",
    "\n",
    "pl= Pipeline([\n",
    "    (\"pre_col\", pre_col),\n",
    "    ('rf', RandomForestRegressor(max_depth= 17,\n",
    "                                 max_features=\"sqrt\",\n",
    "                                 min_samples_split=8,\n",
    "                                 n_estimators=400))\n",
    "])\n",
    "\n",
    "# mdepth=5, feature=squrt, n est=300\n",
    "pl_2= Pipeline([\n",
    "    (\"pre_col\", pre_col),\n",
    "    ('gb', GradientBoostingRegressor(criterion='squared_error',\n",
    "                                     max_depth=16,\n",
    "                                     max_features=\"sqrt\",\n",
    "                                     min_samples_leaf=18,\n",
    "                                     n_estimators=300))\n",
    "])\n",
    "\n",
    "pl_3=Pipeline([\n",
    "    (\"pre_col\", pre_col),\n",
    "    ('xgb', XGBRegressor(max_depth=8,\n",
    "                        n_estimators=150,\n",
    "                        gamma=0.5,\n",
    "                        learning_rate=0.1))\n",
    "])\n",
    "\n",
    "\n",
    "#{'xgb__gamma': 0.5,\n",
    " #'xgb__learning_rate': 0.1,\n",
    " #'xgb__max_depth': 8,\n",
    " #'xgb__n_estimators': 150}\n",
    "\n",
    "\n",
    "pl_4=Pipeline([\n",
    "    (\"pre_col\", pre_col),\n",
    "    ('lgb', lgb.LGBMRegressor(learning_rate=0.08,\n",
    "                              max_depth=23,\n",
    "                              n_estimators=400,\n",
    "                              num_leaves=31\n",
    "                             ))\n",
    "])\n",
    "\n",
    "# grid search results for pipeline 4\n",
    "\n",
    "#{'lgb__learning_rate': 0.08,\n",
    " #'lgb__max_depth': 23,\n",
    " #'lgb__n_estimators': 400,\n",
    " #'lgb__num_leaves': 31}\n",
    "\n",
    "# {'lgb__learning_rate': 0.08, \n",
    "#'lgb__max_depth': 25,\n",
    "#'lgb__n_estimators': 400}\n",
    "\n",
    "from sklearn.ensemble import StackingRegressor\n",
    "\n",
    "estimators = [\n",
    "    ('gb', pl_2),\n",
    "    ('llgb', pl_4),   \n",
    "]\n",
    "\n",
    "reg=StackingRegressor(estimators)\n"
   ]
  },
  {
   "cell_type": "code",
   "execution_count": 359,
   "id": "6f9e95df",
   "metadata": {},
   "outputs": [],
   "source": [
    "estimator = [\n",
    "    ('rf', pl),\n",
    "    ('gb', pl_2),\n",
    "    ('xgb', pl_3),\n",
    "    ('llgb', pl_4),   \n",
    "]"
   ]
  },
  {
   "cell_type": "code",
   "execution_count": 363,
   "id": "020059a5",
   "metadata": {
    "scrolled": true
   },
   "outputs": [
    {
     "data": {
      "text/html": [
       "<style>#sk-container-id-19 {color: black;background-color: white;}#sk-container-id-19 pre{padding: 0;}#sk-container-id-19 div.sk-toggleable {background-color: white;}#sk-container-id-19 label.sk-toggleable__label {cursor: pointer;display: block;width: 100%;margin-bottom: 0;padding: 0.3em;box-sizing: border-box;text-align: center;}#sk-container-id-19 label.sk-toggleable__label-arrow:before {content: \"▸\";float: left;margin-right: 0.25em;color: #696969;}#sk-container-id-19 label.sk-toggleable__label-arrow:hover:before {color: black;}#sk-container-id-19 div.sk-estimator:hover label.sk-toggleable__label-arrow:before {color: black;}#sk-container-id-19 div.sk-toggleable__content {max-height: 0;max-width: 0;overflow: hidden;text-align: left;background-color: #f0f8ff;}#sk-container-id-19 div.sk-toggleable__content pre {margin: 0.2em;color: black;border-radius: 0.25em;background-color: #f0f8ff;}#sk-container-id-19 input.sk-toggleable__control:checked~div.sk-toggleable__content {max-height: 200px;max-width: 100%;overflow: auto;}#sk-container-id-19 input.sk-toggleable__control:checked~label.sk-toggleable__label-arrow:before {content: \"▾\";}#sk-container-id-19 div.sk-estimator input.sk-toggleable__control:checked~label.sk-toggleable__label {background-color: #d4ebff;}#sk-container-id-19 div.sk-label input.sk-toggleable__control:checked~label.sk-toggleable__label {background-color: #d4ebff;}#sk-container-id-19 input.sk-hidden--visually {border: 0;clip: rect(1px 1px 1px 1px);clip: rect(1px, 1px, 1px, 1px);height: 1px;margin: -1px;overflow: hidden;padding: 0;position: absolute;width: 1px;}#sk-container-id-19 div.sk-estimator {font-family: monospace;background-color: #f0f8ff;border: 1px dotted black;border-radius: 0.25em;box-sizing: border-box;margin-bottom: 0.5em;}#sk-container-id-19 div.sk-estimator:hover {background-color: #d4ebff;}#sk-container-id-19 div.sk-parallel-item::after {content: \"\";width: 100%;border-bottom: 1px solid gray;flex-grow: 1;}#sk-container-id-19 div.sk-label:hover label.sk-toggleable__label {background-color: #d4ebff;}#sk-container-id-19 div.sk-serial::before {content: \"\";position: absolute;border-left: 1px solid gray;box-sizing: border-box;top: 0;bottom: 0;left: 50%;z-index: 0;}#sk-container-id-19 div.sk-serial {display: flex;flex-direction: column;align-items: center;background-color: white;padding-right: 0.2em;padding-left: 0.2em;position: relative;}#sk-container-id-19 div.sk-item {position: relative;z-index: 1;}#sk-container-id-19 div.sk-parallel {display: flex;align-items: stretch;justify-content: center;background-color: white;position: relative;}#sk-container-id-19 div.sk-item::before, #sk-container-id-19 div.sk-parallel-item::before {content: \"\";position: absolute;border-left: 1px solid gray;box-sizing: border-box;top: 0;bottom: 0;left: 50%;z-index: -1;}#sk-container-id-19 div.sk-parallel-item {display: flex;flex-direction: column;z-index: 1;position: relative;background-color: white;}#sk-container-id-19 div.sk-parallel-item:first-child::after {align-self: flex-end;width: 50%;}#sk-container-id-19 div.sk-parallel-item:last-child::after {align-self: flex-start;width: 50%;}#sk-container-id-19 div.sk-parallel-item:only-child::after {width: 0;}#sk-container-id-19 div.sk-dashed-wrapped {border: 1px dashed gray;margin: 0 0.4em 0.5em 0.4em;box-sizing: border-box;padding-bottom: 0.4em;background-color: white;}#sk-container-id-19 div.sk-label label {font-family: monospace;font-weight: bold;display: inline-block;line-height: 1.2em;}#sk-container-id-19 div.sk-label-container {text-align: center;}#sk-container-id-19 div.sk-container {/* jupyter's `normalize.less` sets `[hidden] { display: none; }` but bootstrap.min.css set `[hidden] { display: none !important; }` so we also need the `!important` here to be able to override the default hidden behavior on the sphinx rendered scikit-learn.org. See: https://github.com/scikit-learn/scikit-learn/issues/21755 */display: inline-block !important;position: relative;}#sk-container-id-19 div.sk-text-repr-fallback {display: none;}</style><div id=\"sk-container-id-19\" class=\"sk-top-container\"><div class=\"sk-text-repr-fallback\"><pre>StackingRegressor(estimators=[(&#x27;gb&#x27;,\n",
       "                               Pipeline(steps=[(&#x27;pre_col&#x27;,\n",
       "                                                ColumnTransformer(remainder=&#x27;passthrough&#x27;,\n",
       "                                                                  transformers=[(&#x27;normal_onehot&#x27;,\n",
       "                                                                                 OneHotEncoder(dtype=&#x27;int&#x27;,\n",
       "                                                                                               handle_unknown=&#x27;ignore&#x27;),\n",
       "                                                                                 [&#x27;room_type&#x27;,\n",
       "                                                                                  &#x27;host_response_time&#x27;,\n",
       "                                                                                  &#x27;instant_bookable&#x27;]),\n",
       "                                                                                (&#x27;normal_onehot2&#x27;,\n",
       "                                                                                 OneHotEncoder(dtype=&#x27;int&#x27;,\n",
       "                                                                                               handle_unknown=&#x27;ignore&#x27;,\n",
       "                                                                                               max_categories=2),\n",
       "                                                                                 [&#x27;host_is_superhost&#x27;])...\n",
       "                                                                                (&#x27;normal_onehot4&#x27;,\n",
       "                                                                                 OneHotEncoder(dtype=&#x27;int&#x27;,\n",
       "                                                                                               handle_unknown=&#x27;ignore&#x27;,\n",
       "                                                                                               max_categories=3),\n",
       "                                                                                 [&#x27;cancellation_policy&#x27;]),\n",
       "                                                                                (&#x27;normal_onehot5&#x27;,\n",
       "                                                                                 OneHotEncoder(dtype=&#x27;int&#x27;,\n",
       "                                                                                               handle_unknown=&#x27;ignore&#x27;,\n",
       "                                                                                               max_categories=7),\n",
       "                                                                                 [&#x27;host_since_year&#x27;]),\n",
       "                                                                                (&#x27;binarizer1&#x27;,\n",
       "                                                                                 Binarizer(threshold=9.6),\n",
       "                                                                                 [&#x27;review_scores_location&#x27;])])),\n",
       "                                               (&#x27;lgb&#x27;,\n",
       "                                                LGBMRegressor(learning_rate=0.08,\n",
       "                                                              max_depth=23,\n",
       "                                                              n_estimators=400))]))])</pre><b>In a Jupyter environment, please rerun this cell to show the HTML representation or trust the notebook. <br />On GitHub, the HTML representation is unable to render, please try loading this page with nbviewer.org.</b></div><div class=\"sk-container\" hidden><div class=\"sk-item sk-dashed-wrapped\"><div class=\"sk-label-container\"><div class=\"sk-label sk-toggleable\"><input class=\"sk-toggleable__control sk-hidden--visually\" id=\"sk-estimator-id-442\" type=\"checkbox\" ><label for=\"sk-estimator-id-442\" class=\"sk-toggleable__label sk-toggleable__label-arrow\">StackingRegressor</label><div class=\"sk-toggleable__content\"><pre>StackingRegressor(estimators=[(&#x27;gb&#x27;,\n",
       "                               Pipeline(steps=[(&#x27;pre_col&#x27;,\n",
       "                                                ColumnTransformer(remainder=&#x27;passthrough&#x27;,\n",
       "                                                                  transformers=[(&#x27;normal_onehot&#x27;,\n",
       "                                                                                 OneHotEncoder(dtype=&#x27;int&#x27;,\n",
       "                                                                                               handle_unknown=&#x27;ignore&#x27;),\n",
       "                                                                                 [&#x27;room_type&#x27;,\n",
       "                                                                                  &#x27;host_response_time&#x27;,\n",
       "                                                                                  &#x27;instant_bookable&#x27;]),\n",
       "                                                                                (&#x27;normal_onehot2&#x27;,\n",
       "                                                                                 OneHotEncoder(dtype=&#x27;int&#x27;,\n",
       "                                                                                               handle_unknown=&#x27;ignore&#x27;,\n",
       "                                                                                               max_categories=2),\n",
       "                                                                                 [&#x27;host_is_superhost&#x27;])...\n",
       "                                                                                (&#x27;normal_onehot4&#x27;,\n",
       "                                                                                 OneHotEncoder(dtype=&#x27;int&#x27;,\n",
       "                                                                                               handle_unknown=&#x27;ignore&#x27;,\n",
       "                                                                                               max_categories=3),\n",
       "                                                                                 [&#x27;cancellation_policy&#x27;]),\n",
       "                                                                                (&#x27;normal_onehot5&#x27;,\n",
       "                                                                                 OneHotEncoder(dtype=&#x27;int&#x27;,\n",
       "                                                                                               handle_unknown=&#x27;ignore&#x27;,\n",
       "                                                                                               max_categories=7),\n",
       "                                                                                 [&#x27;host_since_year&#x27;]),\n",
       "                                                                                (&#x27;binarizer1&#x27;,\n",
       "                                                                                 Binarizer(threshold=9.6),\n",
       "                                                                                 [&#x27;review_scores_location&#x27;])])),\n",
       "                                               (&#x27;lgb&#x27;,\n",
       "                                                LGBMRegressor(learning_rate=0.08,\n",
       "                                                              max_depth=23,\n",
       "                                                              n_estimators=400))]))])</pre></div></div></div><div class=\"sk-serial\"><div class=\"sk-item\"><div class=\"sk-parallel\"><div class=\"sk-parallel-item\"><div class=\"sk-item\"><div class=\"sk-label-container\"><div class=\"sk-label sk-toggleable\"><label>gb</label></div></div><div class=\"sk-serial\"><div class=\"sk-item\"><div class=\"sk-serial\"><div class=\"sk-item sk-dashed-wrapped\"><div class=\"sk-label-container\"><div class=\"sk-label sk-toggleable\"><input class=\"sk-toggleable__control sk-hidden--visually\" id=\"sk-estimator-id-443\" type=\"checkbox\" ><label for=\"sk-estimator-id-443\" class=\"sk-toggleable__label sk-toggleable__label-arrow\">pre_col: ColumnTransformer</label><div class=\"sk-toggleable__content\"><pre>ColumnTransformer(remainder=&#x27;passthrough&#x27;,\n",
       "                  transformers=[(&#x27;normal_onehot&#x27;,\n",
       "                                 OneHotEncoder(dtype=&#x27;int&#x27;,\n",
       "                                               handle_unknown=&#x27;ignore&#x27;),\n",
       "                                 [&#x27;room_type&#x27;, &#x27;host_response_time&#x27;,\n",
       "                                  &#x27;instant_bookable&#x27;]),\n",
       "                                (&#x27;normal_onehot2&#x27;,\n",
       "                                 OneHotEncoder(dtype=&#x27;int&#x27;,\n",
       "                                               handle_unknown=&#x27;ignore&#x27;,\n",
       "                                               max_categories=2),\n",
       "                                 [&#x27;host_is_superhost&#x27;]),\n",
       "                                (&#x27;normal_onehot3&#x27;,\n",
       "                                 OneHotEncoder(dtype=&#x27;int&#x27;,\n",
       "                                               handle_unknown=&#x27;ignore&#x27;),\n",
       "                                 [&#x27;property_type&#x27;, &#x27;host_neighbourhood&#x27;]),\n",
       "                                (&#x27;normal_onehot4&#x27;,\n",
       "                                 OneHotEncoder(dtype=&#x27;int&#x27;,\n",
       "                                               handle_unknown=&#x27;ignore&#x27;,\n",
       "                                               max_categories=3),\n",
       "                                 [&#x27;cancellation_policy&#x27;]),\n",
       "                                (&#x27;normal_onehot5&#x27;,\n",
       "                                 OneHotEncoder(dtype=&#x27;int&#x27;,\n",
       "                                               handle_unknown=&#x27;ignore&#x27;,\n",
       "                                               max_categories=7),\n",
       "                                 [&#x27;host_since_year&#x27;]),\n",
       "                                (&#x27;binarizer1&#x27;, Binarizer(threshold=9.6),\n",
       "                                 [&#x27;review_scores_location&#x27;])])</pre></div></div></div><div class=\"sk-parallel\"><div class=\"sk-parallel-item\"><div class=\"sk-item\"><div class=\"sk-label-container\"><div class=\"sk-label sk-toggleable\"><input class=\"sk-toggleable__control sk-hidden--visually\" id=\"sk-estimator-id-444\" type=\"checkbox\" ><label for=\"sk-estimator-id-444\" class=\"sk-toggleable__label sk-toggleable__label-arrow\">normal_onehot</label><div class=\"sk-toggleable__content\"><pre>[&#x27;room_type&#x27;, &#x27;host_response_time&#x27;, &#x27;instant_bookable&#x27;]</pre></div></div></div><div class=\"sk-serial\"><div class=\"sk-item\"><div class=\"sk-estimator sk-toggleable\"><input class=\"sk-toggleable__control sk-hidden--visually\" id=\"sk-estimator-id-445\" type=\"checkbox\" ><label for=\"sk-estimator-id-445\" class=\"sk-toggleable__label sk-toggleable__label-arrow\">OneHotEncoder</label><div class=\"sk-toggleable__content\"><pre>OneHotEncoder(dtype=&#x27;int&#x27;, handle_unknown=&#x27;ignore&#x27;)</pre></div></div></div></div></div></div><div class=\"sk-parallel-item\"><div class=\"sk-item\"><div class=\"sk-label-container\"><div class=\"sk-label sk-toggleable\"><input class=\"sk-toggleable__control sk-hidden--visually\" id=\"sk-estimator-id-446\" type=\"checkbox\" ><label for=\"sk-estimator-id-446\" class=\"sk-toggleable__label sk-toggleable__label-arrow\">normal_onehot2</label><div class=\"sk-toggleable__content\"><pre>[&#x27;host_is_superhost&#x27;]</pre></div></div></div><div class=\"sk-serial\"><div class=\"sk-item\"><div class=\"sk-estimator sk-toggleable\"><input class=\"sk-toggleable__control sk-hidden--visually\" id=\"sk-estimator-id-447\" type=\"checkbox\" ><label for=\"sk-estimator-id-447\" class=\"sk-toggleable__label sk-toggleable__label-arrow\">OneHotEncoder</label><div class=\"sk-toggleable__content\"><pre>OneHotEncoder(dtype=&#x27;int&#x27;, handle_unknown=&#x27;ignore&#x27;, max_categories=2)</pre></div></div></div></div></div></div><div class=\"sk-parallel-item\"><div class=\"sk-item\"><div class=\"sk-label-container\"><div class=\"sk-label sk-toggleable\"><input class=\"sk-toggleable__control sk-hidden--visually\" id=\"sk-estimator-id-448\" type=\"checkbox\" ><label for=\"sk-estimator-id-448\" class=\"sk-toggleable__label sk-toggleable__label-arrow\">normal_onehot3</label><div class=\"sk-toggleable__content\"><pre>[&#x27;property_type&#x27;, &#x27;host_neighbourhood&#x27;]</pre></div></div></div><div class=\"sk-serial\"><div class=\"sk-item\"><div class=\"sk-estimator sk-toggleable\"><input class=\"sk-toggleable__control sk-hidden--visually\" id=\"sk-estimator-id-449\" type=\"checkbox\" ><label for=\"sk-estimator-id-449\" class=\"sk-toggleable__label sk-toggleable__label-arrow\">OneHotEncoder</label><div class=\"sk-toggleable__content\"><pre>OneHotEncoder(dtype=&#x27;int&#x27;, handle_unknown=&#x27;ignore&#x27;)</pre></div></div></div></div></div></div><div class=\"sk-parallel-item\"><div class=\"sk-item\"><div class=\"sk-label-container\"><div class=\"sk-label sk-toggleable\"><input class=\"sk-toggleable__control sk-hidden--visually\" id=\"sk-estimator-id-450\" type=\"checkbox\" ><label for=\"sk-estimator-id-450\" class=\"sk-toggleable__label sk-toggleable__label-arrow\">normal_onehot4</label><div class=\"sk-toggleable__content\"><pre>[&#x27;cancellation_policy&#x27;]</pre></div></div></div><div class=\"sk-serial\"><div class=\"sk-item\"><div class=\"sk-estimator sk-toggleable\"><input class=\"sk-toggleable__control sk-hidden--visually\" id=\"sk-estimator-id-451\" type=\"checkbox\" ><label for=\"sk-estimator-id-451\" class=\"sk-toggleable__label sk-toggleable__label-arrow\">OneHotEncoder</label><div class=\"sk-toggleable__content\"><pre>OneHotEncoder(dtype=&#x27;int&#x27;, handle_unknown=&#x27;ignore&#x27;, max_categories=3)</pre></div></div></div></div></div></div><div class=\"sk-parallel-item\"><div class=\"sk-item\"><div class=\"sk-label-container\"><div class=\"sk-label sk-toggleable\"><input class=\"sk-toggleable__control sk-hidden--visually\" id=\"sk-estimator-id-452\" type=\"checkbox\" ><label for=\"sk-estimator-id-452\" class=\"sk-toggleable__label sk-toggleable__label-arrow\">normal_onehot5</label><div class=\"sk-toggleable__content\"><pre>[&#x27;host_since_year&#x27;]</pre></div></div></div><div class=\"sk-serial\"><div class=\"sk-item\"><div class=\"sk-estimator sk-toggleable\"><input class=\"sk-toggleable__control sk-hidden--visually\" id=\"sk-estimator-id-453\" type=\"checkbox\" ><label for=\"sk-estimator-id-453\" class=\"sk-toggleable__label sk-toggleable__label-arrow\">OneHotEncoder</label><div class=\"sk-toggleable__content\"><pre>OneHotEncoder(dtype=&#x27;int&#x27;, handle_unknown=&#x27;ignore&#x27;, max_categories=7)</pre></div></div></div></div></div></div><div class=\"sk-parallel-item\"><div class=\"sk-item\"><div class=\"sk-label-container\"><div class=\"sk-label sk-toggleable\"><input class=\"sk-toggleable__control sk-hidden--visually\" id=\"sk-estimator-id-454\" type=\"checkbox\" ><label for=\"sk-estimator-id-454\" class=\"sk-toggleable__label sk-toggleable__label-arrow\">binarizer1</label><div class=\"sk-toggleable__content\"><pre>[&#x27;review_scores_location&#x27;]</pre></div></div></div><div class=\"sk-serial\"><div class=\"sk-item\"><div class=\"sk-estimator sk-toggleable\"><input class=\"sk-toggleable__control sk-hidden--visually\" id=\"sk-estimator-id-455\" type=\"checkbox\" ><label for=\"sk-estimator-id-455\" class=\"sk-toggleable__label sk-toggleable__label-arrow\">Binarizer</label><div class=\"sk-toggleable__content\"><pre>Binarizer(threshold=9.6)</pre></div></div></div></div></div></div><div class=\"sk-parallel-item\"><div class=\"sk-item\"><div class=\"sk-label-container\"><div class=\"sk-label sk-toggleable\"><input class=\"sk-toggleable__control sk-hidden--visually\" id=\"sk-estimator-id-456\" type=\"checkbox\" ><label for=\"sk-estimator-id-456\" class=\"sk-toggleable__label sk-toggleable__label-arrow\">remainder</label><div class=\"sk-toggleable__content\"><pre></pre></div></div></div><div class=\"sk-serial\"><div class=\"sk-item\"><div class=\"sk-estimator sk-toggleable\"><input class=\"sk-toggleable__control sk-hidden--visually\" id=\"sk-estimator-id-457\" type=\"checkbox\" ><label for=\"sk-estimator-id-457\" class=\"sk-toggleable__label sk-toggleable__label-arrow\">passthrough</label><div class=\"sk-toggleable__content\"><pre>passthrough</pre></div></div></div></div></div></div></div></div><div class=\"sk-item\"><div class=\"sk-estimator sk-toggleable\"><input class=\"sk-toggleable__control sk-hidden--visually\" id=\"sk-estimator-id-458\" type=\"checkbox\" ><label for=\"sk-estimator-id-458\" class=\"sk-toggleable__label sk-toggleable__label-arrow\">GradientBoostingRegressor</label><div class=\"sk-toggleable__content\"><pre>GradientBoostingRegressor(criterion=&#x27;squared_error&#x27;, max_depth=16,\n",
       "                          max_features=&#x27;sqrt&#x27;, min_samples_leaf=18,\n",
       "                          n_estimators=300)</pre></div></div></div></div></div></div></div></div><div class=\"sk-parallel-item\"><div class=\"sk-item\"><div class=\"sk-label-container\"><div class=\"sk-label sk-toggleable\"><label>llgb</label></div></div><div class=\"sk-serial\"><div class=\"sk-item\"><div class=\"sk-serial\"><div class=\"sk-item sk-dashed-wrapped\"><div class=\"sk-label-container\"><div class=\"sk-label sk-toggleable\"><input class=\"sk-toggleable__control sk-hidden--visually\" id=\"sk-estimator-id-459\" type=\"checkbox\" ><label for=\"sk-estimator-id-459\" class=\"sk-toggleable__label sk-toggleable__label-arrow\">pre_col: ColumnTransformer</label><div class=\"sk-toggleable__content\"><pre>ColumnTransformer(remainder=&#x27;passthrough&#x27;,\n",
       "                  transformers=[(&#x27;normal_onehot&#x27;,\n",
       "                                 OneHotEncoder(dtype=&#x27;int&#x27;,\n",
       "                                               handle_unknown=&#x27;ignore&#x27;),\n",
       "                                 [&#x27;room_type&#x27;, &#x27;host_response_time&#x27;,\n",
       "                                  &#x27;instant_bookable&#x27;]),\n",
       "                                (&#x27;normal_onehot2&#x27;,\n",
       "                                 OneHotEncoder(dtype=&#x27;int&#x27;,\n",
       "                                               handle_unknown=&#x27;ignore&#x27;,\n",
       "                                               max_categories=2),\n",
       "                                 [&#x27;host_is_superhost&#x27;]),\n",
       "                                (&#x27;normal_onehot3&#x27;,\n",
       "                                 OneHotEncoder(dtype=&#x27;int&#x27;,\n",
       "                                               handle_unknown=&#x27;ignore&#x27;),\n",
       "                                 [&#x27;property_type&#x27;, &#x27;host_neighbourhood&#x27;]),\n",
       "                                (&#x27;normal_onehot4&#x27;,\n",
       "                                 OneHotEncoder(dtype=&#x27;int&#x27;,\n",
       "                                               handle_unknown=&#x27;ignore&#x27;,\n",
       "                                               max_categories=3),\n",
       "                                 [&#x27;cancellation_policy&#x27;]),\n",
       "                                (&#x27;normal_onehot5&#x27;,\n",
       "                                 OneHotEncoder(dtype=&#x27;int&#x27;,\n",
       "                                               handle_unknown=&#x27;ignore&#x27;,\n",
       "                                               max_categories=7),\n",
       "                                 [&#x27;host_since_year&#x27;]),\n",
       "                                (&#x27;binarizer1&#x27;, Binarizer(threshold=9.6),\n",
       "                                 [&#x27;review_scores_location&#x27;])])</pre></div></div></div><div class=\"sk-parallel\"><div class=\"sk-parallel-item\"><div class=\"sk-item\"><div class=\"sk-label-container\"><div class=\"sk-label sk-toggleable\"><input class=\"sk-toggleable__control sk-hidden--visually\" id=\"sk-estimator-id-460\" type=\"checkbox\" ><label for=\"sk-estimator-id-460\" class=\"sk-toggleable__label sk-toggleable__label-arrow\">normal_onehot</label><div class=\"sk-toggleable__content\"><pre>[&#x27;room_type&#x27;, &#x27;host_response_time&#x27;, &#x27;instant_bookable&#x27;]</pre></div></div></div><div class=\"sk-serial\"><div class=\"sk-item\"><div class=\"sk-estimator sk-toggleable\"><input class=\"sk-toggleable__control sk-hidden--visually\" id=\"sk-estimator-id-461\" type=\"checkbox\" ><label for=\"sk-estimator-id-461\" class=\"sk-toggleable__label sk-toggleable__label-arrow\">OneHotEncoder</label><div class=\"sk-toggleable__content\"><pre>OneHotEncoder(dtype=&#x27;int&#x27;, handle_unknown=&#x27;ignore&#x27;)</pre></div></div></div></div></div></div><div class=\"sk-parallel-item\"><div class=\"sk-item\"><div class=\"sk-label-container\"><div class=\"sk-label sk-toggleable\"><input class=\"sk-toggleable__control sk-hidden--visually\" id=\"sk-estimator-id-462\" type=\"checkbox\" ><label for=\"sk-estimator-id-462\" class=\"sk-toggleable__label sk-toggleable__label-arrow\">normal_onehot2</label><div class=\"sk-toggleable__content\"><pre>[&#x27;host_is_superhost&#x27;]</pre></div></div></div><div class=\"sk-serial\"><div class=\"sk-item\"><div class=\"sk-estimator sk-toggleable\"><input class=\"sk-toggleable__control sk-hidden--visually\" id=\"sk-estimator-id-463\" type=\"checkbox\" ><label for=\"sk-estimator-id-463\" class=\"sk-toggleable__label sk-toggleable__label-arrow\">OneHotEncoder</label><div class=\"sk-toggleable__content\"><pre>OneHotEncoder(dtype=&#x27;int&#x27;, handle_unknown=&#x27;ignore&#x27;, max_categories=2)</pre></div></div></div></div></div></div><div class=\"sk-parallel-item\"><div class=\"sk-item\"><div class=\"sk-label-container\"><div class=\"sk-label sk-toggleable\"><input class=\"sk-toggleable__control sk-hidden--visually\" id=\"sk-estimator-id-464\" type=\"checkbox\" ><label for=\"sk-estimator-id-464\" class=\"sk-toggleable__label sk-toggleable__label-arrow\">normal_onehot3</label><div class=\"sk-toggleable__content\"><pre>[&#x27;property_type&#x27;, &#x27;host_neighbourhood&#x27;]</pre></div></div></div><div class=\"sk-serial\"><div class=\"sk-item\"><div class=\"sk-estimator sk-toggleable\"><input class=\"sk-toggleable__control sk-hidden--visually\" id=\"sk-estimator-id-465\" type=\"checkbox\" ><label for=\"sk-estimator-id-465\" class=\"sk-toggleable__label sk-toggleable__label-arrow\">OneHotEncoder</label><div class=\"sk-toggleable__content\"><pre>OneHotEncoder(dtype=&#x27;int&#x27;, handle_unknown=&#x27;ignore&#x27;)</pre></div></div></div></div></div></div><div class=\"sk-parallel-item\"><div class=\"sk-item\"><div class=\"sk-label-container\"><div class=\"sk-label sk-toggleable\"><input class=\"sk-toggleable__control sk-hidden--visually\" id=\"sk-estimator-id-466\" type=\"checkbox\" ><label for=\"sk-estimator-id-466\" class=\"sk-toggleable__label sk-toggleable__label-arrow\">normal_onehot4</label><div class=\"sk-toggleable__content\"><pre>[&#x27;cancellation_policy&#x27;]</pre></div></div></div><div class=\"sk-serial\"><div class=\"sk-item\"><div class=\"sk-estimator sk-toggleable\"><input class=\"sk-toggleable__control sk-hidden--visually\" id=\"sk-estimator-id-467\" type=\"checkbox\" ><label for=\"sk-estimator-id-467\" class=\"sk-toggleable__label sk-toggleable__label-arrow\">OneHotEncoder</label><div class=\"sk-toggleable__content\"><pre>OneHotEncoder(dtype=&#x27;int&#x27;, handle_unknown=&#x27;ignore&#x27;, max_categories=3)</pre></div></div></div></div></div></div><div class=\"sk-parallel-item\"><div class=\"sk-item\"><div class=\"sk-label-container\"><div class=\"sk-label sk-toggleable\"><input class=\"sk-toggleable__control sk-hidden--visually\" id=\"sk-estimator-id-468\" type=\"checkbox\" ><label for=\"sk-estimator-id-468\" class=\"sk-toggleable__label sk-toggleable__label-arrow\">normal_onehot5</label><div class=\"sk-toggleable__content\"><pre>[&#x27;host_since_year&#x27;]</pre></div></div></div><div class=\"sk-serial\"><div class=\"sk-item\"><div class=\"sk-estimator sk-toggleable\"><input class=\"sk-toggleable__control sk-hidden--visually\" id=\"sk-estimator-id-469\" type=\"checkbox\" ><label for=\"sk-estimator-id-469\" class=\"sk-toggleable__label sk-toggleable__label-arrow\">OneHotEncoder</label><div class=\"sk-toggleable__content\"><pre>OneHotEncoder(dtype=&#x27;int&#x27;, handle_unknown=&#x27;ignore&#x27;, max_categories=7)</pre></div></div></div></div></div></div><div class=\"sk-parallel-item\"><div class=\"sk-item\"><div class=\"sk-label-container\"><div class=\"sk-label sk-toggleable\"><input class=\"sk-toggleable__control sk-hidden--visually\" id=\"sk-estimator-id-470\" type=\"checkbox\" ><label for=\"sk-estimator-id-470\" class=\"sk-toggleable__label sk-toggleable__label-arrow\">binarizer1</label><div class=\"sk-toggleable__content\"><pre>[&#x27;review_scores_location&#x27;]</pre></div></div></div><div class=\"sk-serial\"><div class=\"sk-item\"><div class=\"sk-estimator sk-toggleable\"><input class=\"sk-toggleable__control sk-hidden--visually\" id=\"sk-estimator-id-471\" type=\"checkbox\" ><label for=\"sk-estimator-id-471\" class=\"sk-toggleable__label sk-toggleable__label-arrow\">Binarizer</label><div class=\"sk-toggleable__content\"><pre>Binarizer(threshold=9.6)</pre></div></div></div></div></div></div><div class=\"sk-parallel-item\"><div class=\"sk-item\"><div class=\"sk-label-container\"><div class=\"sk-label sk-toggleable\"><input class=\"sk-toggleable__control sk-hidden--visually\" id=\"sk-estimator-id-472\" type=\"checkbox\" ><label for=\"sk-estimator-id-472\" class=\"sk-toggleable__label sk-toggleable__label-arrow\">remainder</label><div class=\"sk-toggleable__content\"><pre></pre></div></div></div><div class=\"sk-serial\"><div class=\"sk-item\"><div class=\"sk-estimator sk-toggleable\"><input class=\"sk-toggleable__control sk-hidden--visually\" id=\"sk-estimator-id-473\" type=\"checkbox\" ><label for=\"sk-estimator-id-473\" class=\"sk-toggleable__label sk-toggleable__label-arrow\">passthrough</label><div class=\"sk-toggleable__content\"><pre>passthrough</pre></div></div></div></div></div></div></div></div><div class=\"sk-item\"><div class=\"sk-estimator sk-toggleable\"><input class=\"sk-toggleable__control sk-hidden--visually\" id=\"sk-estimator-id-474\" type=\"checkbox\" ><label for=\"sk-estimator-id-474\" class=\"sk-toggleable__label sk-toggleable__label-arrow\">LGBMRegressor</label><div class=\"sk-toggleable__content\"><pre>LGBMRegressor(learning_rate=0.08, max_depth=23, n_estimators=400)</pre></div></div></div></div></div></div></div></div></div></div><div class=\"sk-item\"><div class=\"sk-parallel\"><div class=\"sk-parallel-item\"><div class=\"sk-item\"><div class=\"sk-label-container\"><div class=\"sk-label sk-toggleable\"><label>final_estimator</label></div></div><div class=\"sk-serial\"><div class=\"sk-item\"><div class=\"sk-estimator sk-toggleable\"><input class=\"sk-toggleable__control sk-hidden--visually\" id=\"sk-estimator-id-475\" type=\"checkbox\" ><label for=\"sk-estimator-id-475\" class=\"sk-toggleable__label sk-toggleable__label-arrow\">RidgeCV</label><div class=\"sk-toggleable__content\"><pre>RidgeCV()</pre></div></div></div></div></div></div></div></div></div></div></div></div>"
      ],
      "text/plain": [
       "StackingRegressor(estimators=[('gb',\n",
       "                               Pipeline(steps=[('pre_col',\n",
       "                                                ColumnTransformer(remainder='passthrough',\n",
       "                                                                  transformers=[('normal_onehot',\n",
       "                                                                                 OneHotEncoder(dtype='int',\n",
       "                                                                                               handle_unknown='ignore'),\n",
       "                                                                                 ['room_type',\n",
       "                                                                                  'host_response_time',\n",
       "                                                                                  'instant_bookable']),\n",
       "                                                                                ('normal_onehot2',\n",
       "                                                                                 OneHotEncoder(dtype='int',\n",
       "                                                                                               handle_unknown='ignore',\n",
       "                                                                                               max_categories=2),\n",
       "                                                                                 ['host_is_superhost'])...\n",
       "                                                                                ('normal_onehot4',\n",
       "                                                                                 OneHotEncoder(dtype='int',\n",
       "                                                                                               handle_unknown='ignore',\n",
       "                                                                                               max_categories=3),\n",
       "                                                                                 ['cancellation_policy']),\n",
       "                                                                                ('normal_onehot5',\n",
       "                                                                                 OneHotEncoder(dtype='int',\n",
       "                                                                                               handle_unknown='ignore',\n",
       "                                                                                               max_categories=7),\n",
       "                                                                                 ['host_since_year']),\n",
       "                                                                                ('binarizer1',\n",
       "                                                                                 Binarizer(threshold=9.6),\n",
       "                                                                                 ['review_scores_location'])])),\n",
       "                                               ('lgb',\n",
       "                                                LGBMRegressor(learning_rate=0.08,\n",
       "                                                              max_depth=23,\n",
       "                                                              n_estimators=400))]))])"
      ]
     },
     "execution_count": 363,
     "metadata": {},
     "output_type": "execute_result"
    }
   ],
   "source": [
    "# 4 pipelines and reg is the one that uses the stacking technique\n",
    "reg.fit(df_X,df_Y)\n",
    "pl.fit(df_X,df_Y)\n",
    "pl_2.fit(df_X,df_Y)\n",
    "pl_3.fit(df_X,df_Y)\n",
    "pl_4.fit(df_X,df_Y)\n"
   ]
  },
  {
   "cell_type": "markdown",
   "id": "395a172f",
   "metadata": {},
   "source": [
    "# GRID SEARCH"
   ]
  },
  {
   "cell_type": "code",
   "execution_count": 364,
   "id": "102662f2",
   "metadata": {},
   "outputs": [],
   "source": [
    "from sklearn.model_selection import GridSearchCV\n",
    "# grid search parameters\n",
    "hyperparams = {\n",
    "    'rf__max_depth': [10,15,16,17],\n",
    "    'rf__min_samples_split': [8,12,16,18],\n",
    "    'rf__n_estimators':[400,500],\n",
    "    'rf__max_features':[\"sqrt\",\"log2\"],   \n",
    "}\n",
    "\n",
    "\n",
    "hyperparams_2={\n",
    "    'final_estimator__max_depth': [8,10],\n",
    "    'final_estimator__n_estimators':[300,400],\n",
    "    'final_estimator__min_samples_leaf':[12,18],\n",
    "    'final_estimator__max_features':[\"sqrt\"],\n",
    "}\n",
    "\n",
    "\n",
    "hyperparams_3={\n",
    "    'xgb__max_depth': [6,8,10,15],\n",
    "    'xgb__learning_rate': [0.05,0.1], \n",
    "    'xgb__n_estimators':[100,150,300],\n",
    "}\n",
    "\n",
    "\n",
    "hyperparams_4 = {\n",
    "    'final_estimator__max_depth': [15,17,19],\n",
    "    'final_estimator__min_samples_split': [8,16,18],\n",
    "    'final_estimator__n_estimators':[300,400],\n",
    "    'final_estimator__max_features':[\"sqrt\",\"log2\"], \n",
    "}\n",
    "\n",
    "\n",
    "hp_for_pl4= {\n",
    "    'lgb__max_depth': [20,23,25,30,35], \n",
    "    'lgb__learning_rate': [0.05,0.06,0.08,0.1], \n",
    "    'lgb__n_estimators': [200,300,400], \n",
    "    'lgb__num_leaves': [28,31,35],\n",
    "}\n",
    "\n",
    "\n",
    "hyperparams_55 = {\n",
    "    'final_estimator__max_depth': [25,30,35,40],\n",
    "    }\n",
    "\n",
    "\n",
    "\n",
    "hy_pl_5 = {\n",
    "    'nn__hidden_layer_sizes': [45,100], \n",
    "    'nn__max_iter': [150,200,300], \n",
    "    \n",
    "    }\n",
    "#'lgb__min_samples_split': [8,16,18],\n",
    "    #'lgb__n_estimators':[300,400],\n",
    "    #'lgb__max_features':[\"sqrt\",\"log2\"], "
   ]
  },
  {
   "cell_type": "code",
   "execution_count": 365,
   "id": "8507e1fe",
   "metadata": {},
   "outputs": [],
   "source": [
    "#grid_lol = GridSearchCV(pl_3, hyperparams_3, cv=5,verbose=10)\n",
    "#grid_lol.fit(df_X, df_Y)"
   ]
  },
  {
   "cell_type": "code",
   "execution_count": 366,
   "id": "fc6a9376",
   "metadata": {},
   "outputs": [],
   "source": [
    "# some of the grid search results\n",
    "\n",
    "#grid_lol.best_params_\n",
    "#{'rf__ccp_alpha': 0.01,\n",
    "# 'rf__max_depth': 15,\n",
    " #'rf__min_samples_split': 18,\n",
    " #'rf__n_estimators': 400}\n",
    "\n",
    "#######\n",
    "#{'rf__max_depth': 17,\n",
    " #'rf__max_features': 'sqrt',\n",
    "# 'rf__min_samples_split': 8,\n",
    " #'rf__n_estimators': 400}\n",
    "    \n",
    "######\n",
    "#{'xgb__gamma': 0.5,\n",
    " #'xgb__learning_rate': 0.1,\n",
    "# 'xgb__max_depth': 8,\n",
    " #'xgb__n_estimators': 150}"
   ]
  },
  {
   "cell_type": "markdown",
   "id": "475dd45e",
   "metadata": {},
   "source": [
    "# FINAL PREDICTOR"
   ]
  },
  {
   "cell_type": "code",
   "execution_count": null,
   "id": "880931f6",
   "metadata": {},
   "outputs": [],
   "source": [
    "pre_col = ColumnTransformer(\n",
    "    remainder=\"passthrough\",\n",
    "    transformers=[('normal_onehot', OneHotEncoder(handle_unknown='ignore', dtype='int'),[\"room_type\",\"host_response_time\",\"instant_bookable\"]),\n",
    "                  ('normal_onehot2', OneHotEncoder(max_categories=2, handle_unknown='ignore', dtype='int'),[\"host_is_superhost\"]),\n",
    "                  ('normal_onehot3', OneHotEncoder(handle_unknown='ignore', dtype='int'),[\"property_type\",\"host_neighbourhood\"]),\n",
    "                  ('normal_onehot4', OneHotEncoder(handle_unknown='ignore', dtype='int', max_categories=3),[\"cancellation_policy\"]),\n",
    "                  ('normal_onehot5', OneHotEncoder(handle_unknown='ignore', dtype='int', max_categories=7),[\"host_since_year\"]),\n",
    "                  ('binarizer1', Binarizer(threshold=9.6),[\"review_scores_location\"]),\n",
    "                   ])\n",
    "\n",
    "pl_2= Pipeline([\n",
    "    (\"pre_col\", pre_col),\n",
    "    ('gb', GradientBoostingRegressor(criterion='squared_error',\n",
    "                                     max_depth=16,\n",
    "                                     max_features=\"sqrt\",\n",
    "                                     min_samples_leaf=18,\n",
    "                                     n_estimators=300))\n",
    "])\n",
    "\n",
    "\n",
    "pl_4=Pipeline([\n",
    "    (\"pre_col\", pre_col),\n",
    "    ('lgb', lgb.LGBMRegressor(learning_rate=0.08,\n",
    "                              max_depth=23,\n",
    "                              n_estimators=400,\n",
    "                              num_leaves=31\n",
    "                             ))\n",
    "])\n",
    "\n",
    "\n",
    "estimators = [\n",
    "    ('gb', pl_2),\n",
    "    ('llgb', pl_4),   \n",
    "]\n",
    "\n",
    "reg=StackingRegressor(estimators)"
   ]
  },
  {
   "cell_type": "markdown",
   "id": "309fb674",
   "metadata": {},
   "source": [
    "# FINAL PREDICTION"
   ]
  },
  {
   "cell_type": "code",
   "execution_count": 367,
   "id": "8ec50bd3",
   "metadata": {},
   "outputs": [],
   "source": [
    "kaggle=pd.read_csv(\"test.csv\",low_memory=False)"
   ]
  },
  {
   "cell_type": "code",
   "execution_count": 368,
   "id": "069d02e7",
   "metadata": {},
   "outputs": [],
   "source": [
    "Ka_X=kaggle[numeric_col]"
   ]
  },
  {
   "cell_type": "code",
   "execution_count": 369,
   "id": "4006f13c",
   "metadata": {},
   "outputs": [],
   "source": [
    "impute_mean(Ka_X,\"review_scores_rating\")\n",
    "impute_zero(Ka_X,\"reviews_per_month\")\n",
    "impute_median(Ka_X,\"bedrooms\")\n",
    "impute_median(Ka_X,\"bathrooms\")\n",
    "impute_median(Ka_X,\"beds\")\n",
    "impute_mean(Ka_X,\"review_scores_cleanliness\")\n",
    "impute_mean(Ka_X,\"review_scores_location\")\n",
    "\n",
    "add_new_col(Ka_X)\n",
    "add_new_col2(Ka_X)\n",
    "new_name_feature(Ka_X)\n",
    "num_am_provided(Ka_X)\n",
    "new_des_feature(Ka_X)"
   ]
  },
  {
   "cell_type": "code",
   "execution_count": 41,
   "id": "8a970daa",
   "metadata": {
    "scrolled": true
   },
   "outputs": [],
   "source": [
    "#reg.predict(Ka_X),reg.predict(Ka_X).mean()"
   ]
  },
  {
   "cell_type": "code",
   "execution_count": 371,
   "id": "907c8c81",
   "metadata": {},
   "outputs": [],
   "source": [
    "#pl.predict(Ka_X),pl.predict(Ka_X).mean()"
   ]
  },
  {
   "cell_type": "code",
   "execution_count": 372,
   "id": "d7c35a80",
   "metadata": {
    "scrolled": true
   },
   "outputs": [],
   "source": [
    "#pl_2.predict(Ka_X),pl_2.predict(Ka_X).mean()"
   ]
  },
  {
   "cell_type": "code",
   "execution_count": 373,
   "id": "460f46b1",
   "metadata": {
    "scrolled": true
   },
   "outputs": [],
   "source": [
    "#pl_3.predict(Ka_X),pl_3.predict(Ka_X).mean()"
   ]
  },
  {
   "cell_type": "code",
   "execution_count": 374,
   "id": "aab8ef47",
   "metadata": {},
   "outputs": [],
   "source": [
    "#pl_4.predict(Ka_X),pl_4.predict(Ka_X).mean()"
   ]
  },
  {
   "cell_type": "code",
   "execution_count": 375,
   "id": "0816281b",
   "metadata": {},
   "outputs": [],
   "source": [
    "#pl_5.predict(Ka_X),pl_5.predict(Ka_X).mean()"
   ]
  },
  {
   "cell_type": "code",
   "execution_count": 376,
   "id": "d04c75a3",
   "metadata": {},
   "outputs": [
    {
     "data": {
      "text/html": [
       "<div>\n",
       "<style scoped>\n",
       "    .dataframe tbody tr th:only-of-type {\n",
       "        vertical-align: middle;\n",
       "    }\n",
       "\n",
       "    .dataframe tbody tr th {\n",
       "        vertical-align: top;\n",
       "    }\n",
       "\n",
       "    .dataframe thead th {\n",
       "        text-align: right;\n",
       "    }\n",
       "</style>\n",
       "<table border=\"1\" class=\"dataframe\">\n",
       "  <thead>\n",
       "    <tr style=\"text-align: right;\">\n",
       "      <th></th>\n",
       "      <th>Id</th>\n",
       "      <th>Predicted</th>\n",
       "    </tr>\n",
       "  </thead>\n",
       "  <tbody>\n",
       "    <tr>\n",
       "      <th>0</th>\n",
       "      <td>19307997</td>\n",
       "      <td>346.492641</td>\n",
       "    </tr>\n",
       "    <tr>\n",
       "      <th>1</th>\n",
       "      <td>20176193</td>\n",
       "      <td>175.731615</td>\n",
       "    </tr>\n",
       "    <tr>\n",
       "      <th>2</th>\n",
       "      <td>19485371</td>\n",
       "      <td>51.067154</td>\n",
       "    </tr>\n",
       "    <tr>\n",
       "      <th>3</th>\n",
       "      <td>13079990</td>\n",
       "      <td>49.045270</td>\n",
       "    </tr>\n",
       "    <tr>\n",
       "      <th>4</th>\n",
       "      <td>22339757</td>\n",
       "      <td>63.925625</td>\n",
       "    </tr>\n",
       "    <tr>\n",
       "      <th>...</th>\n",
       "      <td>...</td>\n",
       "      <td>...</td>\n",
       "    </tr>\n",
       "    <tr>\n",
       "      <th>17332</th>\n",
       "      <td>22325617</td>\n",
       "      <td>90.378145</td>\n",
       "    </tr>\n",
       "    <tr>\n",
       "      <th>17333</th>\n",
       "      <td>8372650</td>\n",
       "      <td>377.810030</td>\n",
       "    </tr>\n",
       "    <tr>\n",
       "      <th>17334</th>\n",
       "      <td>3812554</td>\n",
       "      <td>87.068167</td>\n",
       "    </tr>\n",
       "    <tr>\n",
       "      <th>17335</th>\n",
       "      <td>18891508</td>\n",
       "      <td>68.315615</td>\n",
       "    </tr>\n",
       "    <tr>\n",
       "      <th>17336</th>\n",
       "      <td>18111901</td>\n",
       "      <td>144.568662</td>\n",
       "    </tr>\n",
       "  </tbody>\n",
       "</table>\n",
       "<p>17337 rows × 2 columns</p>\n",
       "</div>"
      ],
      "text/plain": [
       "             Id   Predicted\n",
       "0      19307997  346.492641\n",
       "1      20176193  175.731615\n",
       "2      19485371   51.067154\n",
       "3      13079990   49.045270\n",
       "4      22339757   63.925625\n",
       "...         ...         ...\n",
       "17332  22325617   90.378145\n",
       "17333   8372650  377.810030\n",
       "17334   3812554   87.068167\n",
       "17335  18891508   68.315615\n",
       "17336  18111901  144.568662\n",
       "\n",
       "[17337 rows x 2 columns]"
      ]
     },
     "execution_count": 376,
     "metadata": {},
     "output_type": "execute_result"
    }
   ],
   "source": [
    "b=pd.DataFrame()\n",
    "b[\"Id\"]=kaggle[\"id\"]\n",
    "b[\"Predicted\"]=reg.predict(Ka_X)\n",
    "b"
   ]
  },
  {
   "cell_type": "code",
   "execution_count": 377,
   "id": "89744106",
   "metadata": {},
   "outputs": [],
   "source": [
    "#reg.predict(Ka_X).mean()"
   ]
  },
  {
   "cell_type": "code",
   "execution_count": 378,
   "id": "017cb07c",
   "metadata": {},
   "outputs": [
    {
     "data": {
      "text/plain": [
       "145.177291430616"
      ]
     },
     "execution_count": 378,
     "metadata": {},
     "output_type": "execute_result"
    }
   ],
   "source": [
    "df[\"price\"].mean()"
   ]
  },
  {
   "cell_type": "code",
   "execution_count": 357,
   "id": "fa94be9d",
   "metadata": {},
   "outputs": [],
   "source": [
    "# export predictions to a csv file\n",
    "b.to_csv('version_55,pl2pl4_agian.csv',index=False)"
   ]
  },
  {
   "cell_type": "markdown",
   "id": "d81fdfbd",
   "metadata": {},
   "source": [
    "# Cross Validation"
   ]
  },
  {
   "cell_type": "code",
   "execution_count": 380,
   "id": "a6db55b1",
   "metadata": {},
   "outputs": [
    {
     "data": {
      "text/plain": [
       "array([-8724.57286284, -7250.53246691, -6940.40849295, -7762.15744305,\n",
       "       -8631.09152636])"
      ]
     },
     "execution_count": 380,
     "metadata": {},
     "output_type": "execute_result"
    }
   ],
   "source": [
    "from sklearn.model_selection import cross_val_score\n",
    "cross_val_score(reg, df_X, df_Y, cv=5,scoring=\"neg_mean_squared_error\")"
   ]
  },
  {
   "cell_type": "code",
   "execution_count": 381,
   "id": "121b7ad7",
   "metadata": {},
   "outputs": [
    {
     "data": {
      "text/plain": [
       "-7861.752558422"
      ]
     },
     "execution_count": 381,
     "metadata": {},
     "output_type": "execute_result"
    }
   ],
   "source": [
    "a = np.mean([-8724.57286284, -7250.53246691, -6940.40849295, -7762.15744305,\n",
    "       -8631.09152636])\n",
    "#7841"
   ]
  },
  {
   "cell_type": "code",
   "execution_count": 382,
   "id": "c0c6603b",
   "metadata": {},
   "outputs": [
    {
     "data": {
      "text/plain": [
       "88.66228059327146"
      ]
     },
     "execution_count": 382,
     "metadata": {},
     "output_type": "execute_result"
    }
   ],
   "source": [
    "np.sqrt(7861)\n",
    "\n",
    "#88.64536084872124\n",
    "#88.49858755935034"
   ]
  },
  {
   "cell_type": "code",
   "execution_count": null,
   "id": "b402caaf",
   "metadata": {},
   "outputs": [],
   "source": [
    "#  recording some of the past versions and their performace:"
   ]
  },
  {
   "cell_type": "code",
   "execution_count": null,
   "id": "69b3755b",
   "metadata": {},
   "outputs": [],
   "source": [
    "#90.37145567047152\n",
    "#reg: 91.04394543296111\n",
    "#pl_1: 96.46,96.45 \n",
    "#pl_2: 94 89\n",
    "#pl_3:92 91.5\n",
    "# reg 1616, reduce redendent, add features:\n",
    "# 20,12,400 95"
   ]
  },
  {
   "cell_type": "code",
   "execution_count": null,
   "id": "1752c095",
   "metadata": {},
   "outputs": [],
   "source": [
    "#35 (17 sqrt 8 400) 96.67\n",
    "#36 (dont remember but) 96.51\n",
    "#37 (17 sqrt 8 400) 96.64\n",
    "#38 (16 sqrt 16 400) 96.64\n",
    "#39 (add feature, reduce redundent, 20 sqrt 16 300) -cv:91.04 -kaggle: 94.5\n",
    "#40 (add feature, reduce redundent, 16 sqrt 16 300) -cv:90.52 -kaggle: 94.85\n",
    "#41 (40, pl_1 only to 20,12,400) -cv: 90.53 - mean:144.7/145.17 -kaggle: 94.76\n",
    "#42 lgb light depth= 25 -cv: 90.53 - mean:144.7/145.17 -kaggle: 94.76\n",
    "#43 version 42 but with stack\n",
    "#44 norf,nofinal stack\n",
    "#45 lgbm final stack\n",
    "#46 gradient boost with greid search\n",
    "#$& stack gradient boost and lightlgb"
   ]
  },
  {
   "cell_type": "markdown",
   "id": "5da74d9f",
   "metadata": {},
   "source": [
    "- Baseline linear Regression model: 108.42012\n",
    "- Final model RMSE: 84.75782"
   ]
  }
 ],
 "metadata": {
  "kernelspec": {
   "display_name": "Python 3 (ipykernel)",
   "language": "python",
   "name": "python3"
  },
  "language_info": {
   "codemirror_mode": {
    "name": "ipython",
    "version": 3
   },
   "file_extension": ".py",
   "mimetype": "text/x-python",
   "name": "python",
   "nbconvert_exporter": "python",
   "pygments_lexer": "ipython3",
   "version": "3.9.12"
  }
 },
 "nbformat": 4,
 "nbformat_minor": 5
}
