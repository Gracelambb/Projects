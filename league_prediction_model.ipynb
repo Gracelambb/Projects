{
 "cells": [
  {
   "cell_type": "markdown",
   "metadata": {},
   "source": [
    "# Predicting the Result of League of Legends"
   ]
  },
  {
   "cell_type": "markdown",
   "metadata": {},
   "source": [
    "# Summary of Findings\n",
    "\n",
    "\n",
    "### Introduction\n",
    "\n",
    "The result of a game is determined by many factors of the game. The average duration of a game is typically 30-45 mins. Leading us to our classification predition problem: Predict the result of a game, whether the team wins or not, using information available at the first 10 mins of the entire match. Since we are using the result of a game as the target variable, we want to make sure our accuracy is as high as possible so we have decided to use accuracy as our evaluation metric/ objective.\n",
    "\n",
    "### Baseline Model\n",
    "we took a look in to many features when building our baseline model. During our investigation, we have eliminated a few features including bans and champion names. At first galance, it might seen to be a good feature to use. But after some reasearch about leauge and taking game patch in to an account, we notice that it might not be a good feature to predict the result of the game, since champion tier differs for different patchs. For our baseline model, we used 10 features, in which 2 are nominal, 6 are quantitative and 2 are boolean categorical values. \n",
    "\n",
    "In the baseline model, we were able to achieve an accuracy of 0.711 for the training model, 0.696 for the test model. Base on this, we noticed that this might not be a good model since it might be an overfitted model. Therefore we have decided to perform grid search to find better parameters and to finalize our model.\n",
    "\n",
    "### Final Model\n",
    "\n",
    "One feature we have added is from binarizing the assistant at 10. we have decide to use a binarizer because we wanted to set a threshold of whether there are a lot of assistance or not. Also we have standard scaled the death at 10, becasue working with normalized data can help create a consistency among data. In the end, the type of model we chose is RandomForestClassifier. We chose this model because after trying differnt models and hypeparameters this model seems to work the best. The best parameters included crition 'entropy', max_depth of 10, and min_samples_split of 64. \n",
    "\n",
    "### Fairness Evaluation\n",
    "We conducted a fairness analysis on whether our model performed better on shorter games than longer ones. The result of our permutation test indicated that our model had better performance on shorter games. This is reasonable given we only used variables avaiable at the first 10 mins of the match. "
   ]
  },
  {
   "cell_type": "markdown",
   "metadata": {},
   "source": [
    "# Code"
   ]
  },
  {
   "cell_type": "code",
   "execution_count": 448,
   "metadata": {},
   "outputs": [],
   "source": [
    "import matplotlib.pyplot as plt\n",
    "import numpy as np\n",
    "import os\n",
    "import pandas as pd\n",
    "import seaborn as sns\n",
    "%matplotlib inline\n",
    "%config InlineBackend.figure_format = 'retina'  # Higher resolution figures"
   ]
  },
  {
   "cell_type": "code",
   "execution_count": 449,
   "metadata": {},
   "outputs": [],
   "source": [
    "lol_2022= pd.read_csv(\"LOL_2022.csv\",low_memory=False)"
   ]
  },
  {
   "cell_type": "code",
   "execution_count": 450,
   "metadata": {
    "scrolled": true
   },
   "outputs": [
    {
     "data": {
      "text/html": [
       "<div>\n",
       "<style scoped>\n",
       "    .dataframe tbody tr th:only-of-type {\n",
       "        vertical-align: middle;\n",
       "    }\n",
       "\n",
       "    .dataframe tbody tr th {\n",
       "        vertical-align: top;\n",
       "    }\n",
       "\n",
       "    .dataframe thead th {\n",
       "        text-align: right;\n",
       "    }\n",
       "</style>\n",
       "<table border=\"1\" class=\"dataframe\">\n",
       "  <thead>\n",
       "    <tr style=\"text-align: right;\">\n",
       "      <th></th>\n",
       "      <th>gameid</th>\n",
       "      <th>datacompleteness</th>\n",
       "      <th>url</th>\n",
       "      <th>league</th>\n",
       "      <th>year</th>\n",
       "      <th>split</th>\n",
       "      <th>playoffs</th>\n",
       "      <th>date</th>\n",
       "      <th>game</th>\n",
       "      <th>patch</th>\n",
       "      <th>...</th>\n",
       "      <th>opp_csat15</th>\n",
       "      <th>golddiffat15</th>\n",
       "      <th>xpdiffat15</th>\n",
       "      <th>csdiffat15</th>\n",
       "      <th>killsat15</th>\n",
       "      <th>assistsat15</th>\n",
       "      <th>deathsat15</th>\n",
       "      <th>opp_killsat15</th>\n",
       "      <th>opp_assistsat15</th>\n",
       "      <th>opp_deathsat15</th>\n",
       "    </tr>\n",
       "  </thead>\n",
       "  <tbody>\n",
       "    <tr>\n",
       "      <th>0</th>\n",
       "      <td>ESPORTSTMNT01_2690210</td>\n",
       "      <td>complete</td>\n",
       "      <td>NaN</td>\n",
       "      <td>LCK CL</td>\n",
       "      <td>2022</td>\n",
       "      <td>Spring</td>\n",
       "      <td>0</td>\n",
       "      <td>2022-01-10 07:44:08</td>\n",
       "      <td>1</td>\n",
       "      <td>12.01</td>\n",
       "      <td>...</td>\n",
       "      <td>121.0</td>\n",
       "      <td>391.0</td>\n",
       "      <td>345.0</td>\n",
       "      <td>14.0</td>\n",
       "      <td>0.0</td>\n",
       "      <td>1.0</td>\n",
       "      <td>0.0</td>\n",
       "      <td>0.0</td>\n",
       "      <td>1.0</td>\n",
       "      <td>0.0</td>\n",
       "    </tr>\n",
       "    <tr>\n",
       "      <th>1</th>\n",
       "      <td>ESPORTSTMNT01_2690210</td>\n",
       "      <td>complete</td>\n",
       "      <td>NaN</td>\n",
       "      <td>LCK CL</td>\n",
       "      <td>2022</td>\n",
       "      <td>Spring</td>\n",
       "      <td>0</td>\n",
       "      <td>2022-01-10 07:44:08</td>\n",
       "      <td>1</td>\n",
       "      <td>12.01</td>\n",
       "      <td>...</td>\n",
       "      <td>100.0</td>\n",
       "      <td>541.0</td>\n",
       "      <td>-275.0</td>\n",
       "      <td>-11.0</td>\n",
       "      <td>2.0</td>\n",
       "      <td>3.0</td>\n",
       "      <td>2.0</td>\n",
       "      <td>0.0</td>\n",
       "      <td>5.0</td>\n",
       "      <td>1.0</td>\n",
       "    </tr>\n",
       "    <tr>\n",
       "      <th>2</th>\n",
       "      <td>ESPORTSTMNT01_2690210</td>\n",
       "      <td>complete</td>\n",
       "      <td>NaN</td>\n",
       "      <td>LCK CL</td>\n",
       "      <td>2022</td>\n",
       "      <td>Spring</td>\n",
       "      <td>0</td>\n",
       "      <td>2022-01-10 07:44:08</td>\n",
       "      <td>1</td>\n",
       "      <td>12.01</td>\n",
       "      <td>...</td>\n",
       "      <td>119.0</td>\n",
       "      <td>-475.0</td>\n",
       "      <td>153.0</td>\n",
       "      <td>1.0</td>\n",
       "      <td>0.0</td>\n",
       "      <td>3.0</td>\n",
       "      <td>0.0</td>\n",
       "      <td>3.0</td>\n",
       "      <td>3.0</td>\n",
       "      <td>2.0</td>\n",
       "    </tr>\n",
       "  </tbody>\n",
       "</table>\n",
       "<p>3 rows × 123 columns</p>\n",
       "</div>"
      ],
      "text/plain": [
       "                  gameid datacompleteness  url  league  year   split  \\\n",
       "0  ESPORTSTMNT01_2690210         complete  NaN  LCK CL  2022  Spring   \n",
       "1  ESPORTSTMNT01_2690210         complete  NaN  LCK CL  2022  Spring   \n",
       "2  ESPORTSTMNT01_2690210         complete  NaN  LCK CL  2022  Spring   \n",
       "\n",
       "   playoffs                 date  game  patch  ...  opp_csat15 golddiffat15  \\\n",
       "0         0  2022-01-10 07:44:08     1  12.01  ...       121.0        391.0   \n",
       "1         0  2022-01-10 07:44:08     1  12.01  ...       100.0        541.0   \n",
       "2         0  2022-01-10 07:44:08     1  12.01  ...       119.0       -475.0   \n",
       "\n",
       "  xpdiffat15 csdiffat15 killsat15 assistsat15 deathsat15 opp_killsat15  \\\n",
       "0      345.0       14.0       0.0         1.0        0.0           0.0   \n",
       "1     -275.0      -11.0       2.0         3.0        2.0           0.0   \n",
       "2      153.0        1.0       0.0         3.0        0.0           3.0   \n",
       "\n",
       "  opp_assistsat15 opp_deathsat15  \n",
       "0             1.0            0.0  \n",
       "1             5.0            1.0  \n",
       "2             3.0            2.0  \n",
       "\n",
       "[3 rows x 123 columns]"
      ]
     },
     "execution_count": 450,
     "metadata": {},
     "output_type": "execute_result"
    }
   ],
   "source": [
    "lol_2022.head(3)"
   ]
  },
  {
   "cell_type": "markdown",
   "metadata": {},
   "source": [
    "# Indroduction"
   ]
  },
  {
   "cell_type": "markdown",
   "metadata": {},
   "source": [
    "The result of a game is determined by many factors of the game. The average duration of a game is typically 30-45 mins. In this project, we would like to predict the result of a game, whether the team wins or not, using information available at the first 10 mins of the entire match. Our objective is to maximize the accuracy score."
   ]
  },
  {
   "cell_type": "markdown",
   "metadata": {},
   "source": [
    "### Baseline Model"
   ]
  },
  {
   "cell_type": "markdown",
   "metadata": {},
   "source": [
    "#### we examin the columns of the data set and found some useful features we can take a look in to:\n",
    "- golddiffat10: the gold diference at 10 mins\n",
    "- ban1 - ban5: the 5 chapions that wer banned in the beginning of the game\n",
    "- side: the side the team was on red/blue\n",
    "- firstblood: a boolean value of wether the team got first blood\n",
    "- fisrdragon: a boolean value of wether the team got first dragon \n",
    "- champion: the champion that were used in the match \n",
    "- killsat10: the number of kills at 10 mins\n",
    "- csdiffat10: the differnce in minions and jungle monster kills\n",
    "- deathsat10: the number of death at 10 mins\n"
   ]
  },
  {
   "cell_type": "code",
   "execution_count": 451,
   "metadata": {},
   "outputs": [],
   "source": [
    "#champ_used=lol_2022.groupby([\"gameid\",\"side\"])[\"champion\"].apply(lambda x: list(x)[:-1]).reset_index()\n",
    "#df=df.merge(champ_used, on=[\"gameid\",\"side\"], how=\"inner\")\n",
    "#df[\"champion\"]=df[\"champion\"].transform(lambda x: \" \".join(x))"
   ]
  },
  {
   "cell_type": "markdown",
   "metadata": {},
   "source": [
    "#### Observation:\n",
    "After some investigation merging and putting this new column we created above in the pipeline, we found that champion and ban might not be the best feature to use. There are differnt patch of the games so past champion data might not reflect the furture."
   ]
  },
  {
   "cell_type": "code",
   "execution_count": 452,
   "metadata": {
    "scrolled": false
   },
   "outputs": [],
   "source": [
    "# select features that we want to use\n",
    "df=(lol_2022[lol_2022[\"position\"]==\"team\"] [[\"side\",\"golddiffat10\",\n",
    "    \"firstblood\",\"firstdragon\",\"killsat10\",\"csdiffat10\",\"deathsat10\",\"league\",\"assistsat10\",\"xpdiffat10\",\"result\"]])\n",
    "df=df.dropna()\n",
    "df_result=df[\"result\"]\n",
    "df=df.drop(columns=\"result\")"
   ]
  },
  {
   "cell_type": "code",
   "execution_count": 453,
   "metadata": {},
   "outputs": [],
   "source": [
    "# split the training data and the testing data by 0.75/0.25\n",
    "from sklearn.model_selection import train_test_split"
   ]
  },
  {
   "cell_type": "code",
   "execution_count": 454,
   "metadata": {},
   "outputs": [],
   "source": [
    "# importing from sklearn\n",
    "from sklearn.tree import DecisionTreeClassifier\n",
    "from sklearn.feature_extraction.text import CountVectorizer\n",
    "from sklearn.preprocessing import OneHotEncoder\n",
    "from sklearn.preprocessing import Binarizer\n",
    "from sklearn.preprocessing import FunctionTransformer\n",
    "from sklearn.pipeline import Pipeline\n",
    "from sklearn.compose import ColumnTransformer\n",
    "from sklearn.preprocessing import MultiLabelBinarizer\n",
    "from sklearn.ensemble import RandomForestClassifier\n",
    "from sklearn.model_selection import GridSearchCV\n",
    "from sklearn.linear_model import LogisticRegression\n",
    "from sklearn import metrics"
   ]
  },
  {
   "cell_type": "code",
   "execution_count": 524,
   "metadata": {},
   "outputs": [],
   "source": [
    "X_train, X_test, y_train, y_test = train_test_split(df, df_result,test_size=0.25)  "
   ]
  },
  {
   "cell_type": "code",
   "execution_count": 459,
   "metadata": {},
   "outputs": [
    {
     "data": {
      "text/plain": [
       "(0.7114687360854908, 0.6968135851936653)"
      ]
     },
     "execution_count": 459,
     "metadata": {},
     "output_type": "execute_result"
    }
   ],
   "source": [
    "blpre = ColumnTransformer(\n",
    "                remainder=\"passthrough\",\n",
    "                transformers=[\n",
    "                    ('ohe_side', OneHotEncoder(drop=\"first\",handle_unknown='ignore', dtype='int'),[\"side\",\"league\"]), \n",
    "                ])\n",
    "\n",
    "blpl= Pipeline([\n",
    "        (\"pre_col\", blpre),\n",
    "        ('dtc', RandomForestClassifier(max_depth=6))\n",
    "        ])\n",
    "\n",
    "blpl.fit(X_train,y_train)\n",
    "#pl.predict(X_test)\n",
    "blpl.score(X_train,y_train),blpl.score(X_test,y_test)"
   ]
  },
  {
   "cell_type": "markdown",
   "metadata": {},
   "source": [
    "In the base line model we were able to achive a accuracy of 0.711 for the training model, 0.697 for the test model. Base on this we notice that this might be an overfitted model. Therefore we have decided to perform grid search to find better parameters and to finalize out model."
   ]
  },
  {
   "cell_type": "markdown",
   "metadata": {},
   "source": [
    "### Exploring Models"
   ]
  },
  {
   "cell_type": "code",
   "execution_count": 460,
   "metadata": {},
   "outputs": [],
   "source": [
    "# these are some hypeparmeters we would liek to explore\n",
    "hyperparams = {\n",
    "    'dtc__max_depth': [4, 8,10,12,16, 32],\n",
    "    'dtc__min_samples_split': [ 8, 16, 24, 32, 64],\n",
    "    'dtc__criterion': ['gini', 'entropy']\n",
    "}"
   ]
  },
  {
   "cell_type": "code",
   "execution_count": 242,
   "metadata": {},
   "outputs": [
    {
     "data": {
      "text/plain": [
       "GridSearchCV(cv=5,\n",
       "             estimator=Pipeline(steps=[('pre_col',\n",
       "                                        ColumnTransformer(remainder='passthrough',\n",
       "                                                          transformers=[('ohe_side',\n",
       "                                                                         OneHotEncoder(drop='first',\n",
       "                                                                                       dtype='int',\n",
       "                                                                                       handle_unknown='ignore'),\n",
       "                                                                         ['side',\n",
       "                                                                          'league']),\n",
       "                                                                        ('bi_golddiff',\n",
       "                                                                         Binarizer(threshold=2),\n",
       "                                                                         ['assistsat10'])])),\n",
       "                                       ('dtc',\n",
       "                                        RandomForestClassifier(max_depth=16,\n",
       "                                                               min_samples_split=64))]),\n",
       "             param_grid={'dtc__criterion': ['gini', 'entropy'],\n",
       "                         'dtc__max_depth': [4, 8, 10, 12, 16, 32],\n",
       "                         'dtc__min_samples_split': [8, 16, 24, 32, 64]})"
      ]
     },
     "execution_count": 242,
     "metadata": {},
     "output_type": "execute_result"
    }
   ],
   "source": [
    "grid_lol = GridSearchCV(pl, hyperparams, cv=5)\n",
    "grid_lol.fit(X_train, y_train)"
   ]
  },
  {
   "cell_type": "code",
   "execution_count": 243,
   "metadata": {},
   "outputs": [
    {
     "data": {
      "text/plain": [
       "{'dtc__criterion': 'entropy',\n",
       " 'dtc__max_depth': 10,\n",
       " 'dtc__min_samples_split': 64}"
      ]
     },
     "execution_count": 243,
     "metadata": {},
     "output_type": "execute_result"
    }
   ],
   "source": [
    "grid_lol.best_params_"
   ]
  },
  {
   "cell_type": "code",
   "execution_count": 525,
   "metadata": {},
   "outputs": [
    {
     "data": {
      "text/plain": [
       "(0.7259080211182495, 0.7004388475481779)"
      ]
     },
     "execution_count": 525,
     "metadata": {},
     "output_type": "execute_result"
    }
   ],
   "source": [
    "expre = ColumnTransformer(\n",
    "                remainder=\"passthrough\",\n",
    "                transformers=[\n",
    "                    ('ohe_side', OneHotEncoder(drop=\"first\",handle_unknown='ignore', dtype='int'),[\"side\",\"league\"]),\n",
    "                    ('bi_golddiff', Binarizer(threshold=2),[\"assistsat10\"]),   \n",
    "                ])\n",
    "\n",
    "expl= Pipeline([\n",
    "        (\"pre_col\", expre),\n",
    "        ('dtc', RandomForestClassifier(criterion=\"entropy\",max_depth=10,min_samples_split=64))\n",
    "        ])\n",
    "\n",
    "expl.fit(X_train,y_train)\n",
    "#pl.predict(X_test)\n",
    "expl.score(X_train,y_train),expl.score(X_test,y_test)\n"
   ]
  },
  {
   "cell_type": "markdown",
   "metadata": {},
   "source": [
    "Not only do we want to perform grid search on the basline model, but we also want to explore other possible models for prediction. Because many variables in our proposed model were quantitative data, after trying theRandomForestClassifier model , we wanted to use logistic regression to predict the binary result of a match."
   ]
  },
  {
   "cell_type": "code",
   "execution_count": 526,
   "metadata": {},
   "outputs": [
    {
     "data": {
      "text/plain": [
       "(0.7055530818650213, 0.7012020606754437)"
      ]
     },
     "execution_count": 526,
     "metadata": {},
     "output_type": "execute_result"
    }
   ],
   "source": [
    "lol_prepro = ColumnTransformer(\n",
    "    transformers=[('ohe', OneHotEncoder(handle_unknown='ignore'),['side', 'league'])], remainder = 'passthrough')\n",
    "lol_base_pl = Pipeline(\n",
    "    steps = [('pre', lol_prepro), ('reg', LogisticRegression())])\n",
    "lol_base_pl.fit(X_train, y_train)\n",
    "lol_base_pl.score(X_train, y_train), lol_base_pl.score(X_test, y_test)"
   ]
  },
  {
   "cell_type": "markdown",
   "metadata": {},
   "source": [
    "In this model, we were able to achive a accuracy of 0.706 for the training model, 0.701 for the test model. "
   ]
  },
  {
   "cell_type": "markdown",
   "metadata": {},
   "source": [
    "### Final Models\n",
    "after the exploration of models above, we have finalize our model:"
   ]
  },
  {
   "cell_type": "code",
   "execution_count": 541,
   "metadata": {},
   "outputs": [
    {
     "data": {
      "text/plain": [
       "(0.7243814006742574, 0.7044457164663233)"
      ]
     },
     "execution_count": 541,
     "metadata": {},
     "output_type": "execute_result"
    }
   ],
   "source": [
    "from sklearn.preprocessing import StandardScaler\n",
    "\n",
    "fnpre = ColumnTransformer(\n",
    "                remainder=\"passthrough\",\n",
    "                transformers=[\n",
    "                    ('ohe_side', OneHotEncoder(drop=\"first\",handle_unknown='ignore', dtype='int'),[\"side\",\"league\"]),\n",
    "                    ('bi_ass10', Binarizer(threshold=5),[\"assistsat10\"]),\n",
    "                    ('std_golddiff', StandardScaler(),[\"deathsat10\"]),\n",
    "                ])\n",
    "\n",
    "fnpl= Pipeline([\n",
    "        (\"pre_col\", fnpre),\n",
    "        ('dtc', RandomForestClassifier(criterion=\"entropy\",max_depth=10,min_samples_split=64))\n",
    "        ])\n",
    "\n",
    "fnpl.fit(X_train,y_train)\n",
    "#pl.predict(X_test)\n",
    "fnpl.score(X_train,y_train),fnpl.score(X_test,y_test)\n"
   ]
  },
  {
   "cell_type": "markdown",
   "metadata": {},
   "source": [
    "below are the statiscs of our models acuracy, precision and recall"
   ]
  },
  {
   "cell_type": "code",
   "execution_count": 542,
   "metadata": {},
   "outputs": [],
   "source": [
    "from sklearn import metrics"
   ]
  },
  {
   "cell_type": "code",
   "execution_count": 543,
   "metadata": {},
   "outputs": [],
   "source": [
    "y_pred = pl.predict(X_test)"
   ]
  },
  {
   "cell_type": "code",
   "execution_count": 544,
   "metadata": {},
   "outputs": [
    {
     "data": {
      "text/plain": [
       "0.7189467658843732"
      ]
     },
     "execution_count": 544,
     "metadata": {},
     "output_type": "execute_result"
    }
   ],
   "source": [
    "metrics.accuracy_score(y_test, y_pred)"
   ]
  },
  {
   "cell_type": "code",
   "execution_count": 545,
   "metadata": {},
   "outputs": [
    {
     "data": {
      "text/plain": [
       "0.7185017026106697"
      ]
     },
     "execution_count": 545,
     "metadata": {},
     "output_type": "execute_result"
    }
   ],
   "source": [
    "metrics.precision_score(y_test, y_pred)"
   ]
  },
  {
   "cell_type": "code",
   "execution_count": 546,
   "metadata": {
    "scrolled": true
   },
   "outputs": [
    {
     "data": {
      "text/plain": [
       "0.7226027397260274"
      ]
     },
     "execution_count": 546,
     "metadata": {},
     "output_type": "execute_result"
    }
   ],
   "source": [
    "metrics.recall_score(y_test, y_pred)"
   ]
  },
  {
   "cell_type": "code",
   "execution_count": 547,
   "metadata": {},
   "outputs": [
    {
     "data": {
      "image/png": "[encoded data removed]",
      "text/plain": [
       "<Figure size 640x480 with 2 Axes>"
      ]
     },
     "metadata": {
      "image/png": {
       "height": 432,
       "width": 516
      }
     },
     "output_type": "display_data"
    }
   ],
   "source": [
    "import warnings\n",
    "warnings.filterwarnings('ignore')\n",
    "\n",
    "metrics.plot_confusion_matrix(fnpl, X_test, y_test);"
   ]
  },
  {
   "cell_type": "markdown",
   "metadata": {},
   "source": [
    "### Fairness Evaluation\n"
   ]
  },
  {
   "cell_type": "markdown",
   "metadata": {},
   "source": [
    "Null hypothesis: my model is fair; the precision for long and short matches are roughly the same\n",
    "\n",
    "Alternative hypothesis: my model is unfair, the precision for short matches are higher than long matches"
   ]
  },
  {
   "cell_type": "code",
   "execution_count": 392,
   "metadata": {},
   "outputs": [
    {
     "data": {
      "text/plain": [
       "<AxesSubplot:ylabel='Frequency'>"
      ]
     },
     "execution_count": 392,
     "metadata": {},
     "output_type": "execute_result"
    },
    {
     "data": {
      "image/png": "[encoded data removed]",
      "text/plain": [
       "<Figure size 640x480 with 1 Axes>"
      ]
     },
     "metadata": {
      "image/png": {
       "height": 413,
       "width": 580
      }
     },
     "output_type": "display_data"
    }
   ],
   "source": [
    "df_fair = (lol_2022[lol_2022[\"position\"]==\"team\"]\n",
    "      [[\"side\",\"golddiffat10\",\"firstblood\",\"firstdragon\",\"xpdiffat10\",\n",
    "    \"killsat10\",\"assistsat10\",\"csdiffat10\",\"deathsat10\", 'league', 'result', 'gamelength']]\n",
    "     .dropna())\n",
    "game_len_mean = df_fair['gamelength'].mean()\n",
    "df_fair['gamelength'].plot(kind = 'hist')\n"
   ]
  },
  {
   "cell_type": "markdown",
   "metadata": {},
   "source": [
    "Since the graph of game length seems to be normal, we will consider every match with length below or equal to the mean game length to be short."
   ]
  },
  {
   "cell_type": "code",
   "execution_count": 399,
   "metadata": {},
   "outputs": [],
   "source": [
    "short_match = df_fair[df_fair['gamelength'] <= game_len_mean]\n",
    "long_match = df_fair[df_fair['gamelength'] > game_len_mean]"
   ]
  },
  {
   "cell_type": "code",
   "execution_count": 400,
   "metadata": {},
   "outputs": [],
   "source": [
    "short_match_X = short_match.drop(columns='result')\n",
    "short_match_y = short_match['result']\n",
    "long_match_X = long_match.drop(columns='result')\n",
    "long_match_y = long_match['result']"
   ]
  },
  {
   "cell_type": "code",
   "execution_count": null,
   "metadata": {},
   "outputs": [],
   "source": [
    "# by this observation we can already see that there is a significant difference between long and short matches."
   ]
  },
  {
   "cell_type": "code",
   "execution_count": 387,
   "metadata": {},
   "outputs": [
    {
     "data": {
      "text/plain": [
       "(array([1, 0, 0, ..., 1, 1, 0]), 0.8132373351839001)"
      ]
     },
     "execution_count": 387,
     "metadata": {},
     "output_type": "execute_result"
    }
   ],
   "source": [
    "fnpl.predict(short_match_X),pl.score(short_match_X,short_match_y)"
   ]
  },
  {
   "cell_type": "code",
   "execution_count": 388,
   "metadata": {},
   "outputs": [
    {
     "data": {
      "text/plain": [
       "(array([0, 1, 1, ..., 0, 1, 0]), 0.601123595505618)"
      ]
     },
     "execution_count": 388,
     "metadata": {},
     "output_type": "execute_result"
    }
   ],
   "source": [
    "fnpl.predict(long_match_X),pl.score(long_match_X,long_match_y)"
   ]
  },
  {
   "cell_type": "code",
   "execution_count": 401,
   "metadata": {},
   "outputs": [],
   "source": [
    "df_fair_shuffle = df_fair.copy()\n",
    "pl_scores = []\n",
    "for i in range(500):\n",
    "    df_fair_shuffle['gamelength'] = np.random.permutation(df_fair['gamelength'].values)\n",
    "    short_match_shuffle = df_fair_shuffle[df_fair_shuffle['gamelength'] <= game_len_mean]\n",
    "    short_match_shuffle_X = short_match_shuffle.drop(columns='result')\n",
    "    short_match_shuffle_y = short_match_shuffle['result']\n",
    "    pl_scores.append(fnpl.score(short_match_shuffle_X, short_match_shuffle_y))"
   ]
  },
  {
   "cell_type": "code",
   "execution_count": 447,
   "metadata": {
    "scrolled": true
   },
   "outputs": [
    {
     "data": {
      "text/plain": [
       "0.0"
      ]
     },
     "execution_count": 447,
     "metadata": {},
     "output_type": "execute_result"
    }
   ],
   "source": [
    "(pl_scores >= fnpl.score(short_match_X, short_match_y)).mean()"
   ]
  },
  {
   "cell_type": "markdown",
   "metadata": {},
   "source": [
    "##### Conclusion\n",
    "Based on the p-value, we reject the null hypothesis and concluded that our model is unfair. The precision for short LOL matches is higher than which of the long LOL matches. This unfariness is expected because we only used data availble at the first 10 mins of the game. The tendency for the team to win could change as the game goes on. Including data after the first 10 mins would boost our prediction on winning of the team. However, these info could be unaviable for some short games, and we want to be able to predict the result of the match as early as possible instead of predicting it only when the game already ends."
   ]
  },
  {
   "cell_type": "code",
   "execution_count": null,
   "metadata": {},
   "outputs": [],
   "source": []
  }
 ],
 "metadata": {
  "kernelspec": {
   "display_name": "Python 3 (ipykernel)",
   "language": "python",
   "name": "python3"
  },
  "language_info": {
   "codemirror_mode": {
    "name": "ipython",
    "version": 3
   },
   "file_extension": ".py",
   "mimetype": "text/x-python",
   "name": "python",
   "nbconvert_exporter": "python",
   "pygments_lexer": "ipython3",
   "version": "3.8.13"
  }
 },
 "nbformat": 4,
 "nbformat_minor": 2
}
